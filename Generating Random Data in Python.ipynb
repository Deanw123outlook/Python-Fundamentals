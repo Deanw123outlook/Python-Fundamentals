{
 "cells": [
  {
   "cell_type": "markdown",
   "metadata": {},
   "source": [
    "## Generating Random Data in Python"
   ]
  },
  {
   "cell_type": "markdown",
   "metadata": {},
   "source": [
    "Generating random data has personally proved very useful for myself enabling me to gain more insight into data analysis. An interesting & useful approach I took when working with different Machine Learning Models, is to generate data inputting into different machine learning models and analysing the inherent mechanics and operations. \n",
    "This is my own personal experience and I am sure for generating random data this may only be the tip of the iceberg for such use cases.\n",
    "\n",
    "Nevertheless, it is important in Python to know how to generate random data and that is exactly what this Notebook will be based on ! Python can generate such random numbers by using the RANDOM MODULE. Below we will first see how to generate a single random number and then extend it to generate a list of random numbers.\n",
    "\n",
    "\n",
    "                                               NOTEBOOK CONTENTS\n",
    "- Import Packages\n",
    "- Generate a Single Random Number\n",
    "- Generate a Random Number within a Range\n",
    "- Generating a List of Random Numbers & Appending(adding!) to Empty List\n",
    "- Generating random Data and inputting into Pandas-Dataframe"
   ]
  },
  {
   "cell_type": "markdown",
   "metadata": {},
   "source": [
    "##### Import Packages"
   ]
  },
  {
   "cell_type": "code",
   "execution_count": 11,
   "metadata": {},
   "outputs": [],
   "source": [
    "import numpy as np #fundamental package for scientific computing in Python.\n",
    "import pandas as pd #data manipulation and analysis\n",
    "import random #generate the pseudo-random variables"
   ]
  },
  {
   "cell_type": "markdown",
   "metadata": {},
   "source": [
    "###### Generating a Single Random Number\n",
    "- The random() method in random module generates a float number between 0 and 1."
   ]
  },
  {
   "cell_type": "code",
   "execution_count": 12,
   "metadata": {},
   "outputs": [
    {
     "name": "stdout",
     "output_type": "stream",
     "text": [
      "<class 'float'>\n",
      "0.4234852744241768\n"
     ]
    }
   ],
   "source": [
    "#Generate Random Number between 0 and 1\n",
    "number = random.random() # random.random() method returns a random float number between 0.0 to 1.0.\n",
    "print(type(number)) #print data type of variable\n",
    "print(number)"
   ]
  },
  {
   "cell_type": "markdown",
   "metadata": {},
   "source": [
    "##### Generating Number within a Range\n",
    "- The randint() method generates a integer between a given range of numbers."
   ]
  },
  {
   "cell_type": "code",
   "execution_count": 13,
   "metadata": {},
   "outputs": [
    {
     "name": "stdout",
     "output_type": "stream",
     "text": [
      "<class 'int'>\n",
      "325\n"
     ]
    }
   ],
   "source": [
    "#Generate Random Integer between given range\n",
    "n = random.randint(0,500) #random.randint() method returns a random integer between the specified integers\n",
    "print(type(n))\n",
    "print(n)"
   ]
  },
  {
   "cell_type": "markdown",
   "metadata": {},
   "source": [
    "##### Generating a List of numbers Using For Loop\n",
    "\n",
    "###### randint ( )\n",
    "\n",
    "We can use the above randint() method along with a for loop to generate a list of numbers. We first create an empty list and then append the random numbers generated to the empty list one by one.\n",
    "\n",
    "###### range( )\n",
    "\n",
    "Parameter Values | Parameter | Description\n",
    "\n",
    "- start | Optional. An integer number specifying at which position to start. Default is 0\n",
    "- stop | Required. An integer number specifying at which position to stop (not included).\n",
    "- step | Optional. An integer number specifying the incrementation. Default is 1"
   ]
  },
  {
   "cell_type": "code",
   "execution_count": 14,
   "metadata": {},
   "outputs": [
    {
     "name": "stdout",
     "output_type": "stream",
     "text": [
      "<class 'list'>\n",
      "[145, 103, 152, 5, 76, 158, 200, 65, 168, 179, 122, 156, 106, 137, 57, 15, 18, 42, 158, 158, 41, 200, 40, 168, 154]\n"
     ]
    }
   ],
   "source": [
    "#Generate List of Numbers using a for loop\n",
    "#Create Empty List\n",
    "randomlist = []\n",
    "#Initiate for loop to generate random numbers\n",
    "for i in range(0,25): #range() function returns a sequence of numbers, starting from 0 by default, and increments by 1 (by default), and stops before a specified number\n",
    "    n = random.randint(1,200) #random.randint() method returns a random integer between the specified integers.\n",
    "    randomlist.append(n) #append(add) to empty list\n",
    "\n",
    "print(type(randomlist))\n",
    "print(randomlist)"
   ]
  },
  {
   "cell_type": "markdown",
   "metadata": {},
   "source": [
    "##### Using random.sample()\n",
    "- We can also use the sample() method available in random module to directly generate a list of random numbers.Here we specify a range and give how many random numbers we need to generate."
   ]
  },
  {
   "cell_type": "code",
   "execution_count": 15,
   "metadata": {},
   "outputs": [
    {
     "name": "stdout",
     "output_type": "stream",
     "text": [
      "<class 'list'>\n",
      "[2773, 1128, 2326, 1169, 2247, 2113, 2788, 1466, 2772, 2747, 2282, 2266, 520, 2960, 1138, 840, 1866, 2373, 1912, 214, 2114, 357, 1675, 2548, 258]\n"
     ]
    }
   ],
   "source": [
    "#Generate 25 random numbers between 10 and 30\n",
    "randomlist = random.sample(range(0, 3000), 25) #Python’s random module provides random.sample() function for random sampling and randomly pick more than one element from the list without repeating elements.\n",
    "print(type(randomlist))\n",
    "print(randomlist)"
   ]
  },
  {
   "cell_type": "markdown",
   "metadata": {},
   "source": [
    "##### Generating random data and inputting into Pandas-dataframe"
   ]
  },
  {
   "cell_type": "code",
   "execution_count": 17,
   "metadata": {},
   "outputs": [
    {
     "name": "stdout",
     "output_type": "stream",
     "text": [
      "<class 'pandas.core.frame.DataFrame'>\n",
      "RangeIndex: 1000 entries, 0 to 999\n",
      "Data columns (total 6 columns):\n",
      " #   Column  Non-Null Count  Dtype\n",
      "---  ------  --------------  -----\n",
      " 0   X1      1000 non-null   int64\n",
      " 1   X2      1000 non-null   int64\n",
      " 2   X3      1000 non-null   int64\n",
      " 3   X4      1000 non-null   int64\n",
      " 4   X5      1000 non-null   int64\n",
      " 5   X6      1000 non-null   int64\n",
      "dtypes: int64(6)\n",
      "memory usage: 47.0 KB\n"
     ]
    },
    {
     "data": {
      "text/html": [
       "<div>\n",
       "<style scoped>\n",
       "    .dataframe tbody tr th:only-of-type {\n",
       "        vertical-align: middle;\n",
       "    }\n",
       "\n",
       "    .dataframe tbody tr th {\n",
       "        vertical-align: top;\n",
       "    }\n",
       "\n",
       "    .dataframe thead th {\n",
       "        text-align: right;\n",
       "    }\n",
       "</style>\n",
       "<table border=\"1\" class=\"dataframe\">\n",
       "  <thead>\n",
       "    <tr style=\"text-align: right;\">\n",
       "      <th></th>\n",
       "      <th>X1</th>\n",
       "      <th>X2</th>\n",
       "      <th>X3</th>\n",
       "      <th>X4</th>\n",
       "      <th>X5</th>\n",
       "      <th>X6</th>\n",
       "    </tr>\n",
       "  </thead>\n",
       "  <tbody>\n",
       "    <tr>\n",
       "      <th>0</th>\n",
       "      <td>17</td>\n",
       "      <td>196</td>\n",
       "      <td>431</td>\n",
       "      <td>207</td>\n",
       "      <td>61</td>\n",
       "      <td>2152</td>\n",
       "    </tr>\n",
       "    <tr>\n",
       "      <th>1</th>\n",
       "      <td>5</td>\n",
       "      <td>206</td>\n",
       "      <td>498</td>\n",
       "      <td>999</td>\n",
       "      <td>23</td>\n",
       "      <td>4783</td>\n",
       "    </tr>\n",
       "    <tr>\n",
       "      <th>2</th>\n",
       "      <td>7</td>\n",
       "      <td>277</td>\n",
       "      <td>440</td>\n",
       "      <td>664</td>\n",
       "      <td>30</td>\n",
       "      <td>3019</td>\n",
       "    </tr>\n",
       "    <tr>\n",
       "      <th>3</th>\n",
       "      <td>25</td>\n",
       "      <td>347</td>\n",
       "      <td>316</td>\n",
       "      <td>181</td>\n",
       "      <td>90</td>\n",
       "      <td>2290</td>\n",
       "    </tr>\n",
       "    <tr>\n",
       "      <th>4</th>\n",
       "      <td>18</td>\n",
       "      <td>493</td>\n",
       "      <td>422</td>\n",
       "      <td>737</td>\n",
       "      <td>7</td>\n",
       "      <td>3452</td>\n",
       "    </tr>\n",
       "  </tbody>\n",
       "</table>\n",
       "</div>"
      ],
      "text/plain": [
       "   X1   X2   X3   X4  X5    X6\n",
       "0  17  196  431  207  61  2152\n",
       "1   5  206  498  999  23  4783\n",
       "2   7  277  440  664  30  3019\n",
       "3  25  347  316  181  90  2290\n",
       "4  18  493  422  737   7  3452"
      ]
     },
     "metadata": {},
     "output_type": "display_data"
    },
    {
     "data": {
      "text/plain": [
       "None"
      ]
     },
     "metadata": {},
     "output_type": "display_data"
    },
    {
     "data": {
      "text/html": [
       "<div>\n",
       "<style scoped>\n",
       "    .dataframe tbody tr th:only-of-type {\n",
       "        vertical-align: middle;\n",
       "    }\n",
       "\n",
       "    .dataframe tbody tr th {\n",
       "        vertical-align: top;\n",
       "    }\n",
       "\n",
       "    .dataframe thead th {\n",
       "        text-align: right;\n",
       "    }\n",
       "</style>\n",
       "<table border=\"1\" class=\"dataframe\">\n",
       "  <thead>\n",
       "    <tr style=\"text-align: right;\">\n",
       "      <th></th>\n",
       "      <th>X1</th>\n",
       "      <th>X2</th>\n",
       "      <th>X3</th>\n",
       "      <th>X4</th>\n",
       "      <th>X5</th>\n",
       "      <th>X6</th>\n",
       "    </tr>\n",
       "  </thead>\n",
       "  <tbody>\n",
       "    <tr>\n",
       "      <th>count</th>\n",
       "      <td>1000.000000</td>\n",
       "      <td>1000.000000</td>\n",
       "      <td>1000.000000</td>\n",
       "      <td>1000.000000</td>\n",
       "      <td>1000.000000</td>\n",
       "      <td>1000.000000</td>\n",
       "    </tr>\n",
       "    <tr>\n",
       "      <th>mean</th>\n",
       "      <td>25.413000</td>\n",
       "      <td>250.650000</td>\n",
       "      <td>370.717000</td>\n",
       "      <td>759.120000</td>\n",
       "      <td>51.423000</td>\n",
       "      <td>3481.688000</td>\n",
       "    </tr>\n",
       "    <tr>\n",
       "      <th>std</th>\n",
       "      <td>14.742855</td>\n",
       "      <td>145.689577</td>\n",
       "      <td>72.152303</td>\n",
       "      <td>440.609628</td>\n",
       "      <td>29.253544</td>\n",
       "      <td>849.956097</td>\n",
       "    </tr>\n",
       "    <tr>\n",
       "      <th>min</th>\n",
       "      <td>0.000000</td>\n",
       "      <td>0.000000</td>\n",
       "      <td>250.000000</td>\n",
       "      <td>1.000000</td>\n",
       "      <td>0.000000</td>\n",
       "      <td>2051.000000</td>\n",
       "    </tr>\n",
       "    <tr>\n",
       "      <th>25%</th>\n",
       "      <td>13.000000</td>\n",
       "      <td>123.000000</td>\n",
       "      <td>307.750000</td>\n",
       "      <td>364.000000</td>\n",
       "      <td>25.000000</td>\n",
       "      <td>2764.750000</td>\n",
       "    </tr>\n",
       "    <tr>\n",
       "      <th>50%</th>\n",
       "      <td>25.000000</td>\n",
       "      <td>244.500000</td>\n",
       "      <td>369.000000</td>\n",
       "      <td>750.500000</td>\n",
       "      <td>51.000000</td>\n",
       "      <td>3452.500000</td>\n",
       "    </tr>\n",
       "    <tr>\n",
       "      <th>75%</th>\n",
       "      <td>38.000000</td>\n",
       "      <td>376.250000</td>\n",
       "      <td>432.250000</td>\n",
       "      <td>1162.000000</td>\n",
       "      <td>77.000000</td>\n",
       "      <td>4230.000000</td>\n",
       "    </tr>\n",
       "    <tr>\n",
       "      <th>max</th>\n",
       "      <td>50.000000</td>\n",
       "      <td>500.000000</td>\n",
       "      <td>500.000000</td>\n",
       "      <td>1500.000000</td>\n",
       "      <td>100.000000</td>\n",
       "      <td>5000.000000</td>\n",
       "    </tr>\n",
       "  </tbody>\n",
       "</table>\n",
       "</div>"
      ],
      "text/plain": [
       "                X1           X2           X3           X4           X5  \\\n",
       "count  1000.000000  1000.000000  1000.000000  1000.000000  1000.000000   \n",
       "mean     25.413000   250.650000   370.717000   759.120000    51.423000   \n",
       "std      14.742855   145.689577    72.152303   440.609628    29.253544   \n",
       "min       0.000000     0.000000   250.000000     1.000000     0.000000   \n",
       "25%      13.000000   123.000000   307.750000   364.000000    25.000000   \n",
       "50%      25.000000   244.500000   369.000000   750.500000    51.000000   \n",
       "75%      38.000000   376.250000   432.250000  1162.000000    77.000000   \n",
       "max      50.000000   500.000000   500.000000  1500.000000   100.000000   \n",
       "\n",
       "                X6  \n",
       "count  1000.000000  \n",
       "mean   3481.688000  \n",
       "std     849.956097  \n",
       "min    2051.000000  \n",
       "25%    2764.750000  \n",
       "50%    3452.500000  \n",
       "75%    4230.000000  \n",
       "max    5000.000000  "
      ]
     },
     "metadata": {},
     "output_type": "display_data"
    },
    {
     "data": {
      "text/plain": [
       "(1000, 6)"
      ]
     },
     "metadata": {},
     "output_type": "display_data"
    }
   ],
   "source": [
    "#Create empty lists for indepedent variabes\n",
    "X1 = []\n",
    "X2 = []\n",
    "X3 = []\n",
    "X4 = []\n",
    "X5 = []\n",
    "X6 = []\n",
    "\n",
    "#Initiate for loop to generate data\n",
    "for n in range(0,1000):\n",
    "    number1 = random.randint(0,50)\n",
    "    X1.append(number1)\n",
    "    number2 = random.randint(0,500)\n",
    "    X2.append(number2)\n",
    "    number3 = random.randint(250,500)\n",
    "    X3.append(number3)\n",
    "    number4 = random.randint(0,1500)\n",
    "    X4.append(number4)\n",
    "    number5 = random.randint(0,100)\n",
    "    X5.append(number5)\n",
    "    number6 = random.randint(2050,5000)\n",
    "    X6.append(number6)\n",
    "    \n",
    "#Create DataFrame including all above features and randomly generated data\n",
    "df = pd.DataFrame ({'X1':X1,'X2':X2,'X3':X3,'X4':X4,'X5':X5,'X6':X6})\n",
    "#create a copy of original dataframe ...(good practice)\n",
    "original_dataframe = df.copy(deep = True)\n",
    "\n",
    "#Display head of dataframe, dataset information, summary information & dataframe size\n",
    "display(df.head(), df.info(), df.describe(), df.shape)"
   ]
  },
  {
   "cell_type": "code",
   "execution_count": null,
   "metadata": {},
   "outputs": [],
   "source": []
  }
 ],
 "metadata": {
  "kernelspec": {
   "display_name": "Python 3",
   "language": "python",
   "name": "python3"
  },
  "language_info": {
   "codemirror_mode": {
    "name": "ipython",
    "version": 3
   },
   "file_extension": ".py",
   "mimetype": "text/x-python",
   "name": "python",
   "nbconvert_exporter": "python",
   "pygments_lexer": "ipython3",
   "version": "3.8.3"
  }
 },
 "nbformat": 4,
 "nbformat_minor": 4
}
