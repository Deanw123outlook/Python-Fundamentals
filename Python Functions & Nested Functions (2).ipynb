{
 "cells": [
  {
   "cell_type": "markdown",
   "metadata": {},
   "source": [
    "### Python Functions & Nested Functions (2)"
   ]
  },
  {
   "cell_type": "markdown",
   "metadata": {},
   "source": [
    "A function is a block of code which only runs when it is called. You can pass data, known as parameters, into a function. A function can return data as a result.\n",
    "\n",
    "                                     Python Function Keyword Theory & Practice\n",
    "In Python, a variable declared outside of the function or in global scope is known as a global variable. This means that a global variable can be accessed inside or outside of the function.\n",
    "\n",
    "A variable declared inside the function's body or in the local scope is known as a local variable.\n",
    "\n",
    "Nonlocal variables are used in nested functions whose local scope is not defined. This means that the variable can be neither in the local nor the global scope.                                      "
   ]
  },
  {
   "cell_type": "code",
   "execution_count": 133,
   "metadata": {},
   "outputs": [],
   "source": [
    "def func_one():\n",
    "    x = 10\n",
    "    if x == 10: # Python equality operators (==, !=) are used to compare objects based on their values\n",
    "        print('Hello world!')\n",
    "    else:\n",
    "        print(\"Invalid\")"
   ]
  },
  {
   "cell_type": "code",
   "execution_count": 134,
   "metadata": {},
   "outputs": [
    {
     "name": "stdout",
     "output_type": "stream",
     "text": [
      "Invalid\n"
     ]
    }
   ],
   "source": [
    "#Testing function\n",
    "func_one()"
   ]
  },
  {
   "cell_type": "markdown",
   "metadata": {},
   "source": [
    "Note\n",
    "\n",
    "Regarding the above function, if we attempt to print the variable x outside of the function the will generate an error. This is because x is declared within the variable. In python we can use the global keyword to resolve this in cases where we need too. See below syntax !"
   ]
  },
  {
   "cell_type": "code",
   "execution_count": 65,
   "metadata": {},
   "outputs": [],
   "source": [
    "def func_two():\n",
    "    global x\n",
    "    x = 31\n",
    "    if x == 31:\n",
    "        print('Hello world!')"
   ]
  },
  {
   "cell_type": "code",
   "execution_count": 66,
   "metadata": {},
   "outputs": [
    {
     "name": "stdout",
     "output_type": "stream",
     "text": [
      "Hello world!\n",
      "Global Keyword succesful: 31\n"
     ]
    }
   ],
   "source": [
    "#Testing function\n",
    "func_two()\n",
    "print(\"Global Keyword succesful:\", x) #The global keyword declared in the above function enables us to call this variable outside of the function !"
   ]
  },
  {
   "cell_type": "code",
   "execution_count": 125,
   "metadata": {},
   "outputs": [],
   "source": [
    "v = \"OLD-PASSWORD\"\n",
    "def func_three():\n",
    "    global v  \n",
    "    v = \"Hello World!\"\n",
    "    print(\"Inside Function:\", v)"
   ]
  },
  {
   "cell_type": "code",
   "execution_count": 126,
   "metadata": {},
   "outputs": [
    {
     "name": "stdout",
     "output_type": "stream",
     "text": [
      "Before:  OLD-PASSWORD\n",
      "Inside Function: Hello World!\n",
      "After:  Hello World!\n"
     ]
    }
   ],
   "source": [
    "#Testing Function\n",
    "print(\"Before: \", v)\n",
    "func_three()\n",
    "print(\"After: \", v)"
   ]
  },
  {
   "cell_type": "code",
   "execution_count": 135,
   "metadata": {},
   "outputs": [],
   "source": [
    "x = \"Demonstation\" # declare variable with string\n",
    "def parent_func():\n",
    "    x = 10\n",
    "    y = 34\n",
    "    print(\"Parent Function\")\n",
    "    print(\"x\",x)\n",
    "    print(\"y\",y)\n",
    "    def child_func():\n",
    "        nonlocal x #The nonlocal keyword is used to work with variables inside NESTED functions, where the variable should not belong to the inner function\n",
    "        print(\"Child Function\") #ie. Nested Function\n",
    "        x += 200\n",
    "        print(\"x\",x)\n",
    "        nonlocal y\n",
    "        x = x + y + 200\n",
    "        print(\"x\",x)\n",
    "    child_func() #If we do not call the nested function when we call the parent function no values from the nested function will print\n",
    "    #indentation is key for the nested function call"
   ]
  },
  {
   "cell_type": "code",
   "execution_count": 136,
   "metadata": {},
   "outputs": [
    {
     "name": "stdout",
     "output_type": "stream",
     "text": [
      "Before function x =  Demonstation\n",
      "Parent Function\n",
      "x 10\n",
      "y 34\n",
      "Child Function\n",
      "x 210\n",
      "x 444\n",
      "After function x =  Demonstation\n"
     ]
    }
   ],
   "source": [
    "#Testing Function\n",
    "print(\"Before function x = \", x)\n",
    "parent_func()\n",
    "print(\"After function x = \", x)"
   ]
  },
  {
   "cell_type": "code",
   "execution_count": null,
   "metadata": {},
   "outputs": [],
   "source": []
  },
  {
   "cell_type": "code",
   "execution_count": null,
   "metadata": {},
   "outputs": [],
   "source": []
  }
 ],
 "metadata": {
  "kernelspec": {
   "display_name": "Python 3",
   "language": "python",
   "name": "python3"
  },
  "language_info": {
   "codemirror_mode": {
    "name": "ipython",
    "version": 3
   },
   "file_extension": ".py",
   "mimetype": "text/x-python",
   "name": "python",
   "nbconvert_exporter": "python",
   "pygments_lexer": "ipython3",
   "version": "3.8.3"
  }
 },
 "nbformat": 4,
 "nbformat_minor": 4
}
