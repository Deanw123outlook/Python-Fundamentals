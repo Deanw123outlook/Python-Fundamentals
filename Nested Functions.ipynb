{
 "cells": [
  {
   "cell_type": "markdown",
   "metadata": {},
   "source": [
    "# Python Nested Functions\n",
    "IMPORTANT NOTE\n",
    "\n",
    "A return statement only exists inside the function & is how functions sends back the result to the orginal caller of the function !\n",
    "\n",
    "Print statement is for printing information out of the program whereas the reurn statement sends back to result to the original caller of the function !"
   ]
  },
  {
   "cell_type": "code",
   "execution_count": 20,
   "metadata": {},
   "outputs": [],
   "source": [
    "def func1():\n",
    "    x = 10\n",
    "    def insidefunc1():\n",
    "        nonlocal x #The nonlocal keyword is used to work with variables inside nested functions, where the variable should not belong to the inner function.\n",
    "        x = 200\n",
    "        print(x)\n",
    "    insidefunc1()\n",
    "    print()"
   ]
  },
  {
   "cell_type": "code",
   "execution_count": 25,
   "metadata": {},
   "outputs": [
    {
     "name": "stdout",
     "output_type": "stream",
     "text": [
      "200\n",
      "\n",
      "None\n",
      "200\n",
      "\n"
     ]
    }
   ],
   "source": [
    "print(func1())# see note below\n",
    "func1()"
   ]
  },
  {
   "cell_type": "markdown",
   "metadata": {},
   "source": [
    "Study the function (func1) and we can see declared within thia function is a print call at the end of this function. "
   ]
  },
  {
   "cell_type": "code",
   "execution_count": 30,
   "metadata": {},
   "outputs": [],
   "source": [
    "#Define variable x\n",
    "#x = 100\n",
    "#Iniatite Empty List\n",
    "list = []\n",
    "\n",
    "#Develop Function\n",
    "def funcnum():\n",
    "    x = 100\n",
    "    #print(x)\n",
    "    def inner_func():\n",
    "        nonlocal x\n",
    "        x = 25\n",
    "        list.append(x)\n",
    "    inner_func()\n",
    "    print(x)"
   ]
  },
  {
   "cell_type": "code",
   "execution_count": 31,
   "metadata": {},
   "outputs": [
    {
     "name": "stdout",
     "output_type": "stream",
     "text": [
      "25\n",
      "[25]\n"
     ]
    }
   ],
   "source": [
    "funcnum()\n",
    "print(list)"
   ]
  },
  {
   "cell_type": "code",
   "execution_count": 32,
   "metadata": {},
   "outputs": [],
   "source": [
    "def parent():\n",
    "    x = 10\n",
    "    y = 20\n",
    "    print(x)\n",
    "    print(y)\n",
    "    def Teenager():\n",
    "        nonlocal x\n",
    "        nonlocal y\n",
    "        x = 25\n",
    "        y = 50\n",
    "        print(x)\n",
    "        print(y)\n",
    "    Teenager()\n",
    "    print(x)\n",
    "    print(y)"
   ]
  },
  {
   "cell_type": "code",
   "execution_count": 33,
   "metadata": {},
   "outputs": [
    {
     "name": "stdout",
     "output_type": "stream",
     "text": [
      "10\n",
      "20\n",
      "25\n",
      "50\n",
      "25\n",
      "50\n",
      "None\n"
     ]
    }
   ],
   "source": [
    "print(parent())"
   ]
  },
  {
   "cell_type": "code",
   "execution_count": 34,
   "metadata": {},
   "outputs": [
    {
     "name": "stdout",
     "output_type": "stream",
     "text": [
      "Parent Function : 300\n",
      "Child Function : 75\n",
      "Parent Function : 300\n",
      "Child Function : 75\n",
      "Functions have been succesfully implemented None !\n"
     ]
    }
   ],
   "source": [
    "#Initiate x & y variables\n",
    "x = 75\n",
    "y = 125\n",
    "\n",
    "#Writing Nested Function\n",
    "def parent1():\n",
    "    x = 100\n",
    "    y = 200\n",
    "    print('Parent Function :', x + y)\n",
    "    def Teenager1():\n",
    "        nonlocal x\n",
    "        nonlocal y\n",
    "        x = 25\n",
    "        y = 50\n",
    "        print('Child Function :', x + y)\n",
    "    Teenager1()\n",
    "    \n",
    "#Call the function\n",
    "parent1()\n",
    "\n",
    "#Format()\n",
    "print('Functions have been succesfully implemented {} !'.format(parent1()))"
   ]
  },
  {
   "cell_type": "code",
   "execution_count": null,
   "metadata": {},
   "outputs": [],
   "source": []
  }
 ],
 "metadata": {
  "kernelspec": {
   "display_name": "Python 3",
   "language": "python",
   "name": "python3"
  },
  "language_info": {
   "codemirror_mode": {
    "name": "ipython",
    "version": 3
   },
   "file_extension": ".py",
   "mimetype": "text/x-python",
   "name": "python",
   "nbconvert_exporter": "python",
   "pygments_lexer": "ipython3",
   "version": "3.8.3"
  }
 },
 "nbformat": 4,
 "nbformat_minor": 4
}
