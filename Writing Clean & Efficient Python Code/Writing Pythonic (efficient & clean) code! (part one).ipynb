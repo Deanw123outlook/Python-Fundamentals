{
 "cells": [
  {
   "cell_type": "markdown",
   "metadata": {},
   "source": [
    "# Writing Pythonic (efficient & clean) code!"
   ]
  },
  {
   "cell_type": "markdown",
   "metadata": {},
   "source": [
    "This Notebook will focus on best practice when writing python code or better known among pythonists as PYTHONIC code. The aim is to build up key skills for writing efficient, clean and readible code for future projects and employment. This notebook will be updated as key concepts and learning is completed."
   ]
  },
  {
   "cell_type": "markdown",
   "metadata": {},
   "source": [
    "###### Task 1 (ex. Comparing PYTHONIC with non-pythonic Code)"
   ]
  },
  {
   "cell_type": "markdown",
   "metadata": {},
   "source": [
    "The following code will perform the same task in three different ways. The task requires the collection of names from the random list of names which have six or more letters."
   ]
  },
  {
   "cell_type": "code",
   "execution_count": 1,
   "metadata": {},
   "outputs": [],
   "source": [
    "#declare randome list of names\n",
    "names = ['John','Caroline','Gavin','Dean','Lisa']"
   ]
  },
  {
   "cell_type": "markdown",
   "metadata": {},
   "source": [
    "Method 1 (NON-PYTHONIC) CODE"
   ]
  },
  {
   "cell_type": "code",
   "execution_count": 3,
   "metadata": {},
   "outputs": [
    {
     "name": "stdout",
     "output_type": "stream",
     "text": [
      "['Caroline']\n"
     ]
    }
   ],
   "source": [
    "# (while loop & if statement)\n",
    "\n",
    "i = 0 #initiate variable i\n",
    "new_list = [] #declare empty \n",
    "\n",
    "while i < len(names):#Run the while where i is less lenght(random list of names)\n",
    "    if (len(names[i]) >= 6): #if statement (condition)\n",
    "        new_list.append(names[i]) #append adds element to list\n",
    "    i += 1 #+= is an assignment operator in Python that adds the right side operand’s value to the left side operand and assigns the result to the left operand.\n",
    "print(new_list)    "
   ]
  },
  {
   "cell_type": "markdown",
   "metadata": {},
   "source": [
    "METHOD 2 (PYTHONIC/NON-PYTHONIC) CODE"
   ]
  },
  {
   "cell_type": "code",
   "execution_count": 6,
   "metadata": {},
   "outputs": [
    {
     "name": "stdout",
     "output_type": "stream",
     "text": [
      "['Caroline']\n"
     ]
    }
   ],
   "source": [
    "# (for loop & if statement)\n",
    "better_list = []\n",
    "for x in names:\n",
    "    if len(x) >= 6:\n",
    "        better_list.append(x)\n",
    "print(better_list)"
   ]
  },
  {
   "cell_type": "markdown",
   "metadata": {},
   "source": [
    "METHOD 3 (PYTHONIC) CODE"
   ]
  },
  {
   "cell_type": "code",
   "execution_count": 7,
   "metadata": {},
   "outputs": [
    {
     "name": "stdout",
     "output_type": "stream",
     "text": [
      "['Caroline']\n"
     ]
    }
   ],
   "source": [
    "# LIST comprehension\n",
    "list_comprehension = [x for x in names if len(x) >= 6]\n",
    "print(list_comprehension)"
   ]
  },
  {
   "cell_type": "code",
   "execution_count": null,
   "metadata": {},
   "outputs": [],
   "source": []
  }
 ],
 "metadata": {
  "kernelspec": {
   "display_name": "Python 3",
   "language": "python",
   "name": "python3"
  },
  "language_info": {
   "codemirror_mode": {
    "name": "ipython",
    "version": 3
   },
   "file_extension": ".py",
   "mimetype": "text/x-python",
   "name": "python",
   "nbconvert_exporter": "python",
   "pygments_lexer": "ipython3",
   "version": "3.8.3"
  }
 },
 "nbformat": 4,
 "nbformat_minor": 4
}
