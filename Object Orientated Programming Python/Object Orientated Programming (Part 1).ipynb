{
 "cells": [
  {
   "cell_type": "markdown",
   "metadata": {},
   "source": [
    "### Object Orientated Programming in Python\n",
    "\n",
    "Objects in Python\n",
    "- Everything in Python is an object\n",
    "- Every object has a class\n",
    "\n",
    "NOTE\n",
    "- Use type() to find the class of an object\n",
    "- Use dir() to list all the attributes and methods that an object has, by calling this on the object name\n",
    "- Calling this function in the console will show all the documentation for an object\n",
    "\n",
    "Objects : state + behaviour\n",
    "\n",
    "Classes : blueprint for objects outlining possible states and behaviours\n",
    "\n"
   ]
  },
  {
   "cell_type": "markdown",
   "metadata": {},
   "source": [
    "###### Create an empty class"
   ]
  },
  {
   "cell_type": "code",
   "execution_count": 12,
   "metadata": {},
   "outputs": [],
   "source": [
    "#Create an empty class\n",
    "class ABCDEF:\n",
    "    # code block\n",
    "    pass # pass keyword enables us to create the empty class"
   ]
  },
  {
   "cell_type": "markdown",
   "metadata": {},
   "source": [
    "###### Create an object from an existing class"
   ]
  },
  {
   "cell_type": "code",
   "execution_count": 13,
   "metadata": {},
   "outputs": [
    {
     "name": "stdout",
     "output_type": "stream",
     "text": [
      "Help on ABCDEF in module __main__ object:\n",
      "\n",
      "class ABCDEF(builtins.object)\n",
      " |  Data descriptors defined here:\n",
      " |  \n",
      " |  __dict__\n",
      " |      dictionary for instance variables (if defined)\n",
      " |  \n",
      " |  __weakref__\n",
      " |      list of weak references to the object (if defined)\n",
      "\n"
     ]
    }
   ],
   "source": [
    "#Create a new object from the above existing class\n",
    "new_object = ABCDEF()\n",
    "type(new_object) # finds the class of the object\n",
    "dir(new_object) # calling this function lists all the exisitng attributes and methods than an object has\n",
    "help(new_object) # help() function will show any existing documentation for the object"
   ]
  },
  {
   "cell_type": "markdown",
   "metadata": {},
   "source": [
    "###### Add methods to existing class\n",
    "- method defintion = function defintion within the class\n",
    "- use self keyword as the first argument in the method defintion"
   ]
  },
  {
   "cell_type": "code",
   "execution_count": 23,
   "metadata": {},
   "outputs": [],
   "source": [
    "class Customer: # create a new class\n",
    "    def Identification(self,name): # add a method to this class\n",
    "        print(\"Customer-Name:\",name)\n",
    "    def Address(self,address): # add a method to this class\n",
    "        print(\"Customer-Address:\",address)"
   ]
  },
  {
   "cell_type": "markdown",
   "metadata": {},
   "source": [
    "Note\n",
    "\n",
    "Remember a method is a function attached to an object\n",
    "\n",
    "When calling the method on an object IGNORE self ! Objects of a class dont yet exist when a class is being defined, however, we often need a way to refer to the data of a particular object within class definition. This is the purpose of the self keyword ! - stand in for a particular object used in class defintion !"
   ]
  },
  {
   "cell_type": "code",
   "execution_count": 24,
   "metadata": {},
   "outputs": [
    {
     "name": "stdout",
     "output_type": "stream",
     "text": [
      "Customer-Name: Dean Patrick Watters\n",
      "Customer-Address: Dublin\n"
     ]
    }
   ],
   "source": [
    "customer_1 = Customer() # create a new object from the exisitng class \n",
    "customer_1.Identification(\"Dean Patrick Watters\") # call the method from the exisitng class on the new object\n",
    "customer_1.Address(\"Dublin\")"
   ]
  },
  {
   "cell_type": "markdown",
   "metadata": {},
   "source": [
    "Note\n",
    "\n",
    "self should be the first argument of any method. We can use it to access attributes and call other methods from eithin the class defintion even with no objects created !"
   ]
  },
  {
   "cell_type": "markdown",
   "metadata": {},
   "source": [
    "###### Add an attribute to a class"
   ]
  },
  {
   "cell_type": "code",
   "execution_count": 31,
   "metadata": {},
   "outputs": [],
   "source": [
    "class Car:\n",
    "    def type(self,name):\n",
    "        print(\"Car-Type :\", name)\n",
    "        self.name = name # create attriubute when we call this method on a future object"
   ]
  },
  {
   "cell_type": "code",
   "execution_count": 32,
   "metadata": {},
   "outputs": [
    {
     "name": "stdout",
     "output_type": "stream",
     "text": [
      "Car-Type : Toyota\n",
      "Toyota\n"
     ]
    }
   ],
   "source": [
    "car = Car() # create new object\n",
    "car.type(\"Toyota\") # call the class method on new object\n",
    "print(car.name)"
   ]
  },
  {
   "cell_type": "code",
   "execution_count": null,
   "metadata": {},
   "outputs": [],
   "source": []
  }
 ],
 "metadata": {
  "kernelspec": {
   "display_name": "Python 3",
   "language": "python",
   "name": "python3"
  },
  "language_info": {
   "codemirror_mode": {
    "name": "ipython",
    "version": 3
   },
   "file_extension": ".py",
   "mimetype": "text/x-python",
   "name": "python",
   "nbconvert_exporter": "python",
   "pygments_lexer": "ipython3",
   "version": "3.8.3"
  }
 },
 "nbformat": 4,
 "nbformat_minor": 4
}
