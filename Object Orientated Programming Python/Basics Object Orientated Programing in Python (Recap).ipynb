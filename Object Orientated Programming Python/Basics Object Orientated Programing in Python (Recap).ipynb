{
 "cells": [
  {
   "cell_type": "markdown",
   "metadata": {},
   "source": [
    "### Object Oriented Programing in Python (Recap)"
   ]
  },
  {
   "cell_type": "markdown",
   "metadata": {},
   "source": [
    "###### Constructor\n",
    "- Add data to an object when creating it\n",
    "- Constructor init() method is called every time and object is created\n",
    "\n",
    "Before proceeding it is useful to know the following:\n",
    "\n",
    "Constructor\n",
    "- Makes it easire to know all the attributes\n",
    "- Attributes are created when the object is created\n",
    "- More usable and maintainable code\n",
    "\n",
    "\n",
    "BEST PRACTICES for writing classes\n",
    "- Initialize attributes using init() method\n",
    "- CamelCase for class defintion\n",
    "- low_snake_case for function and attribute defintion\n",
    "- Keep the self argument in Python as self\n",
    "- Use docstrings\n"
   ]
  },
  {
   "cell_type": "code",
   "execution_count": 35,
   "metadata": {},
   "outputs": [],
   "source": [
    "# create a class with a pre-defined attribute\n",
    "class CustomerData:\n",
    "    NAME_ATTRIBUTE = \"UNKNOWN\"\n",
    "    ADDRESS_ATTRIBUTE = \"UNKNOWN\"\n",
    "    SALARY_ATTRIBUTE = 25000 # pre-defined class attribute and value (global variable within the class)\n",
    "    MINIMUM_AMOUNT_SPENT = 2000\n",
    "    def __init__(self,name,address,salary,spent):\n",
    "        # if-else statement \n",
    "        if name == CustomerData.NAME_ATTRIBUTE:\n",
    "            self.name = CustomerData.NAME_ATTRIBUTE\n",
    "        else:\n",
    "            self.name = name\n",
    "        # if-else statement\n",
    "        if address == CustomerData.ADDRESS_ATTRIBUTE:\n",
    "            self.address = CustomerData.ADDRESS_ATTRIBUTE\n",
    "        else:\n",
    "            self.address = address\n",
    "        # if-else statement  \n",
    "        if salary >= CustomerData.SALARY_ATTRIBUTE:\n",
    "            self.salary = salary\n",
    "        else:\n",
    "            self.salary = EmployeeInfo.SALARY_ATTRIBUTE\n",
    "        # if-else statement\n",
    "        if spent >= CustomerData.MINIMUM_AMOUNT_SPENT:\n",
    "            self.spent = spent\n",
    "        else:\n",
    "            self.spent = CustomerData.MINIMUM_AMOUNT_SPENT\n",
    "        # print the attributes of the objects based on the above logic\n",
    "        print(self.name) # print \n",
    "        print(self.address)\n",
    "        print(self.salary)\n",
    "        print(self.spent)"
   ]
  },
  {
   "cell_type": "code",
   "execution_count": 36,
   "metadata": {},
   "outputs": [
    {
     "name": "stdout",
     "output_type": "stream",
     "text": [
      "UNKNOWN\n",
      "UNKNOWN\n",
      "50000\n",
      "7464\n"
     ]
    }
   ],
   "source": [
    "# create an object testing above pre-defined classes and values\n",
    "cm1 = CustomerData(\"UNKNOWN\",\"UNKNOWN\",50000,7464)\n",
    "#print(emp1.SALARY_ATTRIBUTE)"
   ]
  },
  {
   "cell_type": "markdown",
   "metadata": {},
   "source": [
    "###### Class Attributes\n",
    "Why use class attributes ?\n",
    "- min/max values for attributes\n",
    "- commonly used values for classes for example defining PI in maths this value never changes !"
   ]
  },
  {
   "cell_type": "markdown",
   "metadata": {},
   "source": [
    "The above code is not useful in terms of the class attributes we have defined in this context if you focus on the code you will see this! HOWEVER it is useful to understand how we can input pre-defined attributes into our class for later usecase. Next will be the implementation of a user interface which we can then really see the effectiveness of having predifned attributes and values in the case of missing data."
   ]
  },
  {
   "cell_type": "markdown",
   "metadata": {},
   "source": [
    "### Inheritance\n",
    "Class Inheritence is a mechanism in which we define a new class that gets all the functionality from an already existing class + some new functionality without re-implementing the code.\n",
    "\n",
    "Inheritance represents and \"is - a\" relationship !"
   ]
  },
  {
   "cell_type": "code",
   "execution_count": 37,
   "metadata": {},
   "outputs": [],
   "source": [
    "# Create a new class from the above existing class using INHERITENCE\n",
    "class CustomerList(CustomerData): # we pass the name of the existing class into the new class (INHERITENCE)\n",
    "    pass # pass enables us to create an empty class"
   ]
  },
  {
   "cell_type": "code",
   "execution_count": 38,
   "metadata": {},
   "outputs": [
    {
     "name": "stdout",
     "output_type": "stream",
     "text": [
      "<class 'type'>\n",
      "['ADDRESS_ATTRIBUTE', 'MINIMUM_AMOUNT_SPENT', 'NAME_ATTRIBUTE', 'SALARY_ATTRIBUTE', '__class__', '__delattr__', '__dict__', '__dir__', '__doc__', '__eq__', '__format__', '__ge__', '__getattribute__', '__gt__', '__hash__', '__init__', '__init_subclass__', '__le__', '__lt__', '__module__', '__ne__', '__new__', '__reduce__', '__reduce_ex__', '__repr__', '__setattr__', '__sizeof__', '__str__', '__subclasshook__', '__weakref__']\n",
      "Help on class CustomerList in module __main__:\n",
      "\n",
      "class CustomerList(CustomerData)\n",
      " |  CustomerList(name, address, salary, spent)\n",
      " |  \n",
      " |  Method resolution order:\n",
      " |      CustomerList\n",
      " |      CustomerData\n",
      " |      builtins.object\n",
      " |  \n",
      " |  Methods inherited from CustomerData:\n",
      " |  \n",
      " |  __init__(self, name, address, salary, spent)\n",
      " |      Initialize self.  See help(type(self)) for accurate signature.\n",
      " |  \n",
      " |  ----------------------------------------------------------------------\n",
      " |  Data descriptors inherited from CustomerData:\n",
      " |  \n",
      " |  __dict__\n",
      " |      dictionary for instance variables (if defined)\n",
      " |  \n",
      " |  __weakref__\n",
      " |      list of weak references to the object (if defined)\n",
      " |  \n",
      " |  ----------------------------------------------------------------------\n",
      " |  Data and other attributes inherited from CustomerData:\n",
      " |  \n",
      " |  ADDRESS_ATTRIBUTE = 'UNKNOWN'\n",
      " |  \n",
      " |  MINIMUM_AMOUNT_SPENT = 2000\n",
      " |  \n",
      " |  NAME_ATTRIBUTE = 'UNKNOWN'\n",
      " |  \n",
      " |  SALARY_ATTRIBUTE = 25000\n",
      "\n",
      "None\n"
     ]
    }
   ],
   "source": [
    "print(type(CustomerList)) # type will provide the class of an object\n",
    "print(dir(CustomerList)) # dir() lists all the attributes and methods that an objects has\n",
    "print(help(CustomerList)) # calling this object in the console will show the documentation of an object"
   ]
  }
 ],
 "metadata": {
  "kernelspec": {
   "display_name": "Python 3",
   "language": "python",
   "name": "python3"
  },
  "language_info": {
   "codemirror_mode": {
    "name": "ipython",
    "version": 3
   },
   "file_extension": ".py",
   "mimetype": "text/x-python",
   "name": "python",
   "nbconvert_exporter": "python",
   "pygments_lexer": "ipython3",
   "version": "3.8.3"
  }
 },
 "nbformat": 4,
 "nbformat_minor": 4
}
