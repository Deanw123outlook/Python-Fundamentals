{
 "cells": [
  {
   "cell_type": "markdown",
   "metadata": {},
   "source": [
    "# Constuctor \n",
    "- Add data to an object when creating it\n",
    "- Constructor __init__() method is called every time and object is created\n",
    "\n",
    "Before proceeding it is useful to know the following:\n",
    "\n",
    "###### Constructor\n",
    "- Makes it easire to know all the attributes\n",
    "- Attributes are created when the object is created \n",
    "- More usable and maintainable code \n",
    "\n",
    "###### BEST PRACTICES for writing classes\n",
    "- Initialize attributes using __init__() method\n",
    "- CamelCase for class defintion\n",
    "- low_snake_case for function and attribute defintion\n",
    "- Keep the self argument in Python as self\n",
    "- Use docstrings"
   ]
  },
  {
   "cell_type": "markdown",
   "metadata": {},
   "source": [
    "###### Create a class without constructor"
   ]
  },
  {
   "cell_type": "code",
   "execution_count": 21,
   "metadata": {},
   "outputs": [],
   "source": [
    "#Create a class without the __init__method\n",
    "class Employee:\n",
    "    def identification(self,name): # self argument is a stand - in for a future object not yet created \n",
    "        self.name = name # create a new attribute/feature\n",
    "        print(name)\n",
    "    def address(self,address):\n",
    "        self.address = address\n",
    "        print(address)"
   ]
  },
  {
   "cell_type": "code",
   "execution_count": 22,
   "metadata": {},
   "outputs": [
    {
     "name": "stdout",
     "output_type": "stream",
     "text": [
      "Dean Watters\n",
      "Dublin\n"
     ]
    }
   ],
   "source": [
    "# Create a new object from the created class above\n",
    "object_1 = Employee()\n",
    "object_1.identification(\"Dean Watters\")\n",
    "object_1.identification(\"Dublin\")\n",
    "#dir(object_1) # dir() lists all the attributes and methods"
   ]
  },
  {
   "cell_type": "markdown",
   "metadata": {},
   "source": [
    "###### Create a class with constructor"
   ]
  },
  {
   "cell_type": "code",
   "execution_count": 23,
   "metadata": {},
   "outputs": [],
   "source": [
    "# Create a class with the __init__ method\n",
    "class Car:\n",
    "    def __init__(self,make,model,year = 1990): # not we have set the last argument to a default value within the __init__ parameters\n",
    "        self.make = make\n",
    "        self.model = model\n",
    "        self.year = year\n",
    "        print(make)\n",
    "        print(model)\n",
    "        print(year)"
   ]
  },
  {
   "cell_type": "code",
   "execution_count": 25,
   "metadata": {},
   "outputs": [
    {
     "name": "stdout",
     "output_type": "stream",
     "text": [
      "Toyota\n",
      "Avensis\n",
      "1990\n",
      "Mercedes\n",
      "Benz\n",
      "2019\n"
     ]
    }
   ],
   "source": [
    "# Create a new object from the created class above\n",
    "object_2 = Car(\"Toyota\",\"Avensis\")\n",
    "object_3 = Car(\"Mercedes\",\"Benz\",2019)"
   ]
  },
  {
   "cell_type": "markdown",
   "metadata": {},
   "source": [
    "### Conclusion\n",
    "Two ways to define attributes:\n",
    "- We can define an attribute in any method in a class: and then calling the method will add the attribute to the object\n",
    "- Alternatively we can define them all together in the constructor method"
   ]
  },
  {
   "cell_type": "code",
   "execution_count": null,
   "metadata": {},
   "outputs": [],
   "source": []
  }
 ],
 "metadata": {
  "kernelspec": {
   "display_name": "Python 3",
   "language": "python",
   "name": "python3"
  },
  "language_info": {
   "codemirror_mode": {
    "name": "ipython",
    "version": 3
   },
   "file_extension": ".py",
   "mimetype": "text/x-python",
   "name": "python",
   "nbconvert_exporter": "python",
   "pygments_lexer": "ipython3",
   "version": "3.8.3"
  }
 },
 "nbformat": 4,
 "nbformat_minor": 4
}
