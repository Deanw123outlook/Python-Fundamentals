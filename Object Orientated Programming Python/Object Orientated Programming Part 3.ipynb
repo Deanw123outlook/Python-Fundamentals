{
 "cells": [
  {
   "cell_type": "markdown",
   "metadata": {},
   "source": [
    "# Object Orientated Programming Part 3#  "
   ]
  },
  {
   "cell_type": "markdown",
   "metadata": {},
   "source": [
    "###### Create a Class using some key Python class Features\n",
    "- __inti__() constructor method\n",
    "- self keyword\n",
    "- attribute creation\n",
    "- Class Inheritance"
   ]
  },
  {
   "cell_type": "code",
   "execution_count": 54,
   "metadata": {},
   "outputs": [],
   "source": [
    "# Create a Bank Account class \n",
    "\n",
    "class BankAccount:\n",
    "    def __init__(self, balance = 0, withdraw = 0): # constructor __init__() method & note default arguments being used | self keyword acts as a stand-in until a future objects is created from the class \n",
    "        if balance == 0:\n",
    "            self.balance = \"INSUFFICIENT FUNDS $0\" # We create attributes using the the assignment operator (=) and dot notation syntax\n",
    "        else:\n",
    "            self.balance = balance\n",
    "            print(\"CURRENT-BALANCE-AMOUNT $\",balance)\n",
    "        if withdraw == 0:\n",
    "            self.withdraw = \"WITDRAW NULL AMOUNT $0\"\n",
    "        else:\n",
    "            self.withdraw = withdraw\n",
    "            print(\"WITHDRAWL-AMOUNT $:\", withdraw)"
   ]
  },
  {
   "cell_type": "markdown",
   "metadata": {},
   "source": [
    "###### Create an Object from the exisitng Class"
   ]
  },
  {
   "cell_type": "code",
   "execution_count": 52,
   "metadata": {},
   "outputs": [
    {
     "name": "stdout",
     "output_type": "stream",
     "text": [
      "CURRENT-BALANCE-AMOUNT $ 18900\n",
      "WITHDRAWL-AMOUNT $: 250\n",
      "18900\n",
      "250\n"
     ]
    }
   ],
   "source": [
    "# Create a new object from the exisiting class\n",
    "\n",
    "my_details_a = BankAccount(18900,250) # create an object from the existing class using specific arguments\n",
    "print(my_details_a.balance) # call the attribute/method of the newly created object\n",
    "print(my_details_a.withdraw)"
   ]
  },
  {
   "cell_type": "code",
   "execution_count": 57,
   "metadata": {},
   "outputs": [
    {
     "name": "stdout",
     "output_type": "stream",
     "text": [
      "CURRENT-BALANCE-AMOUNT $ 50900\n",
      "WITHDRAWL-AMOUNT $: 11250\n",
      "50900\n",
      "11250\n"
     ]
    }
   ],
   "source": [
    "# Create a new object from the exisiting class\n",
    "\n",
    "my_details_b = BankAccount(50900,11250) # create an object from the existing class using specific arguments\n",
    "print(my_details_b.balance) # call the attribute/method of the newly created object\n",
    "print(my_details_b.withdraw)"
   ]
  },
  {
   "cell_type": "markdown",
   "metadata": {},
   "source": [
    "## Class Inheritance \n",
    "Class Inheritence is a mechanism in which we define a new class that gets all the functionality from an already existing class + some new functionality without re-implementing the code.\n",
    "\n",
    "Inheritance represents and \"is - a\" relationship !"
   ]
  },
  {
   "cell_type": "code",
   "execution_count": 58,
   "metadata": {},
   "outputs": [],
   "source": [
    "# Create a new class from the above existing class using INHERITENCE\n",
    "\n",
    "class SavingsAccount(BankAccount): # we pass the name of the existing class into the new class (INHERITENCE)\n",
    "    pass # pass enables us to create an empty class"
   ]
  },
  {
   "cell_type": "code",
   "execution_count": 62,
   "metadata": {},
   "outputs": [
    {
     "name": "stdout",
     "output_type": "stream",
     "text": [
      "<class 'type'>\n",
      "['__class__', '__delattr__', '__dict__', '__dir__', '__doc__', '__eq__', '__format__', '__ge__', '__getattribute__', '__gt__', '__hash__', '__init__', '__init_subclass__', '__le__', '__lt__', '__module__', '__ne__', '__new__', '__reduce__', '__reduce_ex__', '__repr__', '__setattr__', '__sizeof__', '__str__', '__subclasshook__', '__weakref__']\n",
      "Help on class SavingsAccount in module __main__:\n",
      "\n",
      "class SavingsAccount(BankAccount)\n",
      " |  SavingsAccount(balance=0, withdraw=0)\n",
      " |  \n",
      " |  Method resolution order:\n",
      " |      SavingsAccount\n",
      " |      BankAccount\n",
      " |      builtins.object\n",
      " |  \n",
      " |  Methods inherited from BankAccount:\n",
      " |  \n",
      " |  __init__(self, balance=0, withdraw=0)\n",
      " |      Initialize self.  See help(type(self)) for accurate signature.\n",
      " |  \n",
      " |  ----------------------------------------------------------------------\n",
      " |  Data descriptors inherited from BankAccount:\n",
      " |  \n",
      " |  __dict__\n",
      " |      dictionary for instance variables (if defined)\n",
      " |  \n",
      " |  __weakref__\n",
      " |      list of weak references to the object (if defined)\n",
      "\n",
      "None\n"
     ]
    }
   ],
   "source": [
    "print(type(SavingsAccount)) # type will provide the class of an object\n",
    "print(dir(SavingsAccount)) # dir() lists all the attributes and methods that an objects has\n",
    "print(help(SavingsAccount)) # calling this object in the console will show the documentation of an object"
   ]
  },
  {
   "cell_type": "code",
   "execution_count": null,
   "metadata": {},
   "outputs": [],
   "source": []
  }
 ],
 "metadata": {
  "kernelspec": {
   "display_name": "Python 3",
   "language": "python",
   "name": "python3"
  },
  "language_info": {
   "codemirror_mode": {
    "name": "ipython",
    "version": 3
   },
   "file_extension": ".py",
   "mimetype": "text/x-python",
   "name": "python",
   "nbconvert_exporter": "python",
   "pygments_lexer": "ipython3",
   "version": "3.8.3"
  }
 },
 "nbformat": 4,
 "nbformat_minor": 4
}
