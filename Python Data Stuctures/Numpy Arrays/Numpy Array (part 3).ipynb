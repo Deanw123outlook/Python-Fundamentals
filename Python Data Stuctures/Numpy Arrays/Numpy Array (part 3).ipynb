{
 "cells": [
  {
   "cell_type": "markdown",
   "metadata": {},
   "source": [
    "# Numpy Arrays (Part 3)"
   ]
  },
  {
   "cell_type": "markdown",
   "metadata": {},
   "source": [
    "###### Shape of an Array\n",
    "The shape of an array is the number of elements in each dimension.\n",
    "\n",
    "###### Review\n",
    "ndim is python Numpy method that find or return the dimension of the given Array."
   ]
  },
  {
   "cell_type": "code",
   "execution_count": 8,
   "metadata": {},
   "outputs": [
    {
     "name": "stdout",
     "output_type": "stream",
     "text": [
      "ndarray dimensions\n",
      "0\n",
      "1\n",
      "2\n",
      "3\n",
      "ndarray shape\n",
      "()\n",
      "(5,)\n",
      "(2, 3)\n",
      "(2, 2, 3)\n"
     ]
    }
   ],
   "source": [
    "a = np.array(42)\n",
    "b = np.array([1, 2, 3, 4, 5])\n",
    "c = np.array([[1, 2, 3], [4, 5, 6]])\n",
    "d = np.array([[[1, 2, 3], [4, 5, 6]], [[1, 2, 3], [4, 5, 6]]])\n",
    "\n",
    "print(\"ndarray dimensions\")\n",
    "print(a.ndim) #ndim attribute ie. number of dimensions\n",
    "print(b.ndim)\n",
    "print(c.ndim)\n",
    "print(d.ndim)\n",
    "\n",
    "print(\"ndarray shape\")\n",
    "print(a.shape) #shape attribute ie. the number of elements in each dimension\n",
    "print(b.shape)\n",
    "print(c.shape)\n",
    "print(d.shape)"
   ]
  },
  {
   "cell_type": "markdown",
   "metadata": {},
   "source": [
    "###### Numpy Array shape attribute\n",
    "How do we get the Shape of an Array\n",
    "- NumPy arrays have an attribute called shape that returns a tuple with each index having the number of corresponding elements"
   ]
  },
  {
   "cell_type": "code",
   "execution_count": 1,
   "metadata": {},
   "outputs": [],
   "source": [
    "#import the numpy package\n",
    "import numpy as np"
   ]
  },
  {
   "cell_type": "code",
   "execution_count": 6,
   "metadata": {},
   "outputs": [
    {
     "name": "stdout",
     "output_type": "stream",
     "text": [
      "(3,)\n",
      "(2, 4)\n"
     ]
    }
   ],
   "source": [
    "#Find the shape of the numpy array\n",
    "n_arr_1 = np.array([10,20,30]) # create a 1D Numpy ndarray object by using array() function\n",
    "n_arr_2 = np.array([[1, 2, 3, 4], [5, 6, 7, 8]]) # create a 2D NumPy ndarray object by using array() function.\n",
    "print(n_arr_1.shape)\n",
    "print(n_arr_2.shape)"
   ]
  },
  {
   "cell_type": "markdown",
   "metadata": {},
   "source": [
    "The second example above returns (2, 4), which means that the array has 2 dimensions, where the first dimension has 2 elements and the second has 4."
   ]
  },
  {
   "cell_type": "markdown",
   "metadata": {},
   "source": [
    "######  Numpy Array ndmin"
   ]
  },
  {
   "cell_type": "markdown",
   "metadata": {},
   "source": [
    "Below we will create an array with 7 dimensions using ndmin using a vector with values 1,2,3,4,5,6,7,8,9 and verify that last dimension has value 9"
   ]
  },
  {
   "cell_type": "code",
   "execution_count": 7,
   "metadata": {},
   "outputs": [
    {
     "name": "stdout",
     "output_type": "stream",
     "text": [
      "[[[[[[[1 2 3 4 5 6 7 8 9]]]]]]]\n",
      "shape of array : (1, 1, 1, 1, 1, 1, 9)\n"
     ]
    }
   ],
   "source": [
    "arr_3 = np.array([1, 2, 3, 4, 5, 6, 7, 8, 9], ndmin=7)\n",
    "\n",
    "print(arr_3)\n",
    "print('shape of array :', arr_3.shape)"
   ]
  },
  {
   "cell_type": "markdown",
   "metadata": {},
   "source": [
    "###### Reshaping arrays\n",
    "Reshaping means changing the shape of an array.\n",
    "\n",
    "The shape of an array is the number of elements in each dimension.\n",
    "\n",
    "By reshaping we can add or remove dimensions or change number of elements in each dimension."
   ]
  },
  {
   "cell_type": "markdown",
   "metadata": {},
   "source": [
    "###### Reshape from 1-D to 2-D"
   ]
  },
  {
   "cell_type": "markdown",
   "metadata": {},
   "source": [
    "- Convert the following 1-D array with 12 elements into a 2-D array.\n",
    "- The outermost dimension will have 4 arrays, each with 4 elements:"
   ]
  },
  {
   "cell_type": "code",
   "execution_count": 18,
   "metadata": {},
   "outputs": [
    {
     "name": "stdout",
     "output_type": "stream",
     "text": [
      "[[ 1  2  3  4]\n",
      " [ 5  6  7  8]\n",
      " [ 9 10 11 12]\n",
      " [13 14 15 16]]\n",
      "(4, 4)\n"
     ]
    }
   ],
   "source": [
    "arr_rs = np.array([1, 2, 3, 4, 5, 6, 7, 8, 9, 10, 11, 12, 13, 14, 15, 16]) #create a 1D ndarray object using array() function\n",
    "newarr = arr_rs.reshape(4, 4) # reshape the 1D array\n",
    "print(newarr)\n",
    "print(newarr.shape)"
   ]
  },
  {
   "cell_type": "markdown",
   "metadata": {},
   "source": [
    "###### Reshape from 1-D to 3D\n",
    "- Convert the following 1-D array with 12 elements into a 3-D array.\n",
    "- The outermost dimension will have 2 arrays that contains 3 arrays, each with 2 elements:"
   ]
  },
  {
   "cell_type": "code",
   "execution_count": 20,
   "metadata": {},
   "outputs": [
    {
     "name": "stdout",
     "output_type": "stream",
     "text": [
      "[[[ 1  2]\n",
      "  [ 3  4]\n",
      "  [ 5  6]]\n",
      "\n",
      " [[ 7  8]\n",
      "  [ 9 10]\n",
      "  [11 12]]]\n",
      "(2, 3, 2)\n"
     ]
    }
   ],
   "source": [
    "arr_rs_2 = np.array([1, 2, 3, 4, 5, 6, 7, 8, 9, 10, 11, 12]) #create a 1D ndarray object using array() function\n",
    "newarr_2 = arr_rs_2.reshape(2,3,2) # reshape the 1D array\n",
    "print(newarr_2)\n",
    "print(newarr_2.shape)"
   ]
  },
  {
   "cell_type": "code",
   "execution_count": null,
   "metadata": {},
   "outputs": [],
   "source": []
  }
 ],
 "metadata": {
  "kernelspec": {
   "display_name": "Python 3",
   "language": "python",
   "name": "python3"
  },
  "language_info": {
   "codemirror_mode": {
    "name": "ipython",
    "version": 3
   },
   "file_extension": ".py",
   "mimetype": "text/x-python",
   "name": "python",
   "nbconvert_exporter": "python",
   "pygments_lexer": "ipython3",
   "version": "3.8.3"
  }
 },
 "nbformat": 4,
 "nbformat_minor": 4
}
