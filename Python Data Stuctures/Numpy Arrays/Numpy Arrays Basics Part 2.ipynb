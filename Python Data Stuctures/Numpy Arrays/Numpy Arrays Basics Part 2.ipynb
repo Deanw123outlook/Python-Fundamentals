{
 "cells": [
  {
   "cell_type": "markdown",
   "metadata": {},
   "source": [
    "# Numpy Arrays (Part 2 Basics)"
   ]
  },
  {
   "cell_type": "markdown",
   "metadata": {},
   "source": [
    "###### Numpy Package Python\n",
    "NumPy is a Python library used for working with arrays, in which Numpy stands for (numerical python).\n",
    "\n",
    "In Python we have lists that serve the purpose of arrays, but they are slow to process. NumPy aims to provide an array object that is up to 50x faster than traditional Python lists. The array object in NumPy is called ndarray, it provides a lot of supporting functions that make working with ndarray very easy. Arrays are very frequently used in data science, where speed and resources are very important.\n",
    "\n",
    "###### Objectives\n",
    "- Numpy Array Indexing \n",
    "\n",
    "Array indexing (accesing array elements) is the same as accessing an array element. You can access an array element by referring to its index number. The indexes in NumPy arrays start with 0, meaning that the first element has index 0, and the second has index 1 etc.\n",
    "\n",
    "- Numpy Array Slicing\n",
    "\n",
    "Slicing in python means taking elements from one given index to another given index. We pass slice instead of index like this: [start:end]. We can also define the step, like this: [start:end:step]. If we don't pass start its considered 0. If we don't pass end its considered length of array in that dimension. If we don't pass step its considered 1\n",
    "\n",
    "- Data Types in Numpy\n",
    "\n",
    "NumPy has some extra data types, and refer to data types with one character, like i for integers, u for unsigned integers etc.\n",
    "\n",
    "Below is a list of all data types in NumPy and the characters used to represent them.\n",
    "- i - integer\n",
    "- b - boolean\n",
    "- u - unsigned integer\n",
    "- f - float\n",
    "- c - complex float\n",
    "- m - timedelta\n",
    "- M - datetime\n",
    "- O - object\n",
    "- S - string\n",
    "- U - unicode string\n",
    "- V - fixed chunk of memory for other type ( void )"
   ]
  },
  {
   "cell_type": "code",
   "execution_count": 2,
   "metadata": {},
   "outputs": [],
   "source": [
    "import numpy as np #importing the numpy package"
   ]
  },
  {
   "cell_type": "markdown",
   "metadata": {},
   "source": [
    "### Numpy Array Indexing\n",
    "\n",
    "Note\n",
    "\n",
    "Please see also negative indexing used below !"
   ]
  },
  {
   "cell_type": "code",
   "execution_count": 7,
   "metadata": {},
   "outputs": [
    {
     "name": "stdout",
     "output_type": "stream",
     "text": [
      "1\n",
      "5\n",
      "234\n"
     ]
    }
   ],
   "source": [
    "new_array = np.array([1, 2, 3, 5, 234]) #create a 1d Numoy Array\n",
    "print(new_array[0]) #print the first element in the numpy array\n",
    "print(new_array[3]) #print the fourth element in the numpy array\n",
    "print(new_array[-1]) #negative array indexing (acceses the last element in the array)"
   ]
  },
  {
   "cell_type": "code",
   "execution_count": 8,
   "metadata": {},
   "outputs": [
    {
     "name": "stdout",
     "output_type": "stream",
     "text": [
      "235\n"
     ]
    }
   ],
   "source": [
    "print(new_array[0] + new_array[-1]) #Get first and fourth elements from the array and add both elements together"
   ]
  },
  {
   "cell_type": "markdown",
   "metadata": {},
   "source": [
    "Access 2-D Arrays\n",
    "\n",
    "To access elements from 2-D arrays we can use comma separated integers representing the dimension and the index of the element.\n",
    "\n",
    "Think of 2-D arrays like a table with rows and columns, where the row represents the dimension and the index represents the column."
   ]
  },
  {
   "cell_type": "code",
   "execution_count": 13,
   "metadata": {},
   "outputs": [
    {
     "name": "stdout",
     "output_type": "stream",
     "text": [
      "3\n",
      "12\n"
     ]
    }
   ],
   "source": [
    "sec_array = np.array([[2,3,4],[10,12,14]]) #create a 2D Numpy array\n",
    "print(sec_array[0, 1]) #print second elememt of first row (remember zero indexing)\n",
    "print(sec_array[1,1]) #print second elememt of second row (remember zero indexing)"
   ]
  },
  {
   "cell_type": "markdown",
   "metadata": {},
   "source": [
    "Access 3-D Arrays\n",
    "\n",
    "To access elements from 3-D arrays we can use comma separated integers representing the dimensions and the index of the element."
   ]
  },
  {
   "cell_type": "code",
   "execution_count": 26,
   "metadata": {},
   "outputs": [
    {
     "name": "stdout",
     "output_type": "stream",
     "text": [
      "13\n",
      "9\n",
      "22\n"
     ]
    }
   ],
   "source": [
    "third_array = np.array([[[2,3,4],[9,11,13],[22,34,45]]]) #create a 3D Numpy array\n",
    "print(third_array[0,1,2]) #print third element of the second array of the first array:\n",
    "print(third_array[0,1,0]) #print second element of the second array of the first array:\n",
    "print(third_array[0,2,0]) #print third element of the second array of the first array:"
   ]
  },
  {
   "cell_type": "markdown",
   "metadata": {},
   "source": [
    "### NumPy Array Slicing\n",
    "\n",
    "REMEMBER\n",
    "\n",
    "We pass slice instead of index like this: [start:end]. We can also define the step, like this: [start:end:step]. If we don't pass start its considered 0. If we don't pass end its considered length of array in that dimension. If we don't pass step its considered 1."
   ]
  },
  {
   "cell_type": "code",
   "execution_count": 28,
   "metadata": {},
   "outputs": [
    {
     "name": "stdout",
     "output_type": "stream",
     "text": [
      "[ 1 12 33 44]\n",
      "[12 33]\n",
      "[33 44 55 66]\n"
     ]
    }
   ],
   "source": [
    "arr_s = np.array([1, 12, 33, 44, 55, 66, 77]) # create a NumPy ndarray object by using the array() function.\n",
    "print(arr_s[:4])\n",
    "print(arr_s[1:3])\n",
    "print(arr_s[2:6])"
   ]
  },
  {
   "cell_type": "markdown",
   "metadata": {},
   "source": [
    "STEP\n",
    "\n",
    "step value can be used at the end of the slice (determine step) see below !"
   ]
  },
  {
   "cell_type": "code",
   "execution_count": 30,
   "metadata": {},
   "outputs": [
    {
     "name": "stdout",
     "output_type": "stream",
     "text": [
      "[33 55]\n",
      "[ 1 33 55]\n",
      "[ 1 44]\n"
     ]
    }
   ],
   "source": [
    "print(arr_s[2:6:2]) # step value to determine the step of the slicing\n",
    "print(arr_s[0:6:2]) # step value to determine the step of the slicing\n",
    "print(arr_s[0:6:3]) # step value to determine the step of the slicing"
   ]
  },
  {
   "cell_type": "markdown",
   "metadata": {},
   "source": [
    "Slicing 2D Arrays"
   ]
  },
  {
   "cell_type": "code",
   "execution_count": 36,
   "metadata": {},
   "outputs": [
    {
     "name": "stdout",
     "output_type": "stream",
     "text": [
      "[2 3 4]\n",
      "[7 8 9]\n",
      "[3 8]\n",
      "[[2 3 4]\n",
      " [7 8 9]]\n"
     ]
    }
   ],
   "source": [
    "arr = np.array([[1, 2, 3, 4, 5], [6, 7, 8, 9, 10]]) # 2D arrays\n",
    "print(arr[0, 1:4])\n",
    "print(arr[1, 1:4])\n",
    "print(arr[0:2, 2]) # from both arrays, return index 2\n",
    "print(arr[0:2, 1:4]) # From both arrays, slice index 1 to index 4 (not included), this will return a 2-D arraym"
   ]
  },
  {
   "cell_type": "markdown",
   "metadata": {},
   "source": [
    "###### Data Types in Numpy"
   ]
  },
  {
   "cell_type": "markdown",
   "metadata": {},
   "source": [
    "Checking the Data Type of an Array\n",
    "\n",
    "The NumPy array object has a property called dtype that returns the data type of the array:"
   ]
  },
  {
   "cell_type": "code",
   "execution_count": 39,
   "metadata": {},
   "outputs": [
    {
     "name": "stdout",
     "output_type": "stream",
     "text": [
      "[ 2  4  6  8 10 12 14 16 18 20 22 24 26 28 30]\n",
      "int32\n",
      "['Einsten' 'Biden' 'Obama' 'Musk']\n",
      "<U7\n"
     ]
    }
   ],
   "source": [
    "arr_d = np.array([2,4,6,8,10,12,14,16,18,20,22,24,26,28,30])\n",
    "arr_s = np.array(['Einsten','Biden','Obama','Musk'])\n",
    "print(arr_d)\n",
    "print(arr_d.dtype) # check the data type of the numpy array\n",
    "print(arr_s)\n",
    "print(arr_s.dtype) # check the data type of the numpy array"
   ]
  },
  {
   "cell_type": "markdown",
   "metadata": {},
   "source": [
    "Creating an array with a defined data type"
   ]
  },
  {
   "cell_type": "code",
   "execution_count": 41,
   "metadata": {},
   "outputs": [
    {
     "name": "stdout",
     "output_type": "stream",
     "text": [
      "[1. 2. 3. 4.]\n",
      "float32\n"
     ]
    }
   ],
   "source": [
    "arr = np.array([1, 2, 3, 4], dtype='f') # create an array with data type float predefined\n",
    "print(arr)\n",
    "print(arr.dtype)\n"
   ]
  },
  {
   "cell_type": "code",
   "execution_count": 42,
   "metadata": {},
   "outputs": [
    {
     "name": "stdout",
     "output_type": "stream",
     "text": [
      "[1 2 3 4]\n",
      "int32\n"
     ]
    }
   ],
   "source": [
    "arr = np.array([1, 2, 3, 4], dtype='i4') # create an array with data type 4 bytes integer\n",
    "print(arr)\n",
    "print(arr.dtype)"
   ]
  },
  {
   "cell_type": "markdown",
   "metadata": {},
   "source": [
    "###### Converting Data Type on Existing Arrays\n",
    "The best way to change the data type of an existing array, is to make a copy of the array with the astype() method.\n",
    "\n",
    "The astype() function creates a copy of the array, and allows you to specify the data type as a parameter.\n",
    "\n",
    "The data type can be specified using a string, like 'f' for float, 'i' for integer etc. or you can use the data type directly like float for float and int for integer."
   ]
  },
  {
   "cell_type": "code",
   "execution_count": 46,
   "metadata": {},
   "outputs": [
    {
     "name": "stdout",
     "output_type": "stream",
     "text": [
      "float64\n",
      "[1 2 3]\n",
      "int32\n"
     ]
    }
   ],
   "source": [
    "# Convert hte numpy array data type from float64 to integer\n",
    "arr = np.array([1.1, 2.1, 3.1])\n",
    "print(arr.dtype)\n",
    "new_arr = arr.astype('i') # astype() function creates a copy of the array and allows you to specify the data type as a parameter.\n",
    "print(new_arr)\n",
    "print(new_arr.dtype)"
   ]
  },
  {
   "cell_type": "code",
   "execution_count": 49,
   "metadata": {},
   "outputs": [
    {
     "name": "stdout",
     "output_type": "stream",
     "text": [
      "[ True False  True  True False  True False]\n",
      "bool\n"
     ]
    }
   ],
   "source": [
    "# Convert data type from integer to boolean\n",
    "arr = np.array([1, 0, 3, 5, 0, 7, 0])\n",
    "new_arr_a = arr.astype(bool)\n",
    "\n",
    "print(new_arr_a)\n",
    "print(new_arr_a.dtype)"
   ]
  }
 ],
 "metadata": {
  "kernelspec": {
   "display_name": "Python 3",
   "language": "python",
   "name": "python3"
  },
  "language_info": {
   "codemirror_mode": {
    "name": "ipython",
    "version": 3
   },
   "file_extension": ".py",
   "mimetype": "text/x-python",
   "name": "python",
   "nbconvert_exporter": "python",
   "pygments_lexer": "ipython3",
   "version": "3.8.3"
  }
 },
 "nbformat": 4,
 "nbformat_minor": 4
}
