{
 "cells": [
  {
   "cell_type": "markdown",
   "metadata": {},
   "source": [
    "# Python Sets\n",
    "\n",
    "Python Sets defined using {\"\",} and are one of four of Python's highly useful and recognized in-built data structures.\n",
    "\n",
    "Charachteristics:\n",
    "- Unordered\n",
    "\n",
    "Set items can appear in a different order every time you use them, and cannot be referred to by index or key.\n",
    "- Immutable\n",
    "\n",
    "Meaning that we cannot change the items after the set has been created. However, we can add or remove items from a set.\n",
    "- Null Values not allowed\n",
    "\n",
    "Sets cannot have two items with the same value.\n",
    "\n",
    "- Set items can be of any data types"
   ]
  },
  {
   "cell_type": "code",
   "execution_count": 1,
   "metadata": {},
   "outputs": [
    {
     "name": "stdout",
     "output_type": "stream",
     "text": [
      "{'Amazon', 'Tesla', 'Microsoft'}\n",
      "{200, 300, 150}\n",
      "<class 'set'>\n",
      "<class 'set'>\n"
     ]
    },
    {
     "ename": "TypeError",
     "evalue": "'set' object is not subscriptable",
     "output_type": "error",
     "traceback": [
      "\u001b[1;31m---------------------------------------------------------------------------\u001b[0m",
      "\u001b[1;31mTypeError\u001b[0m                                 Traceback (most recent call last)",
      "\u001b[1;32m<ipython-input-1-f4740256eefc>\u001b[0m in \u001b[0;36m<module>\u001b[1;34m\u001b[0m\n\u001b[0;32m      8\u001b[0m \u001b[0mprint\u001b[0m\u001b[1;33m(\u001b[0m\u001b[0mtype\u001b[0m\u001b[1;33m(\u001b[0m\u001b[0mset_2\u001b[0m\u001b[1;33m)\u001b[0m\u001b[1;33m)\u001b[0m\u001b[1;33m\u001b[0m\u001b[1;33m\u001b[0m\u001b[0m\n\u001b[0;32m      9\u001b[0m \u001b[1;31m#\u001b[0m\u001b[1;33m\u001b[0m\u001b[1;33m\u001b[0m\u001b[1;33m\u001b[0m\u001b[0m\n\u001b[1;32m---> 10\u001b[1;33m \u001b[0mprint\u001b[0m\u001b[1;33m(\u001b[0m\u001b[0mset_1\u001b[0m\u001b[1;33m[\u001b[0m\u001b[1;36m0\u001b[0m\u001b[1;33m]\u001b[0m\u001b[1;33m)\u001b[0m\u001b[1;33m\u001b[0m\u001b[1;33m\u001b[0m\u001b[0m\n\u001b[0m\u001b[0;32m     11\u001b[0m \u001b[0mprint\u001b[0m\u001b[1;33m(\u001b[0m\u001b[0mtype\u001b[0m\u001b[1;33m(\u001b[0m\u001b[0mset_1\u001b[0m\u001b[1;33m[\u001b[0m\u001b[1;36m0\u001b[0m\u001b[1;33m]\u001b[0m\u001b[1;33m)\u001b[0m\u001b[1;33m)\u001b[0m\u001b[1;33m\u001b[0m\u001b[1;33m\u001b[0m\u001b[0m\n",
      "\u001b[1;31mTypeError\u001b[0m: 'set' object is not subscriptable"
     ]
    }
   ],
   "source": [
    "set_1 = {\"Amazon\",\"Tesla\",\"Microsoft\"}# define a set in python\n",
    "set_2 = {200,300,150}\n",
    "#\n",
    "print(set_1)\n",
    "print(set_2)\n",
    "#\n",
    "print(type(set_1))\n",
    "print(type(set_2))\n",
    "#\n",
    "print(set_1[0])\n",
    "print(type(set_1[0]))"
   ]
  },
  {
   "cell_type": "markdown",
   "metadata": {},
   "source": [
    "###### Set() Constructor\n",
    "It is also possible to use the set() constructor to make a set."
   ]
  },
  {
   "cell_type": "code",
   "execution_count": 2,
   "metadata": {},
   "outputs": [
    {
     "name": "stdout",
     "output_type": "stream",
     "text": [
      "[290, 'Random', True]\n",
      "<class 'bool'>\n",
      "{'Random', True, 290}\n",
      "<class 'set'>\n"
     ]
    }
   ],
   "source": [
    "lst = [290,\"Random\",True]# creat a list\n",
    "print(lst)\n",
    "print(type(lst[-1]))\n",
    "#\n",
    "new_set = set(lst)# convert list to set\n",
    "print(new_set)\n",
    "print(type(new_set))"
   ]
  },
  {
   "cell_type": "markdown",
   "metadata": {},
   "source": [
    "### Access Items\n",
    "You cannot access items in a set by referring to an index or a key.\n",
    "\n",
    "But you can loop through the set items using a for loop, or ask if a specified value is present in a set, by using the in keyword."
   ]
  },
  {
   "cell_type": "code",
   "execution_count": 3,
   "metadata": {},
   "outputs": [
    {
     "name": "stdout",
     "output_type": "stream",
     "text": [
      "<class 'str'> Random\n",
      "<class 'bool'> True\n",
      "<class 'int'> 290\n"
     ]
    }
   ],
   "source": [
    "for x in new_set:\n",
    "    print(type(x),x)"
   ]
  },
  {
   "cell_type": "code",
   "execution_count": 4,
   "metadata": {},
   "outputs": [
    {
     "name": "stdout",
     "output_type": "stream",
     "text": [
      "Item-Identified\n",
      "Boolean-Not-Identfied\n",
      "Item-is-NOT-Integer\n"
     ]
    },
    {
     "name": "stderr",
     "output_type": "stream",
     "text": [
      "<>:8: SyntaxWarning: \"is\" with a literal. Did you mean \"==\"?\n",
      "<>:8: SyntaxWarning: \"is\" with a literal. Did you mean \"==\"?\n",
      "<ipython-input-4-80469562f790>:8: SyntaxWarning: \"is\" with a literal. Did you mean \"==\"?\n",
      "  if 290 is int:\n"
     ]
    }
   ],
   "source": [
    "# membership operators\n",
    "if 290 in new_set: # check if item (in) sequence\n",
    "    print(\"Item-Identified\")\n",
    "if False not in new_set: # check if item (not-in) sequence\n",
    "    print(\"Boolean-Not-Identfied\")\n",
    "#\n",
    "# identity operators\n",
    "if 290 is int:\n",
    "    print(\"Item-is-Integer\")\n",
    "if \"Random\" != 290:\n",
    "    print(\"Item-is-NOT-Integer\")"
   ]
  },
  {
   "cell_type": "markdown",
   "metadata": {},
   "source": [
    "### Add items to a set \n",
    "- To add one item to a set use the add() method\n",
    "- To add items from another set into the current set, use the update() method\n",
    "\n",
    "The object in the update() method does not have to be a set, it can be any iterable object (tuples, lists, dictionaries etc.)"
   ]
  },
  {
   "cell_type": "code",
   "execution_count": 5,
   "metadata": {},
   "outputs": [],
   "source": [
    "set_a = {26,45,\"Name\"}\n",
    "set_b = {200,\"Address\",\"Sort-Code\"}"
   ]
  },
  {
   "cell_type": "code",
   "execution_count": 6,
   "metadata": {},
   "outputs": [
    {
     "name": "stdout",
     "output_type": "stream",
     "text": [
      "{26, 500, 'Name', 45}\n"
     ]
    }
   ],
   "source": [
    "set_a.add(500) # add() - add item to one of sets\n",
    "print(set_a)"
   ]
  },
  {
   "cell_type": "markdown",
   "metadata": {},
   "source": [
    "NOTE\n",
    "\n",
    "We cannot use add method to add multiple items to a set \n",
    "\n",
    "Workaround - we could create a new set with the multiple items required and use the update method !"
   ]
  },
  {
   "cell_type": "code",
   "execution_count": 7,
   "metadata": {},
   "outputs": [
    {
     "name": "stdout",
     "output_type": "stream",
     "text": [
      "{'Address', 500, 'Name', 200, 26, 45, 'Sort-Code'}\n"
     ]
    }
   ],
   "source": [
    "set_a.update(set_b) # update () method with another set\n",
    "print(set_a) # check execution"
   ]
  },
  {
   "cell_type": "markdown",
   "metadata": {},
   "source": [
    "###### Remove Item/s & set/s\n",
    "###### Part 1\n",
    "\n",
    "- To remove an item in a set, use the remove(), or the discard() method.\n",
    "\n",
    "If an item does not exist an error will be raised when using remove() method but an error will not be raised using discard() method\n",
    "\n",
    "- You can also use the pop() method to remove an item, but this method will remove the last item. Remember that sets are unordered, so you will not know what item that gets removed."
   ]
  },
  {
   "cell_type": "code",
   "execution_count": 8,
   "metadata": {},
   "outputs": [
    {
     "name": "stdout",
     "output_type": "stream",
     "text": [
      "<class 'set'> {'plum', 'apple', 'orange', 'cherry', 'banana'}\n"
     ]
    }
   ],
   "source": [
    "this_set = {\"apple\", \"banana\", \"cherry\", \"orange\", \"plum\"}\n",
    "print(type(this_set),this_set)"
   ]
  },
  {
   "cell_type": "code",
   "execution_count": 9,
   "metadata": {},
   "outputs": [
    {
     "name": "stdout",
     "output_type": "stream",
     "text": [
      "{'plum', 'apple', 'orange', 'banana'}\n"
     ]
    }
   ],
   "source": [
    "this_set.remove(\"cherry\") # remove method()\n",
    "print(this_set) # check execution"
   ]
  },
  {
   "cell_type": "markdown",
   "metadata": {},
   "source": [
    "###### Error Handling\n",
    "- The try block lets you test a block of code for errors.\n",
    "- The except block lets you handle the error.\n",
    "- The else block lets you execute code when there is no error.\n",
    "- The finally block lets you execute code, regardless of the result of the try- and except blocks."
   ]
  },
  {
   "cell_type": "code",
   "execution_count": 10,
   "metadata": {},
   "outputs": [
    {
     "data": {
      "text/plain": [
       "{'apple', 'banana', 'orange', 'plum'}"
      ]
     },
     "execution_count": 10,
     "metadata": {},
     "output_type": "execute_result"
    }
   ],
   "source": [
    "this_set"
   ]
  },
  {
   "cell_type": "code",
   "execution_count": 11,
   "metadata": {},
   "outputs": [
    {
     "name": "stdout",
     "output_type": "stream",
     "text": [
      "Pear is not present in set\n",
      "Plum is present in set\n"
     ]
    }
   ],
   "source": [
    "try: # try block lets you test a block of code for errors\n",
    "    this_set.remove(\"pear\") # remove method()\n",
    "    this_set\n",
    "except: # except block let you handle the error\n",
    "    print(\"Pear is not present in set\")\n",
    "    this_set.remove(\"plum\")\n",
    "    print(\"Plum is present in set\")\n",
    "    this_set # check execution"
   ]
  },
  {
   "cell_type": "markdown",
   "metadata": {},
   "source": [
    "###### Part 2\n",
    "- The clear() method empties the set\n",
    "- The del keyword will delete the set completely"
   ]
  },
  {
   "cell_type": "code",
   "execution_count": 24,
   "metadata": {},
   "outputs": [
    {
     "name": "stdout",
     "output_type": "stream",
     "text": [
      "<class 'set'> {'apple', 'Name', 'cherry', 200, 'banana', 'Address', 45, 26, 'Sort-Code'}\n",
      "<class 'set'> {'Amazon', 'Tesla', 'Microsoft'}\n"
     ]
    }
   ],
   "source": [
    "new_set = {\"apple\", \"banana\", \"cherry\", 200,\"Address\",\"Sort-Code\", 26,45,\"Name\"}\n",
    "additional_set = {\"Amazon\",\"Microsoft\",\"Tesla\"}\n",
    "#\n",
    "print(type(new_set),new_set)\n",
    "print(type(additional_set),additional_set)"
   ]
  },
  {
   "cell_type": "code",
   "execution_count": 25,
   "metadata": {},
   "outputs": [
    {
     "name": "stdout",
     "output_type": "stream",
     "text": [
      "<class 'set'> 12 {'Amazon', 'apple', 'Name', 'cherry', 200, 'banana', 'Address', 45, 'Microsoft', 'Tesla', 26, 'Sort-Code'}\n"
     ]
    }
   ],
   "source": [
    "new_set.update(additional_set) # update () method with another set\n",
    "print(type(new_set),len(new_set),new_set) # check execution"
   ]
  },
  {
   "cell_type": "markdown",
   "metadata": {},
   "source": [
    "clear () method - empty items in a set"
   ]
  },
  {
   "cell_type": "code",
   "execution_count": 26,
   "metadata": {},
   "outputs": [
    {
     "name": "stdout",
     "output_type": "stream",
     "text": [
      "Clear-Method-Succesfull\n",
      "set()\n"
     ]
    }
   ],
   "source": [
    "additional_set.clear() # clear method()\n",
    "if len(additional_set) < 1:\n",
    "    print(\"Clear-Method-Succesfull\")\n",
    "    print(additional_set)# checke execution"
   ]
  },
  {
   "cell_type": "markdown",
   "metadata": {},
   "source": [
    "del keyword - deletes the set completely"
   ]
  },
  {
   "cell_type": "code",
   "execution_count": 27,
   "metadata": {},
   "outputs": [
    {
     "ename": "NameError",
     "evalue": "name 'additonal_set' is not defined",
     "output_type": "error",
     "traceback": [
      "\u001b[1;31m---------------------------------------------------------------------------\u001b[0m",
      "\u001b[1;31mNameError\u001b[0m                                 Traceback (most recent call last)",
      "\u001b[1;32m<ipython-input-27-5a589f49d180>\u001b[0m in \u001b[0;36m<module>\u001b[1;34m\u001b[0m\n\u001b[1;32m----> 1\u001b[1;33m \u001b[1;32mdel\u001b[0m \u001b[0madditonal_set\u001b[0m \u001b[1;31m# del keyword will delete the set completely\u001b[0m\u001b[1;33m\u001b[0m\u001b[1;33m\u001b[0m\u001b[0m\n\u001b[0m\u001b[0;32m      2\u001b[0m \u001b[0madditional_set\u001b[0m\u001b[1;33m\u001b[0m\u001b[1;33m\u001b[0m\u001b[0m\n",
      "\u001b[1;31mNameError\u001b[0m: name 'additonal_set' is not defined"
     ]
    }
   ],
   "source": [
    "del additonal_set # del keyword will delete the set completely\n",
    "additional_set # check execution"
   ]
  },
  {
   "cell_type": "markdown",
   "metadata": {},
   "source": [
    "NOTE \n",
    "- We expect an error to be raised above as we used our del keyword to permanently delete the set. \n",
    "- The NameError raised confirms the deletion keyword success !"
   ]
  },
  {
   "cell_type": "code",
   "execution_count": null,
   "metadata": {},
   "outputs": [],
   "source": []
  }
 ],
 "metadata": {
  "kernelspec": {
   "display_name": "Python 3",
   "language": "python",
   "name": "python3"
  },
  "language_info": {
   "codemirror_mode": {
    "name": "ipython",
    "version": 3
   },
   "file_extension": ".py",
   "mimetype": "text/x-python",
   "name": "python",
   "nbconvert_exporter": "python",
   "pygments_lexer": "ipython3",
   "version": "3.8.3"
  }
 },
 "nbformat": 4,
 "nbformat_minor": 4
}
