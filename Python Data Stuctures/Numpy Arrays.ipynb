{
 "cells": [
  {
   "cell_type": "markdown",
   "metadata": {},
   "source": [
    "### Numpy Package Python\n",
    "NumPy is a Python library used for working with arrays, in which Numpy stands for (numerical python).\n",
    "\n",
    "In Python we have lists that serve the purpose of arrays, but they are slow to process. NumPy aims to provide an array object that is up to 50x faster than traditional Python lists. The array object in NumPy is called ndarray, it provides a lot of supporting functions that make working with ndarray very easy. Arrays are very frequently used in data science, where speed and resources are very important.\n",
    "\n",
    "Why is Numpy faster ?\n",
    "- NumPy arrays are stored at one continuous place in memory unlike lists, so processes can access and manipulate them very efficiently.\n",
    "- This behavior is called locality of reference in computer science.\n",
    "- This is the main reason why NumPy is faster than lists. Also it is optimized to work with latest CPU architectures.\n",
    "\n",
    "Resource: W3schools"
   ]
  },
  {
   "cell_type": "markdown",
   "metadata": {},
   "source": [
    "###### Import NumPy\n",
    "Once NumPy is installed, import it in your applications by adding the import keyword:"
   ]
  },
  {
   "cell_type": "code",
   "execution_count": 5,
   "metadata": {},
   "outputs": [
    {
     "name": "stdout",
     "output_type": "stream",
     "text": [
      "Numpy Version: 1.18.5\n"
     ]
    }
   ],
   "source": [
    "#importing numpy library into python script\n",
    "import numpy as np\n",
    "#check numpy version\n",
    "print(\"Numpy Version:\", np.__version__)"
   ]
  },
  {
   "cell_type": "markdown",
   "metadata": {},
   "source": [
    "###### Create a NumPy ndarray Object\n",
    "NumPy is used to work with arrays. The array object in NumPy is called ndarray.\n",
    "\n",
    "We can create a NumPy ndarray object by using the array() function."
   ]
  },
  {
   "cell_type": "code",
   "execution_count": 7,
   "metadata": {},
   "outputs": [
    {
     "name": "stdout",
     "output_type": "stream",
     "text": [
      "<class 'numpy.ndarray'>\n"
     ]
    }
   ],
   "source": [
    "#Create a numpy array & save in variable\n",
    "arr_1 = np.array([1,2,3,4,5,6,7,8,9,10])\n",
    "#Type check data structure\n",
    "print(type(arr_1))"
   ]
  },
  {
   "cell_type": "markdown",
   "metadata": {},
   "source": [
    "Furthermore create an ndarray, we can pass a list, tuple or any array-like object into the array() method, and it will be converted into an ndarray. Please see below and remember the syntax used to create tuples in Python"
   ]
  },
  {
   "cell_type": "code",
   "execution_count": 17,
   "metadata": {},
   "outputs": [
    {
     "name": "stdout",
     "output_type": "stream",
     "text": [
      "Tuple | ndarray\n",
      "\n",
      "Tuple (10, 20, 30)\n",
      "<class 'tuple'>\n",
      "ndarray created from tuple [1 2 3 4 5]\n",
      "<class 'numpy.ndarray'>\n",
      "(25, 50, 75, 100)\n",
      "<class 'tuple'>\n",
      "[ 25  50  75 100]\n",
      "<class 'numpy.ndarray'>\n"
     ]
    }
   ],
   "source": [
    "print(\"Tuple | ndarray\")\n",
    "print(\"\")\n",
    "#Create a tuple \n",
    "tuple_1 = (10,20,30)\n",
    "print(\"Tuple\", tuple_1)\n",
    "print(type(tuple_1)) #print type of variable\n",
    "\n",
    "#Create a NumPy array using tuple\n",
    "arr_t = np.array((1, 2, 3, 4, 5))\n",
    "print(\"ndarray created from tuple\", arr_t)\n",
    "print(type(arr_t))\n",
    "\n",
    "#Pass a Tuple into the array() method used to create an ndarray object\n",
    "tuple_new = (25,50,75,100)\n",
    "ndarray_new = np.array(tuple_new)\n",
    "print(tuple_new)\n",
    "print(type(tuple_new))\n",
    "print(ndarray_new)\n",
    "print(type(ndarray_new))"
   ]
  },
  {
   "cell_type": "code",
   "execution_count": 18,
   "metadata": {},
   "outputs": [
    {
     "name": "stdout",
     "output_type": "stream",
     "text": [
      "List | ndarray\n",
      "\n",
      "List [2, 5, 7]\n",
      "<class 'list'>\n",
      "ndarray created from List [1 3 4 5]\n",
      "<class 'numpy.ndarray'>\n"
     ]
    }
   ],
   "source": [
    "print(\"List | ndarray\")\n",
    "print(\"\")\n",
    "\n",
    "#Create a List\n",
    "List_1 = [2,5,7]\n",
    "print(\"List\", List_1)\n",
    "print(type(List_1))\n",
    "\n",
    "#Create a NumPy array using List\n",
    "arr_l = np.array([1, 3, 4, 5])\n",
    "print(\"ndarray created from List\", arr_l)\n",
    "print(type(arr_l))\n"
   ]
  },
  {
   "cell_type": "markdown",
   "metadata": {},
   "source": [
    "###### Dimensions in Arrays\n",
    "A dimension in arrays is one level of array depth (nested arrays).\n",
    "nested array: are arrays that have arrays as their elements."
   ]
  },
  {
   "cell_type": "markdown",
   "metadata": {},
   "source": [
    "0-D Arrays\n",
    "- 0-D arrays, or Scalars, are the elements in an array. Each value in an array is a 0-D array."
   ]
  },
  {
   "cell_type": "code",
   "execution_count": 16,
   "metadata": {},
   "outputs": [
    {
     "name": "stdout",
     "output_type": "stream",
     "text": [
      "42\n",
      "<class 'numpy.ndarray'>\n"
     ]
    }
   ],
   "source": [
    "#0-D array with value\n",
    "arr_a = np.array(42)\n",
    "print(arr_a)\n",
    "print(type(arr_a))"
   ]
  },
  {
   "cell_type": "markdown",
   "metadata": {},
   "source": [
    "1-D Arrays\n",
    "- An array that has 0-D arrays as its elements is called uni-dimensional or 1-D array.\n",
    "- These are the most common and basic arrays."
   ]
  },
  {
   "cell_type": "code",
   "execution_count": 20,
   "metadata": {},
   "outputs": [
    {
     "name": "stdout",
     "output_type": "stream",
     "text": [
      "[1 2 3 4 5]\n",
      "<class 'numpy.ndarray'>\n"
     ]
    }
   ],
   "source": [
    "#Create 1-D array containing values\n",
    "arr_b = np.array([1, 2, 3, 4, 5])\n",
    "print(arr_b)\n",
    "print(type(arr_b))"
   ]
  },
  {
   "cell_type": "markdown",
   "metadata": {},
   "source": [
    "2-D Arrays\n",
    "- An array that has 1-D arrays as its elements is called a 2-D array.\n",
    "- These are often used to represent matrix or 2nd order tensor"
   ]
  },
  {
   "cell_type": "code",
   "execution_count": 23,
   "metadata": {},
   "outputs": [
    {
     "name": "stdout",
     "output_type": "stream",
     "text": [
      "[[1 2 3]\n",
      " [4 5 6]]\n"
     ]
    }
   ],
   "source": [
    "#Create a 2-D array containing two arrays with values\n",
    "arr_c = np.array([[1, 2, 3], [4, 5, 6]])\n",
    "print(arr_c)"
   ]
  },
  {
   "cell_type": "markdown",
   "metadata": {},
   "source": [
    "3-D arrays\n",
    "- An array that has 2-D arrays (matrices) as its elements is called 3-D array.\n",
    "- These are often used to represent a 3rd order tensor."
   ]
  },
  {
   "cell_type": "code",
   "execution_count": 24,
   "metadata": {},
   "outputs": [
    {
     "name": "stdout",
     "output_type": "stream",
     "text": [
      "[[[ 1  2  3]\n",
      "  [ 4  5  6]]\n",
      "\n",
      " [[11 12 13]\n",
      "  [14 15 16]]]\n"
     ]
    }
   ],
   "source": [
    "#Create a 3-D array with two 2-D arrays, both containing two arrays with values\n",
    "arr_d = np.array([[[1, 2, 3], [4, 5, 6]], [[11, 12, 13], [14, 15, 16]]])\n",
    "print(arr_d)"
   ]
  },
  {
   "cell_type": "markdown",
   "metadata": {},
   "source": [
    "###### Check Number of Dimensions in Ndarrays ?\n",
    "NumPy Arrays provides the ndim attribute that returns an integer that tells us how many dimensions the array have."
   ]
  },
  {
   "cell_type": "code",
   "execution_count": 27,
   "metadata": {},
   "outputs": [
    {
     "name": "stdout",
     "output_type": "stream",
     "text": [
      "ndarray dimensions\n",
      "0\n",
      "1\n",
      "2\n",
      "3\n"
     ]
    }
   ],
   "source": [
    "a = np.array(42)\n",
    "b = np.array([1, 2, 3, 4, 5])\n",
    "c = np.array([[1, 2, 3], [4, 5, 6]])\n",
    "d = np.array([[[1, 2, 3], [4, 5, 6]], [[1, 2, 3], [4, 5, 6]]])\n",
    "\n",
    "print(\"ndarray dimensions\")\n",
    "print(a.ndim) #ndim attribute\n",
    "print(b.ndim)\n",
    "print(c.ndim)\n",
    "print(d.ndim)"
   ]
  },
  {
   "cell_type": "markdown",
   "metadata": {},
   "source": [
    "###### Higher Dimensional Arrays\n",
    "An array can have any number of dimensions. When the array is created, you can define the number of dimensions by using the ndmin argument."
   ]
  },
  {
   "cell_type": "code",
   "execution_count": 29,
   "metadata": {},
   "outputs": [
    {
     "name": "stdout",
     "output_type": "stream",
     "text": [
      "<class 'numpy.ndarray'>\n",
      "[[[[[1 2 3 4]]]]]\n",
      "number of dimensions : 5\n"
     ]
    }
   ],
   "source": [
    "arr_n = np.array([1, 2, 3, 4], ndmin=5) #ndmin argument\n",
    "print(type(arr_n))\n",
    "print(arr_n)\n",
    "print('number of dimensions :', arr_n.ndim)"
   ]
  },
  {
   "cell_type": "markdown",
   "metadata": {},
   "source": [
    "### Conclusion\n",
    "We have taken a look at some cool features of the data structure from the numpy package. This certainly seems like a cool place to hold data."
   ]
  }
 ],
 "metadata": {
  "kernelspec": {
   "display_name": "Python 3",
   "language": "python",
   "name": "python3"
  },
  "language_info": {
   "codemirror_mode": {
    "name": "ipython",
    "version": 3
   },
   "file_extension": ".py",
   "mimetype": "text/x-python",
   "name": "python",
   "nbconvert_exporter": "python",
   "pygments_lexer": "ipython3",
   "version": "3.8.3"
  }
 },
 "nbformat": 4,
 "nbformat_minor": 4
}
