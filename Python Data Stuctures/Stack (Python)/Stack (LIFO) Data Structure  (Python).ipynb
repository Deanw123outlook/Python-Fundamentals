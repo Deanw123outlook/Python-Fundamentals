{
 "cells": [
  {
   "cell_type": "markdown",
   "metadata": {},
   "source": [
    "### Python Stack Data Stuctures\n",
    "Stack is a linear data structure which follows a particular order in which the operations are performed. The order may be LIFO(Last In First Out) or FILO(First In Last Out).\n",
    "\n",
    "METHAPHOR\n",
    "- We have a user using Google Internet Browser and they are building up searches on the same TAB !\n",
    "- Below we will initiate a STACK\n",
    "- The user will build on the above STACK ie. web seareches appending each new search to the stack\n",
    "- (Methaphor) user hits the back button (STACK LIFO rule) ie. we need to remove the last item (web-page) in the stack and REDIRECT to the previous item (web page)\n",
    "- We need to disable the back-button (methaphor) and to do this the STACK must be empty\n",
    "- We will write short code to check if the STACK is empty\n",
    "\n",
    "Defined order: LIFO (Last In First Out)"
   ]
  },
  {
   "cell_type": "markdown",
   "metadata": {},
   "source": [
    "### Part 1"
   ]
  },
  {
   "cell_type": "code",
   "execution_count": 22,
   "metadata": {},
   "outputs": [
    {
     "name": "stdout",
     "output_type": "stream",
     "text": [
      "Stack : ['EBAY-Offical-Website', 'W3school-Official-Website', 'Git-Hub-Offical-Website', 'Google-Docs-Homepage']\n",
      "Stack current size : 4\n"
     ]
    }
   ],
   "source": [
    "browsing_session = ['EBAY-Offical-Website','W3school-Official-Website','Git-Hub-Offical-Website','Google-Docs-Homepage'] # initiate our stack using python's in-built data structure List\n",
    "print(\"Stack : {}\".format(browsing_session)) # format () function is an in-built String function used for the purpose of formatting of strings and focuses on positioning !\n",
    "print(\"Stack current size : {}\".format(len(browsing_session)))"
   ]
  },
  {
   "cell_type": "markdown",
   "metadata": {},
   "source": [
    "### Part 2\n",
    "Metaphor we are using is user is building up search pages within the one web browsing session"
   ]
  },
  {
   "cell_type": "code",
   "execution_count": 23,
   "metadata": {},
   "outputs": [
    {
     "name": "stdout",
     "output_type": "stream",
     "text": [
      "Stack : ['EBAY-Offical-Website', 'W3school-Official-Website', 'Git-Hub-Offical-Website', 'Google-Docs-Homepage', 'Manchester-United-Official-Website', 'Amazon-Official-Website']\n",
      "Stack current size : 6\n"
     ]
    }
   ],
   "source": [
    "browsing_session.append(\"Manchester-United-Official-Website\") # Add items to our Stack ie. in our metaphor above ! \n",
    "browsing_session.append(\"Amazon-Official-Website\")\n",
    "print(\"Stack : {}\".format(browsing_session))\n",
    "print(\"Stack current size : {}\".format(len(browsing_session)))"
   ]
  },
  {
   "cell_type": "markdown",
   "metadata": {},
   "source": [
    "### Part 3\n",
    "Metaphor - User hits the back button. This will initiate our LIFO - last in first out rule"
   ]
  },
  {
   "cell_type": "code",
   "execution_count": 24,
   "metadata": {},
   "outputs": [
    {
     "name": "stdout",
     "output_type": "stream",
     "text": [
      "Redirect-to-Website : Manchester-United-Official-Website\n",
      "Stack : ['EBAY-Offical-Website', 'W3school-Official-Website', 'Git-Hub-Offical-Website', 'Google-Docs-Homepage', 'Manchester-United-Official-Website']\n",
      "Stack current size : 5\n"
     ]
    }
   ],
   "source": [
    "browsing_session.pop() # pop method will remove the last item in the stack \n",
    "print(\"Redirect-to-Website : {}\".format(browsing_session[-1]))\n",
    "print(\"Stack : {}\".format(browsing_session))\n",
    "print(\"Stack current size : {}\".format(len(browsing_session)))"
   ]
  },
  {
   "cell_type": "markdown",
   "metadata": {},
   "source": [
    "### Part 4 \n",
    "\n",
    "Metaphor - Disable back button \n",
    "\n",
    "- First we need to check if our stack is empty\n",
    "\n",
    "Below is simple code to check this !"
   ]
  },
  {
   "cell_type": "code",
   "execution_count": 27,
   "metadata": {},
   "outputs": [
    {
     "name": "stdout",
     "output_type": "stream",
     "text": [
      "Stack-Data-Structure-Full\n"
     ]
    }
   ],
   "source": [
    "if not browsing_session:\n",
    "    print(\"Disable-Stack\")\n",
    "else:\n",
    "    print(\"Stack-Data-Structure-Full\")"
   ]
  },
  {
   "cell_type": "code",
   "execution_count": null,
   "metadata": {},
   "outputs": [],
   "source": []
  }
 ],
 "metadata": {
  "kernelspec": {
   "display_name": "Python 3",
   "language": "python",
   "name": "python3"
  },
  "language_info": {
   "codemirror_mode": {
    "name": "ipython",
    "version": 3
   },
   "file_extension": ".py",
   "mimetype": "text/x-python",
   "name": "python",
   "nbconvert_exporter": "python",
   "pygments_lexer": "ipython3",
   "version": "3.8.3"
  }
 },
 "nbformat": 4,
 "nbformat_minor": 4
}
