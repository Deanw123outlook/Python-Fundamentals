{
 "cells": [
  {
   "cell_type": "markdown",
   "metadata": {},
   "source": [
    "# Python Tuples Part 2\n",
    "Remember about :\n",
    "- Ordered\n",
    "- Immutable\n",
    "- Allow Duplicate Values\n",
    "\n",
    "When unpacking tuples:\n",
    "1. The number of variables must match the number of values in the tuple, if not, you must use an asterisk to collect the remaining values as a list.\n",
    "\n",
    "However in real world scenarioes this can prove not to be the case we can use the Asterisk*\n",
    "2. If the number of variables is less than the number of values, you can add an * to the variable name and the values will be assigned to the variable as a list\n",
    "\n",
    "If we dont use the Asterisk* in this case an error will be geenerated"
   ]
  },
  {
   "cell_type": "code",
   "execution_count": 34,
   "metadata": {},
   "outputs": [
    {
     "name": "stdout",
     "output_type": "stream",
     "text": [
      "<class 'list'>\n",
      "[(2, 10), (4, 23), (6, 34), ('Tesla', 'Amazon')]\n"
     ]
    }
   ],
   "source": [
    "a = [2,4,6,\"Tesla\"] # create a list\n",
    "b = [10,23,34,\"Amazon\"] # create a list\n",
    "#\n",
    "tup = list(zip(a,b)) # zip function zips list together to create tuple\n",
    "print(type(tup)) # check type\n",
    "print(tup)"
   ]
  },
  {
   "cell_type": "markdown",
   "metadata": {},
   "source": [
    "### Unpacking a tuple\n",
    "\n",
    "NOTE\n",
    "\n",
    "The placeholder is defined using curly brackets: {}. Read more about the placeholders in the Placeholder section below."
   ]
  },
  {
   "cell_type": "code",
   "execution_count": 35,
   "metadata": {},
   "outputs": [
    {
     "name": "stdout",
     "output_type": "stream",
     "text": [
      "<class 'str'>\n",
      "banana\n",
      "cherry\n",
      "tomato\n",
      "Unpacked Tuples: Tup 1 apple | Tup 2 banana | Tup 3 cherry | Tup 4 tomato\n"
     ]
    }
   ],
   "source": [
    "fruits = (\"apple\", \"banana\", \"cherry\",\"tomato\")\n",
    "\n",
    "(green, yellow, red, outlier) = fruits\n",
    "\n",
    "print(type(green))\n",
    "print(yellow)\n",
    "print(red)\n",
    "print(outlier)\n",
    "print(\"Unpacked Tuples: Tup 1 {} | Tup 2 {} | Tup 3 {} | Tup 4 {}\".format(green,yellow,red,outlier)) # format() method formats the specified value(s) and insert them inside the string's placeholder.\n"
   ]
  },
  {
   "cell_type": "markdown",
   "metadata": {},
   "source": [
    "### Using Asterisk * to unpack tuples "
   ]
  },
  {
   "cell_type": "code",
   "execution_count": 37,
   "metadata": {},
   "outputs": [
    {
     "name": "stdout",
     "output_type": "stream",
     "text": [
      "<class 'tuple'>\n",
      "Tesla\n",
      "<class 'str'>\n",
      "<class 'list'>\n",
      "['Amazon', 'Microsoft', 'Intel']\n"
     ]
    }
   ],
   "source": [
    "tup_a = (\"Tesla\",\"Amazon\",\"Microsoft\",\"Intel\") # initialize tuple using parenthesis\n",
    "print(type(tup_a)) # data type checking\n",
    "#\n",
    "(tup_a,*tups) = tup_a # unpacking tuples & using Asterisk *\n",
    "#\n",
    "print(tup_a)\n",
    "print(type(tup_a)) # type checking\n",
    "# \n",
    "print(type(tups))\n",
    "print(tups)"
   ]
  },
  {
   "cell_type": "markdown",
   "metadata": {},
   "source": [
    "We can see from using the above *Asterisk that the remaining items in thhe tuple will be packed into a list that we can later call !"
   ]
  },
  {
   "cell_type": "markdown",
   "metadata": {},
   "source": [
    "NOTE\n",
    "\n",
    "If the asterisk is added to another variable name than the last, Python will assign values to the variable until the number of values left matches the number of variables left."
   ]
  },
  {
   "cell_type": "markdown",
   "metadata": {},
   "source": [
    "### Looping Tupes"
   ]
  },
  {
   "cell_type": "code",
   "execution_count": 44,
   "metadata": {},
   "outputs": [
    {
     "name": "stdout",
     "output_type": "stream",
     "text": [
      "('Amazon', 'Microsoft', 'Intel', 'Google', 'Apple') <class 'tuple'> <class 'str'>\n"
     ]
    }
   ],
   "source": [
    "Companies = tuple((\"Amazon\",\"Microsoft\",\"Intel\",\"Google\",\"Apple\")) # intiate a new tuple using the constructor method (tuple())\n",
    "print(Companies, type(Companies), type(Companies[0])) # check some data"
   ]
  },
  {
   "cell_type": "code",
   "execution_count": 67,
   "metadata": {},
   "outputs": [
    {
     "name": "stdout",
     "output_type": "stream",
     "text": [
      "-1\n",
      "cherry\n",
      "Index Number : 0 | Company : apple\n",
      "0\n",
      "apple\n",
      "Index Number : 1 | Company : banana\n",
      "1\n",
      "banana\n",
      "Index Number : 2 | Company : cherry\n"
     ]
    }
   ],
   "source": [
    "# initiate a for loop print items in tuple\n",
    "#for i in Companies:\n",
    "#    print(i,type(i))\n",
    "\n",
    "# intiate a for loop & use range function\n",
    "#for x in range(len(Companies)): # loop through the tuple items by referring to their index number\n",
    "#    print(\"index : {} | Company {}\".format(x,Companies[x])) # format\n",
    "    \n",
    "xz = (\"apple\", \"banana\", \"cherry\") # initiate a tuple\n",
    "i = -1 # counter variable (will be used to exit our while loop) & REMEMBER ZERO INDEXING hence -1 \n",
    "while i < len(xz) -1: # intiate while loop \n",
    "    print(i)\n",
    "    print(xz[i])\n",
    "    i += 1 # increment value of counter variable using assignment operator\n",
    "    print(\"Index Number : {} | Company : {}\".format(i,xz[i])) # print output"
   ]
  },
  {
   "cell_type": "code",
   "execution_count": null,
   "metadata": {},
   "outputs": [],
   "source": []
  }
 ],
 "metadata": {
  "kernelspec": {
   "display_name": "Python 3",
   "language": "python",
   "name": "python3"
  },
  "language_info": {
   "codemirror_mode": {
    "name": "ipython",
    "version": 3
   },
   "file_extension": ".py",
   "mimetype": "text/x-python",
   "name": "python",
   "nbconvert_exporter": "python",
   "pygments_lexer": "ipython3",
   "version": "3.8.3"
  }
 },
 "nbformat": 4,
 "nbformat_minor": 4
}
