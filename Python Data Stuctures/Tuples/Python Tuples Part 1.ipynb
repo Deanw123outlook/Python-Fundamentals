{
 "cells": [
  {
   "cell_type": "markdown",
   "metadata": {},
   "source": [
    "### Tuples (Part 1)\n",
    "\n",
    "One of Pythons in Built-Data Stuctures\n",
    "\n",
    "- Ordered\n",
    "- Immutable\n",
    "\n",
    "NOTE\n",
    "\n",
    "Once a tuple is created, you cannot change its values. Tuples are unchangeable, or immutable as it also is called.\n",
    "\n",
    "But there is a workaround. You can convert the tuple into a list, change the list, and convert the list back into a tuple.\n",
    "- Allow duplicate values"
   ]
  },
  {
   "cell_type": "code",
   "execution_count": 7,
   "metadata": {},
   "outputs": [
    {
     "name": "stdout",
     "output_type": "stream",
     "text": [
      "('Tesla', 'Amazon', 'Accenture', 1)\n",
      "4\n",
      "<class 'tuple'>\n"
     ]
    }
   ],
   "source": [
    "new_tup = (\"Tesla\",\"Amazon\",\"Accenture\",1,) # declare a tuple\n",
    "print(new_tup)\n",
    "print(len(new_tup))\n",
    "print(type(new_tup))"
   ]
  },
  {
   "cell_type": "markdown",
   "metadata": {},
   "source": [
    "It is possible to use the tuple() constructor to make a tuple"
   ]
  },
  {
   "cell_type": "code",
   "execution_count": 13,
   "metadata": {},
   "outputs": [
    {
     "name": "stdout",
     "output_type": "stream",
     "text": [
      "(5, 24, 'Tesla', 10)\n",
      "4\n",
      "<class 'tuple'>\n"
     ]
    }
   ],
   "source": [
    "lst = [5,24,\"Tesla\",10] # tuple() constructor to make a tuple.\n",
    "new_tup_a = tuple(lst)\n",
    "print(new_tup_a)\n",
    "print(len(new_tup_a))\n",
    "print(type(new_tup_a))"
   ]
  },
  {
   "cell_type": "markdown",
   "metadata": {},
   "source": [
    "### Access Tuples\n",
    "Zero indexing\n",
    "\n",
    "Range of Indexes\n",
    "- You can specify a range of indexes by specifying where to start and where to end the range.\n",
    "- When specifying a range, the return value will be a new tuple with the specified items.\n",
    "\n",
    "NOTE\n",
    "\n",
    "Search will start at index (included) and end at index (not included)."
   ]
  },
  {
   "cell_type": "code",
   "execution_count": 16,
   "metadata": {},
   "outputs": [
    {
     "name": "stdout",
     "output_type": "stream",
     "text": [
      "5\n",
      "24\n",
      "(24, 'Tesla')\n",
      "('Accenture', 1)\n"
     ]
    }
   ],
   "source": [
    "print(new_tup_a[0])\n",
    "print(new_tup_a[1])\n",
    "print(new_tup_a[1:3]) # slicing\n",
    "print(new_tup[2:4]) "
   ]
  },
  {
   "cell_type": "markdown",
   "metadata": {},
   "source": [
    "### Check if item exists in Tuple\n",
    "if else in statement"
   ]
  },
  {
   "cell_type": "code",
   "execution_count": 25,
   "metadata": {},
   "outputs": [
    {
     "name": "stdout",
     "output_type": "stream",
     "text": [
      "Yes, 'apple' is in the fruits tuple\n"
     ]
    }
   ],
   "source": [
    "thistuple = (\"apple\", \"banana\", \"cherry\") # initiate tuple\n",
    "#\n",
    "if \"apple\" in thistuple: # if/else/in statement\n",
    "    print(\"Yes, 'apple' is in the fruits tuple\")\n",
    "else:\n",
    "    print(\"Item not found\")"
   ]
  },
  {
   "cell_type": "markdown",
   "metadata": {},
   "source": [
    "### Changing an item in tuple\n",
    "Workaround\n",
    "- Step 1 : Convert tuple to list\n",
    "- Step 2 : Change item in list\n",
    "- Step 3 : Change list back to tuple using constuctor method : tuple()"
   ]
  },
  {
   "cell_type": "code",
   "execution_count": 26,
   "metadata": {},
   "outputs": [
    {
     "name": "stdout",
     "output_type": "stream",
     "text": [
      "('apple', 'banana', 'cherry')\n",
      "<class 'tuple'>\n",
      "['apple', 'banana', 'cherry']\n",
      "<class 'list'>\n",
      "['apple', 'banana', 'plum']\n",
      "<class 'tuple'>\n",
      "('apple', 'banana', 'plum')\n"
     ]
    }
   ],
   "source": [
    "# convert the tuple into a list to be able to change it\n",
    "tup = (\"apple\", \"banana\", \"cherry\") # intiate tuple\n",
    "x = list(tup) # list function converts iterbale into a list\n",
    "#\n",
    "print(tup)\n",
    "print(type(tup)) # check data type\n",
    "#\n",
    "print(x)\n",
    "print(type(x)) # check data type\n",
    "#\n",
    "\n",
    "x[2] = \"plum\" # change/replace the last item in the list\n",
    "print(x)\n",
    "\n",
    "tup_x = tuple(x) # tuple constuctor to convert list to tuple\n",
    "print(type(tup_x))\n",
    "print(tup_x)"
   ]
  },
  {
   "cell_type": "markdown",
   "metadata": {},
   "source": [
    "### Add Items\n",
    "Since tuples are immutable, they do not have a build-in append() method, but there are other ways to add items to a tuple.\n",
    "1. Convert into a list: Just like the workaround for changing a tuple, you can convert it into a list, add your item(s), and convert it back into a tuple."
   ]
  },
  {
   "cell_type": "code",
   "execution_count": 28,
   "metadata": {},
   "outputs": [
    {
     "name": "stdout",
     "output_type": "stream",
     "text": [
      "('apple', 'banana', 'cherry', 'orange')\n"
     ]
    }
   ],
   "source": [
    "thistuple = (\"apple\", \"banana\", \"cherry\") # intiate tuple using parenthesis\n",
    "#\n",
    "y = list(thistuple) # list function converts iterbale into a list\n",
    "y.append(\"orange\") # appends(add) an item to list\n",
    "thistuple = tuple(y) # convert back to a tuple\n",
    "print(thistuple) "
   ]
  },
  {
   "cell_type": "markdown",
   "metadata": {},
   "source": [
    "2. Add tuple to a tuple. You are allowed to add tuples to tuples, so if you want to add one item, (or many), create a new tuple with the item(s), and add it to the existing tuple:"
   ]
  },
  {
   "cell_type": "code",
   "execution_count": 31,
   "metadata": {},
   "outputs": [
    {
     "name": "stdout",
     "output_type": "stream",
     "text": [
      "('apple', 'banana', 'cherry', 'orange', 'plum', 'plum')\n"
     ]
    }
   ],
   "source": [
    "y = (\"plum\",) \n",
    "thistuple += y # assignment operator\n",
    "#\n",
    "print(thistuple) # print output for analysis"
   ]
  },
  {
   "cell_type": "markdown",
   "metadata": {},
   "source": [
    "Note\n",
    "\n",
    "When creating a tuple with only one item, remember to include a comma after the item, otherwise it will not be identified as a tuple."
   ]
  }
 ],
 "metadata": {
  "kernelspec": {
   "display_name": "Python 3",
   "language": "python",
   "name": "python3"
  },
  "language_info": {
   "codemirror_mode": {
    "name": "ipython",
    "version": 3
   },
   "file_extension": ".py",
   "mimetype": "text/x-python",
   "name": "python",
   "nbconvert_exporter": "python",
   "pygments_lexer": "ipython3",
   "version": "3.8.3"
  }
 },
 "nbformat": 4,
 "nbformat_minor": 4
}
