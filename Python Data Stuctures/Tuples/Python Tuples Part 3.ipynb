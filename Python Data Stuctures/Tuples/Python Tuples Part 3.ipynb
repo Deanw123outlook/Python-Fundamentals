{
 "cells": [
  {
   "cell_type": "markdown",
   "metadata": {},
   "source": [
    "# Python Tuples Part 3\n",
    "NOTE :\n",
    "- Ordered\n",
    "- Immutable\n",
    "- Allow Duplicate Values\n",
    "\n",
    "When unpacking tuples:\n",
    "\n",
    "The number of variables must match the number of values in the tuple, if not, you must use an asterisk to collect the remaining values as a list.\n",
    "However in real world scenarioes this can prove not to be the case we can use the Asterisk*\n",
    "\n",
    "If the number of variables is less than the number of values, you can add an * to the variable name and the values will be assigned to the variable as a list\n",
    "If we dont use the Asterisk* in this case an error will be geenerated"
   ]
  },
  {
   "cell_type": "markdown",
   "metadata": {},
   "source": [
    "###### Workaround - Mutating an item in a Tuple\n",
    "\n",
    "Task 1"
   ]
  },
  {
   "cell_type": "code",
   "execution_count": 4,
   "metadata": {},
   "outputs": [
    {
     "name": "stdout",
     "output_type": "stream",
     "text": [
      "('apple', 'banana', 'cherry', 'orange', 'grapes')\n",
      "<class 'tuple'>\n",
      "['apple', 'banana', 'cherry', 'orange', 'grapes']\n",
      "<class 'list'>\n",
      "['apple', 'banana', 'plum', 'orange', 'grapes']\n",
      "<class 'tuple'>\n",
      "('apple', 'banana', 'plum', 'orange', 'grapes')\n"
     ]
    }
   ],
   "source": [
    "# convert the tuple into a list to be able to change it\n",
    "tup = (\"apple\", \"banana\", \"cherry\",\"orange\",\"grapes\") # intiate tuple\n",
    "x = list(tup) # list function converts iterbale into a list\n",
    "#\n",
    "print(tup)\n",
    "print(type(tup)) # check data type\n",
    "#\n",
    "print(x)\n",
    "print(type(x)) # check data type\n",
    "#\n",
    "\n",
    "x[2] = \"plum\" # change/replace the last item in the list\n",
    "print(x)\n",
    "\n",
    "tup_x = tuple(x) # tuple constuctor to convert list to tuple\n",
    "print(type(tup_x))\n",
    "print(tup_x)"
   ]
  },
  {
   "cell_type": "markdown",
   "metadata": {},
   "source": [
    "###### Unpack Tuples"
   ]
  },
  {
   "cell_type": "code",
   "execution_count": 7,
   "metadata": {},
   "outputs": [
    {
     "name": "stdout",
     "output_type": "stream",
     "text": [
      "<class 'str'>\n",
      "banana\n",
      "['plum', 'orange', 'grapes']\n",
      "Unpacked Tuples: Tup 1 apple | Tup 2 banana | Tup 3 ['plum', 'orange', 'grapes']\n"
     ]
    }
   ],
   "source": [
    "(green, yellow, *unknown) = tup_x # unpack tuples into new variables (note the *astherisk when we dont know how many variables we require)\n",
    "#\n",
    "print(type(green))\n",
    "print(yellow)\n",
    "print(unknown)\n",
    "print(\"Unpacked Tuples: Tup 1 {} | Tup 2 {} | Tup 3 {}\".format(green,yellow,unknown)) # format() method formats the specified value(s) and insert them inside the string's placeholder.\n"
   ]
  },
  {
   "cell_type": "markdown",
   "metadata": {},
   "source": [
    "###### pop ()\n",
    "pop item from tuple via list conversion\n",
    "- The built-in pop() Python method takes only one optional parameter.\n",
    "- The optional parameter is the index of the item you want to remove.\n",
    "\n",
    "How to Use the pop() Method With No Parameter\n",
    "\n",
    "By default, if there is no index specified, the pop() method will remove the last item that is contained in the list.\n",
    "\n",
    "This means that when the pop() method doesn't have any arguments, it will remove the last list item."
   ]
  },
  {
   "cell_type": "code",
   "execution_count": 9,
   "metadata": {},
   "outputs": [
    {
     "name": "stdout",
     "output_type": "stream",
     "text": [
      "('apple', 'banana', 'plum', 'orange', 'grapes')\n",
      "apple\n"
     ]
    },
    {
     "data": {
      "text/plain": [
       "['banana', 'plum', 'orange', 'grapes']"
      ]
     },
     "execution_count": 9,
     "metadata": {},
     "output_type": "execute_result"
    }
   ],
   "source": [
    "# remove an item from the tuple using pop()\n",
    "print(tup_x)\n",
    "remove = list(tup_x)\n",
    "#\n",
    "rem = remove.pop(0) # pop method (remember zero indexing)\n",
    "print(rem) # check execution of pop method\n",
    "remove\n"
   ]
  },
  {
   "cell_type": "markdown",
   "metadata": {},
   "source": [
    "Task 2"
   ]
  },
  {
   "cell_type": "code",
   "execution_count": 10,
   "metadata": {},
   "outputs": [
    {
     "name": "stdout",
     "output_type": "stream",
     "text": [
      "<class 'tuple'>\n",
      "('Tesla', 'Amazon', 'Microsoft')\n"
     ]
    }
   ],
   "source": [
    "tup_a = (\"Tesla\",\"Amazon\",\"Microsoft\")\n",
    "print(type(tup_a))\n",
    "print(tup_a)"
   ]
  },
  {
   "cell_type": "code",
   "execution_count": 11,
   "metadata": {},
   "outputs": [
    {
     "name": "stdout",
     "output_type": "stream",
     "text": [
      "<class 'list'> ['Tesla', 'Amazon', 'Microsoft']\n",
      "['Tesla', 'Amazon', 'Microsoft', 'Apple']\n",
      "<class 'tuple'> ('Tesla', 'Amazon', 'Microsoft', 'Apple')\n"
     ]
    }
   ],
   "source": [
    "list_t = list(tup_a) # list function convert tuplr to list\n",
    "print(type(list_t),list_t) # check execution\n",
    "#\n",
    "list_t.append(\"Apple\") # add time to list\n",
    "print(list_t) # check item added\n",
    "#\n",
    "tup_b = tuple(list_t) # convert list back to a tuple\n",
    "print(type(tup_b),tup_b) # check execution"
   ]
  },
  {
   "cell_type": "markdown",
   "metadata": {},
   "source": [
    "##### Joining Tuples"
   ]
  },
  {
   "cell_type": "code",
   "execution_count": 12,
   "metadata": {},
   "outputs": [
    {
     "name": "stdout",
     "output_type": "stream",
     "text": [
      "('apple', 'banana', 'plum', 'orange', 'grapes') ('Tesla', 'Amazon', 'Microsoft', 'Apple')\n"
     ]
    }
   ],
   "source": [
    "tup_az = tup_x\n",
    "tup_za = tup_b\n",
    "print(tup_az,tup_za)"
   ]
  },
  {
   "cell_type": "code",
   "execution_count": 13,
   "metadata": {},
   "outputs": [
    {
     "name": "stdout",
     "output_type": "stream",
     "text": [
      "('apple', 'banana', 'plum', 'orange', 'grapes', 'Tesla', 'Amazon', 'Microsoft', 'Apple')\n"
     ]
    }
   ],
   "source": [
    "tup_azza = tup_az + tup_za\n",
    "print(tup_azza)"
   ]
  },
  {
   "cell_type": "markdown",
   "metadata": {},
   "source": [
    "###### zip function()\n",
    "The zip() function returns a zip object, which is an iterator of tuples where the first item in each passed iterator is paired together, and then the second item in each passed iterator are paired together etc.\n",
    "\n",
    "If the passed iterators have different lengths, the iterator with the least items decides the length of the new iterator.\n"
   ]
  },
  {
   "cell_type": "code",
   "execution_count": 14,
   "metadata": {},
   "outputs": [],
   "source": [
    "# create four lists\n",
    "lst_a = [10,20,30,40,50]\n",
    "lst_b = [60,70,80,90,100]\n",
    "lst_ab = [\"Amazon\",\"Tesla\",\"Apple\",\"Ebay\",\"Apple\"]\n",
    "lst_ba = [100,200,150,80,200]"
   ]
  },
  {
   "cell_type": "code",
   "execution_count": 15,
   "metadata": {},
   "outputs": [
    {
     "name": "stdout",
     "output_type": "stream",
     "text": [
      "[(10, 60), (20, 70), (30, 80), (40, 90), (50, 100)]\n",
      "<class 'list'>\n"
     ]
    }
   ],
   "source": [
    "zipped = list(zip(lst_a,lst_b)) # zip function iterator of tuples & list function converts iterator into a list\n",
    "print(zipped)\n",
    "print(type(zipped))"
   ]
  },
  {
   "cell_type": "markdown",
   "metadata": {},
   "source": [
    "Above we have printed a list of tuples combining the list & zip function"
   ]
  },
  {
   "cell_type": "code",
   "execution_count": 16,
   "metadata": {},
   "outputs": [
    {
     "name": "stdout",
     "output_type": "stream",
     "text": [
      "(10, 60)\n",
      "<class 'tuple'> (10, 60)\n",
      "(10, 60)\n",
      "<class 'tuple'> (20, 70)\n",
      "(10, 60)\n",
      "<class 'tuple'> (30, 80)\n",
      "(10, 60)\n",
      "<class 'tuple'> (40, 90)\n",
      "(10, 60)\n",
      "<class 'tuple'> (50, 100)\n"
     ]
    }
   ],
   "source": [
    "for x in zipped:\n",
    "    print(zipped[0]) # indexing\n",
    "    print(type(x),x)"
   ]
  },
  {
   "cell_type": "markdown",
   "metadata": {},
   "source": [
    "Above loop confirms we now have a created a list of tuples"
   ]
  },
  {
   "cell_type": "code",
   "execution_count": 17,
   "metadata": {},
   "outputs": [
    {
     "name": "stdout",
     "output_type": "stream",
     "text": [
      "[(400, 600), (20, 70), (30, 80), (40, 90), (50, 100)]\n"
     ]
    }
   ],
   "source": [
    "zipped[0] = (400,600) # mutate item one in the list \n",
    "print(zipped) # checking execution"
   ]
  },
  {
   "cell_type": "markdown",
   "metadata": {},
   "source": [
    "###### enumerate() function\n",
    "The enumerate() function takes a collection (e.g. a tuple) and returns it as an enumerate object.\n",
    "\n",
    "The enumerate() function adds a counter as the key of the enumerate object."
   ]
  },
  {
   "cell_type": "code",
   "execution_count": 18,
   "metadata": {},
   "outputs": [
    {
     "name": "stdout",
     "output_type": "stream",
     "text": [
      "20\n",
      "(400, 600)\n",
      "21\n",
      "(20, 70)\n",
      "22\n",
      "(30, 80)\n",
      "23\n",
      "(40, 90)\n",
      "24\n",
      "(50, 100)\n"
     ]
    }
   ],
   "source": [
    "for index,item in enumerate(zipped, start = 20): # enumerate (iterable, start)\n",
    "    print(index)\n",
    "    print(item)"
   ]
  },
  {
   "cell_type": "code",
   "execution_count": null,
   "metadata": {},
   "outputs": [],
   "source": []
  }
 ],
 "metadata": {
  "kernelspec": {
   "display_name": "Python 3",
   "language": "python",
   "name": "python3"
  },
  "language_info": {
   "codemirror_mode": {
    "name": "ipython",
    "version": 3
   },
   "file_extension": ".py",
   "mimetype": "text/x-python",
   "name": "python",
   "nbconvert_exporter": "python",
   "pygments_lexer": "ipython3",
   "version": "3.8.3"
  }
 },
 "nbformat": 4,
 "nbformat_minor": 4
}
