{
 "cells": [
  {
   "cell_type": "markdown",
   "metadata": {},
   "source": [
    "# Dictionaries (Part 1)\n",
    "###### Python Collections (Arrays)\n",
    "There are four collection data types in the Python programming language:\n",
    "\n",
    "- List is a collection which is ordered and changeable. Allows duplicate members.\n",
    "- Tuple is a collection which is ordered and unchangeable. Allows duplicate members.\n",
    "- Set is a collection which is unordered, unchangeable*, and unindexed. No duplicate members.\n",
    "- Dictionary is a collection which is ordered** and changeable. No duplicate members.\n",
    "*Set items are unchangeable, but you can remove and/or add items whenever you like.\n",
    "\n",
    "\n",
    "###### Basic Info\n",
    "- Dictionaries are used to store data values in key:value pairs.\n",
    "- A dictionary is a collection which is ordered*, changeable and do not allow duplicates.\n",
    "(As of Python version 3.7, dictionaries are ordered. In Python 3.6 and earlier, dictionaries are unordered.)\n",
    "- Dictionaries are written with curly brackets, and have keys and values:"
   ]
  },
  {
   "cell_type": "code",
   "execution_count": 4,
   "metadata": {},
   "outputs": [
    {
     "name": "stdout",
     "output_type": "stream",
     "text": [
      "<class 'dict'>\n",
      "{'make': 'Ford', 'model': 'Mustang', 'year': 1964}\n",
      "{'make': 'Volswagon', 'model': 'Golf', 'year': 1995}\n"
     ]
    }
   ],
   "source": [
    "dict_1 = {\"make\": \"Ford\", \"model\": \"Mustang\",\"year\": 1964,} # create a dictionary (Key:value) pairs!\n",
    "print(type(new_dict)) # print type of data\n",
    "print(dict_1)\n",
    "\n",
    "dict_2 = {\"make\": \"Volswagon\", \"model\": \"Golf\", \"year\": 1995}\n",
    "print(dict_2)"
   ]
  },
  {
   "cell_type": "markdown",
   "metadata": {},
   "source": [
    "###### Dictionary Items\n",
    "- Dictionary items are ordered, changeable, and does not allow duplicates.\n",
    "- Dictionary items are presented in key:value pairs, and can be referred to by using the key name."
   ]
  },
  {
   "cell_type": "code",
   "execution_count": 11,
   "metadata": {},
   "outputs": [
    {
     "name": "stdout",
     "output_type": "stream",
     "text": [
      "dict_keys(['make', 'model', 'year'])\n",
      "dict_keys(['make', 'model', 'year'])\n",
      "Ford\n",
      "Volswagon\n",
      "3\n"
     ]
    }
   ],
   "source": [
    "print(dict_1.keys()) # key() method will return key names\n",
    "print(dict_2.keys())\n",
    "#\n",
    "print(dict_1['make']) # using the key as an index to return the value\n",
    "print(dict_2['make'])\n",
    "#\n",
    "print(len(dict_1)) # return how many items dictionary contains using len() method"
   ]
  },
  {
   "cell_type": "markdown",
   "metadata": {},
   "source": [
    "- Duplicates Not Allowed\n",
    "\n",
    "Dictionaries cannot have two items with the same key:\n",
    "- Dictionary Items - Data Types\n",
    "\n",
    "The values in dictionary items can be of any data type:"
   ]
  },
  {
   "cell_type": "code",
   "execution_count": null,
   "metadata": {},
   "outputs": [],
   "source": []
  }
 ],
 "metadata": {
  "kernelspec": {
   "display_name": "Python 3",
   "language": "python",
   "name": "python3"
  },
  "language_info": {
   "codemirror_mode": {
    "name": "ipython",
    "version": 3
   },
   "file_extension": ".py",
   "mimetype": "text/x-python",
   "name": "python",
   "nbconvert_exporter": "python",
   "pygments_lexer": "ipython3",
   "version": "3.8.3"
  }
 },
 "nbformat": 4,
 "nbformat_minor": 4
}
