{
 "cells": [
  {
   "cell_type": "markdown",
   "metadata": {},
   "source": [
    "# Dictionaries (Part-2) "
   ]
  },
  {
   "cell_type": "markdown",
   "metadata": {},
   "source": [
    "### Accessing Dictionary Items\n",
    "- You can access the items of a dictionary by referring to its key name, inside square brackets:\n",
    "- There is also a method called get() that will give you the same result\n",
    "\n",
    "\n",
    "### Dictionary  Methods()\n",
    "###### keys()\n",
    "- The keys() method will return a list of all the keys in the dictionary.\n",
    "\n",
    "The list of the keys is a view of the dictionary, meaning that any changes done to the dictionary will be reflected in the keys list.\n",
    "\n",
    "###### values()\n",
    "- The values() method will return a list of all the values in the dictionary.\n",
    "\n",
    "###### items()\n",
    "- The items() method will return each item in a dictionary, as tuples in a list.\n",
    "\n",
    ".....Get a list of the key:value pairs\n",
    "\n",
    "The returned list is a view of the items of the dictionary, meaning that any changes done to the dictionary will be reflected in the items list.\n"
   ]
  },
  {
   "cell_type": "code",
   "execution_count": 1,
   "metadata": {},
   "outputs": [],
   "source": [
    "#Create 3 Lists consisting of data\n",
    "Country = ['Republic of Ireland','Northern Ireland','England','Scotland','France','Germany','Spain',\n",
    "                 'Portugal','Netherlands','Sweeden']\n",
    "Capital = ['Dublin','Belfast','London','Edinborough','Paris','Berlin','Madrid','Lisbon','Amsterdam','Stockholm']\n",
    "Population = ['4.9','1.84','56.2','5.5','65.3','82.9','46.8','10.3','17.2','10.2']"
   ]
  },
  {
   "cell_type": "code",
   "execution_count": 2,
   "metadata": {},
   "outputs": [
    {
     "name": "stdout",
     "output_type": "stream",
     "text": [
      "{'Country': ['Republic of Ireland', 'Northern Ireland', 'England', 'Scotland', 'France', 'Germany', 'Spain', 'Portugal', 'Netherlands', 'Sweeden'], 'Capitals': ['Dublin', 'Belfast', 'London', 'Edinborough', 'Paris', 'Berlin', 'Madrid', 'Lisbon', 'Amsterdam', 'Stockholm'], 'Population': ['4.9', '1.84', '56.2', '5.5', '65.3', '82.9', '46.8', '10.3', '17.2', '10.2']}\n"
     ]
    }
   ],
   "source": [
    "Dictionary = {'Country':Country, 'Capitals':Capital,'Population':Population} # Migrating the above lists into a Dictionary\n",
    "print(Dictionary)"
   ]
  },
  {
   "cell_type": "markdown",
   "metadata": {},
   "source": [
    "###### keys() method"
   ]
  },
  {
   "cell_type": "code",
   "execution_count": 3,
   "metadata": {},
   "outputs": [
    {
     "name": "stdout",
     "output_type": "stream",
     "text": [
      "dict_keys(['Country', 'Capitals', 'Population'])\n"
     ]
    }
   ],
   "source": [
    "print(Dictionary.keys()) # keys method - return dictionary keys"
   ]
  },
  {
   "cell_type": "markdown",
   "metadata": {},
   "source": [
    "Write a simple if-else statement to find if a key exists in a Dictionary"
   ]
  },
  {
   "cell_type": "code",
   "execution_count": 4,
   "metadata": {},
   "outputs": [
    {
     "name": "stdout",
     "output_type": "stream",
     "text": [
      "TRUE\n"
     ]
    }
   ],
   "source": [
    "if \"Capitals\" in Dictionary: # check if KEY exists in dictionary\n",
    "    print(\"TRUE\")\n",
    "else:\n",
    "    print(\"FALSE\")"
   ]
  },
  {
   "cell_type": "markdown",
   "metadata": {},
   "source": [
    "##### values() method"
   ]
  },
  {
   "cell_type": "code",
   "execution_count": 5,
   "metadata": {},
   "outputs": [
    {
     "name": "stdout",
     "output_type": "stream",
     "text": [
      "dict_values([['Republic of Ireland', 'Northern Ireland', 'England', 'Scotland', 'France', 'Germany', 'Spain', 'Portugal', 'Netherlands', 'Sweeden'], ['Dublin', 'Belfast', 'London', 'Edinborough', 'Paris', 'Berlin', 'Madrid', 'Lisbon', 'Amsterdam', 'Stockholm'], ['4.9', '1.84', '56.2', '5.5', '65.3', '82.9', '46.8', '10.3', '17.2', '10.2']])\n"
     ]
    }
   ],
   "source": [
    "print(Dictionary.values()) # values method - return dictionary values"
   ]
  },
  {
   "cell_type": "markdown",
   "metadata": {},
   "source": [
    "###### items() method"
   ]
  },
  {
   "cell_type": "code",
   "execution_count": 6,
   "metadata": {},
   "outputs": [
    {
     "name": "stdout",
     "output_type": "stream",
     "text": [
      "dict_items([('Country', ['Republic of Ireland', 'Northern Ireland', 'England', 'Scotland', 'France', 'Germany', 'Spain', 'Portugal', 'Netherlands', 'Sweeden']), ('Capitals', ['Dublin', 'Belfast', 'London', 'Edinborough', 'Paris', 'Berlin', 'Madrid', 'Lisbon', 'Amsterdam', 'Stockholm']), ('Population', ['4.9', '1.84', '56.2', '5.5', '65.3', '82.9', '46.8', '10.3', '17.2', '10.2'])])\n"
     ]
    }
   ],
   "source": [
    "print(Dictionary.items()) # items() method - return each item in a dictionary, as tuples in a list."
   ]
  },
  {
   "cell_type": "markdown",
   "metadata": {},
   "source": [
    "### Changing Dictionary Items\n",
    "- You can change the value of a specific item by referring to its key name\n",
    "\n",
    "- The update() method will update the dictionary with the items from the given argument.\n",
    "\n",
    "The argument must be a dictionary, or an iterable object with key:value pairs."
   ]
  },
  {
   "cell_type": "code",
   "execution_count": 7,
   "metadata": {},
   "outputs": [
    {
     "name": "stdout",
     "output_type": "stream",
     "text": [
      "['4.9', '1.84', '65.8', '5.5', '65.3', '82.9', '46.8', '10.3', '17.2', '10.2']\n",
      "65.8\n"
     ]
    }
   ],
   "source": [
    "Dictionary['Population'][2] = '65.8'# change the value of a specific item by referring to its key name\n",
    "print(Dictionary['Population']) # checking value change \n",
    "print(Dictionary['Population'][2]) # checking value change"
   ]
  },
  {
   "cell_type": "markdown",
   "metadata": {},
   "source": [
    "### Adding Items\n",
    "Adding an item to the dictionary is done by using a new index key and assigning a value to it"
   ]
  },
  {
   "cell_type": "code",
   "execution_count": 14,
   "metadata": {},
   "outputs": [
    {
     "name": "stdout",
     "output_type": "stream",
     "text": [
      "dict_keys(['Country', 'Capitals', 'Population', 'Continent'])\n"
     ]
    }
   ],
   "source": [
    "Dictionary['Continent'] = 'EUROPE'\n",
    "print(Dictionary.keys())"
   ]
  },
  {
   "cell_type": "code",
   "execution_count": null,
   "metadata": {},
   "outputs": [],
   "source": []
  }
 ],
 "metadata": {
  "kernelspec": {
   "display_name": "Python 3",
   "language": "python",
   "name": "python3"
  },
  "language_info": {
   "codemirror_mode": {
    "name": "ipython",
    "version": 3
   },
   "file_extension": ".py",
   "mimetype": "text/x-python",
   "name": "python",
   "nbconvert_exporter": "python",
   "pygments_lexer": "ipython3",
   "version": "3.8.3"
  }
 },
 "nbformat": 4,
 "nbformat_minor": 4
}
