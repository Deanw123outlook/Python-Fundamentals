{
 "cells": [
  {
   "cell_type": "markdown",
   "metadata": {},
   "source": [
    "# Dictionaries Part 4 Updated"
   ]
  },
  {
   "cell_type": "code",
   "execution_count": 1,
   "metadata": {},
   "outputs": [],
   "source": [
    "#Create 3 Lists consisting of data\n",
    "Country = ['Republic of Ireland','Northern Ireland','England','Scotland','France','Germany','Spain',\n",
    "                 'Portugal','Netherlands','Sweeden']\n",
    "Capital = ['Dublin','Belfast','London','Edinborough','Paris','Berlin','Madrid','Lisbon','Amsterdam','Stockholm']\n",
    "Population = ['4.9','1.84','56.2','5.5','6']"
   ]
  },
  {
   "cell_type": "code",
   "execution_count": 2,
   "metadata": {},
   "outputs": [
    {
     "name": "stdout",
     "output_type": "stream",
     "text": [
      "{'Country': ['Republic of Ireland', 'Northern Ireland', 'England', 'Scotland', 'France', 'Germany', 'Spain', 'Portugal', 'Netherlands', 'Sweeden'], 'Capitals': ['Dublin', 'Belfast', 'London', 'Edinborough', 'Paris', 'Berlin', 'Madrid', 'Lisbon', 'Amsterdam', 'Stockholm'], 'Population': ['4.9', '1.84', '56.2', '5.5', '6']}\n"
     ]
    }
   ],
   "source": [
    "Dictionary = {'Country':Country, 'Capitals':Capital,'Population':Population} # Migrating the above lists into a Dictionary\n",
    "print(Dictionary)"
   ]
  },
  {
   "cell_type": "markdown",
   "metadata": {},
   "source": [
    "##### Accesing values \n",
    "- zero indexing\n",
    "- slicing"
   ]
  },
  {
   "cell_type": "code",
   "execution_count": 7,
   "metadata": {},
   "outputs": [
    {
     "name": "stdout",
     "output_type": "stream",
     "text": [
      "Scotland\n",
      "<class 'str'>\n",
      "Paris\n",
      "4.9\n",
      "['Scotland', 'France', 'Germany']\n"
     ]
    }
   ],
   "source": [
    "print(Dictionary['Country'][3]) # zero indexing \n",
    "print(type(Dictionary['Country'][3])) # type checking\n",
    "\n",
    "print(Dictionary['Capitals'][4])\n",
    "print(Dictionary['Population'][0])\n",
    "\n",
    "print(Dictionary['Country'][3:6]) # Dictionary Slicing"
   ]
  },
  {
   "cell_type": "markdown",
   "metadata": {},
   "source": [
    "##### Duplicate Key & Value test\n",
    "- Can we use duplicate key for a dictionary ?\n",
    "- Can we use duplicate values in a key ?"
   ]
  },
  {
   "cell_type": "code",
   "execution_count": 41,
   "metadata": {},
   "outputs": [
    {
     "name": "stdout",
     "output_type": "stream",
     "text": [
      "{'Key_1': [22, 34], 'Key_2': 10, 'Key_3': 10}\n"
     ]
    }
   ],
   "source": [
    "experiment = {'Key_1': 22, 'Key_2': 10, 'Key_1': [22, 34], 'Key_3': 10}\n",
    "print(experiment)"
   ]
  },
  {
   "cell_type": "markdown",
   "metadata": {},
   "source": [
    "RESULT\n",
    "- We cannot use Duplicate Keys ... this will be replaced with the most recent defined key\n",
    "- We can use Duplicate Values"
   ]
  },
  {
   "cell_type": "markdown",
   "metadata": {},
   "source": [
    "### Task 1\n",
    "- Create an empty dictionary\n",
    "- Loop over Dictionary.items(), unpacking it into the variables x and y.\n",
    "- Inside the loop, add each y value to the empty dictionary using the x as the key."
   ]
  },
  {
   "cell_type": "code",
   "execution_count": 17,
   "metadata": {},
   "outputs": [
    {
     "name": "stdout",
     "output_type": "stream",
     "text": [
      "Country\n",
      "Capitals\n",
      "Population\n",
      "{'Country': ['Republic of Ireland', 'Northern Ireland', 'England', 'Scotland', 'France', 'Germany', 'Spain', 'Portugal', 'Netherlands', 'Sweeden'], 'Capitals': ['Dublin', 'Belfast', 'London', 'Edinborough', 'Paris', 'Berlin', 'Madrid', 'Lisbon', 'Amsterdam', 'Stockholm'], 'Population': ['4.9', '1.84', '56.2', '5.5', '6']}\n"
     ]
    }
   ],
   "source": [
    "empty_dict = {}\n",
    "for x,y in Dictionary.items():\n",
    "    print(x)\n",
    "    empty_dict[x] = y\n",
    "print(empty_dict)"
   ]
  },
  {
   "cell_type": "markdown",
   "metadata": {},
   "source": [
    "### Task 2\n",
    "- get() method \n",
    "Attempting to access a key that isn't present in a dictionary, will return a KeyError. One option to handle this type of error is to use a try: except: block.\n",
    "\n",
    "Alternatively,\n",
    "\n",
    "Python provides a faster, more versatile tool to help with this problem in the form of the .get() method. The .get() method allows you to supply the name of a key, and optionally, what you'd like to have returned if the key is not found.\n"
   ]
  },
  {
   "cell_type": "code",
   "execution_count": 18,
   "metadata": {},
   "outputs": [
    {
     "name": "stdout",
     "output_type": "stream",
     "text": [
      "['Dublin', 'Belfast', 'London', 'Edinborough', 'Paris', 'Berlin', 'Madrid', 'Lisbon', 'Amsterdam', 'Stockholm'] NO KEY FOUND\n",
      "None NO KEY FOUND\n"
     ]
    }
   ],
   "source": [
    "print(Dictionary.get('Capitals'),'NO KEY FOUND')\n",
    "print(Dictionary.get('Countrys'),'NO KEY FOUND')"
   ]
  },
  {
   "cell_type": "markdown",
   "metadata": {},
   "source": [
    "### Task 3\n",
    "Loop through dictionary key and add items to empty list"
   ]
  },
  {
   "cell_type": "code",
   "execution_count": 19,
   "metadata": {},
   "outputs": [
    {
     "name": "stdout",
     "output_type": "stream",
     "text": [
      "<class 'str'> 4.9\n",
      "<class 'str'> 1.84\n",
      "<class 'str'> 56.2\n",
      "<class 'str'> 5.5\n",
      "<class 'str'> 6\n"
     ]
    },
    {
     "data": {
      "text/plain": [
       "['4.9', '1.84', '56.2', '5.5', '6']"
      ]
     },
     "execution_count": 19,
     "metadata": {},
     "output_type": "execute_result"
    }
   ],
   "source": [
    "new_list = [] # intiate empty list\n",
    "for x in Dictionary['Population']: # loop through the values of KEY\n",
    "    print(type(x),x)\n",
    "    new_list.append(x) # append adds items to list\n",
    "p"
   ]
  },
  {
   "cell_type": "markdown",
   "metadata": {},
   "source": [
    "### Copy a Dictionary\n",
    "You cannot copy a dictionary simply by typing dict2 = dict1, because: dict2 will only be a reference to dict1, and changes made in dict1 will automatically also be made in dict2.\n",
    "\n",
    "There are ways to make a copy, one way is to use the built-in Dictionary method copy() and another way is to use the in-built data function dict() !"
   ]
  },
  {
   "cell_type": "code",
   "execution_count": 11,
   "metadata": {},
   "outputs": [
    {
     "name": "stdout",
     "output_type": "stream",
     "text": [
      "{'Country': ['Republic of Ireland', 'Northern Ireland', 'England', 'Scotland', 'France', 'Germany', 'Spain', 'Portugal', 'Netherlands', 'Sweeden'], 'Capitals': ['Dublin', 'Belfast', 'London', 'Edinborough', 'Paris', 'Berlin', 'Madrid', 'Lisbon', 'Amsterdam', 'Stockholm'], 'Population': ['4.9', '1.84', '56.2', '5.5', '6']}\n",
      "{'Country': ['Republic of Ireland', 'Northern Ireland', 'England', 'Scotland', 'France', 'Germany', 'Spain', 'Portugal', 'Netherlands', 'Sweeden'], 'Capitals': ['Dublin', 'Belfast', 'London', 'Edinborough', 'Paris', 'Berlin', 'Madrid', 'Lisbon', 'Amsterdam', 'Stockholm'], 'Population': ['4.9', '1.84', '56.2', '5.5', '6']}\n"
     ]
    }
   ],
   "source": [
    "copydict = Dictionary.copy() # copy() method\n",
    "print(Dictionary)\n",
    "\n",
    "#alternative\n",
    "copydict2 = dict(Dictionary) # dict function()\n",
    "print(copydict2)"
   ]
  },
  {
   "cell_type": "markdown",
   "metadata": {},
   "source": [
    "### Nested Dictionaries"
   ]
  },
  {
   "cell_type": "code",
   "execution_count": 20,
   "metadata": {},
   "outputs": [],
   "source": [
    "# create three seperate dictionaries\n",
    "child1 = {\"name\" : \"Emil\",\"year\" : 2004}\n",
    "child2 = {\"name\" : \"Tobias\",\"year\" : 2007}\n",
    "child3 = {\"name\" : \"Linus\",\"year\" : 2011}\n",
    "\n",
    "# input dictionaries into a nest dictionary\n",
    "myfamily = {\n",
    "  \"n_child1\" : child1,\n",
    "  \"n_child2\" : child2,\n",
    "  \"n_child3\" : child3\n",
    "}"
   ]
  },
  {
   "cell_type": "code",
   "execution_count": 21,
   "metadata": {},
   "outputs": [
    {
     "name": "stdout",
     "output_type": "stream",
     "text": [
      "dict_items([('n_child1', {'name': 'Emil', 'year': 2004}), ('n_child2', {'name': 'Tobias', 'year': 2007}), ('n_child3', {'name': 'Linus', 'year': 2011})])\n",
      "dict_keys(['n_child1', 'n_child2', 'n_child3'])\n",
      "dict_values([{'name': 'Emil', 'year': 2004}, {'name': 'Tobias', 'year': 2007}, {'name': 'Linus', 'year': 2011}])\n"
     ]
    }
   ],
   "source": [
    "print(myfamily.items()) # items() method will return each item in a dictionary, as tuples in a list\n",
    "print(myfamily.keys()) # keys() method to return the keys of a dictionary\n",
    "print(myfamily.values()) # values() method will return a list of all the values in the dictionary"
   ]
  },
  {
   "cell_type": "markdown",
   "metadata": {},
   "source": [
    "Loop through the nest dictionary"
   ]
  },
  {
   "cell_type": "code",
   "execution_count": 31,
   "metadata": {},
   "outputs": [
    {
     "name": "stdout",
     "output_type": "stream",
     "text": [
      "Nested Dict Keys : n_child1\n",
      "Nested Dict Values : {'name': 'Emil', 'year': 2004}\n",
      "Nested Dict Keys : n_child2\n",
      "Nested Dict Values : {'name': 'Tobias', 'year': 2007}\n",
      "Nested Dict Keys : n_child3\n",
      "Nested Dict Values : {'name': 'Linus', 'year': 2011}\n"
     ]
    }
   ],
   "source": [
    "for x,y in myfamily.items():\n",
    "    print(\"Nested Dict Keys :\", x)\n",
    "    print(\"Nested Dict Values :\", y)"
   ]
  },
  {
   "cell_type": "code",
   "execution_count": null,
   "metadata": {},
   "outputs": [],
   "source": []
  }
 ],
 "metadata": {
  "kernelspec": {
   "display_name": "Python 3",
   "language": "python",
   "name": "python3"
  },
  "language_info": {
   "codemirror_mode": {
    "name": "ipython",
    "version": 3
   },
   "file_extension": ".py",
   "mimetype": "text/x-python",
   "name": "python",
   "nbconvert_exporter": "python",
   "pygments_lexer": "ipython3",
   "version": "3.8.3"
  }
 },
 "nbformat": 4,
 "nbformat_minor": 4
}
