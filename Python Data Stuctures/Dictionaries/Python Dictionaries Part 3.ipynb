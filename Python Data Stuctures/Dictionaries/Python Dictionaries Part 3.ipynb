{
 "cells": [
  {
   "cell_type": "markdown",
   "metadata": {},
   "source": [
    "### Dictionaries Part 3\n",
    "\n",
    "- values() method to return values of a dictionary\n",
    "- keys() method to return the keys of a dictionary\n",
    "- Loop through both keys and values, by using the items() method"
   ]
  },
  {
   "cell_type": "code",
   "execution_count": 1,
   "metadata": {},
   "outputs": [],
   "source": [
    "#Create 3 Lists consisting of data\n",
    "Country = ['Republic of Ireland','Northern Ireland','England','Scotland','France','Germany','Spain',\n",
    "                 'Portugal','Netherlands','Sweeden']\n",
    "Capital = ['Dublin','Belfast','London','Edinborough','Paris','Berlin','Madrid','Lisbon','Amsterdam','Stockholm']\n",
    "Population = ['4.9','1.84','56.2','5.5','65.3','82.9','46.8','10.3','17.2','10.2']"
   ]
  },
  {
   "cell_type": "code",
   "execution_count": 2,
   "metadata": {},
   "outputs": [
    {
     "name": "stdout",
     "output_type": "stream",
     "text": [
      "{'Country': ['Republic of Ireland', 'Northern Ireland', 'England', 'Scotland', 'France', 'Germany', 'Spain', 'Portugal', 'Netherlands', 'Sweeden'], 'Capitals': ['Dublin', 'Belfast', 'London', 'Edinborough', 'Paris', 'Berlin', 'Madrid', 'Lisbon', 'Amsterdam', 'Stockholm'], 'Population': ['4.9', '1.84', '56.2', '5.5', '65.3', '82.9', '46.8', '10.3', '17.2', '10.2']}\n"
     ]
    }
   ],
   "source": [
    "Dictionary = {'Country':Country, 'Capitals':Capital,'Population':Population} # Migrating the above lists into a Dictionary\n",
    "print(Dictionary)"
   ]
  },
  {
   "cell_type": "markdown",
   "metadata": {},
   "source": [
    "### Looping Dictionaries\n",
    "KEYS"
   ]
  },
  {
   "cell_type": "code",
   "execution_count": 3,
   "metadata": {},
   "outputs": [
    {
     "name": "stdout",
     "output_type": "stream",
     "text": [
      "Country\n",
      "Capitals\n",
      "Population\n"
     ]
    }
   ],
   "source": [
    "for x in Dictionary: # print key names in dictinary\n",
    "    print(x)"
   ]
  },
  {
   "cell_type": "code",
   "execution_count": null,
   "metadata": {},
   "outputs": [],
   "source": [
    "for i in thisdict.keys(): # loop through dictionary and return keys\n",
    "    print(i)"
   ]
  },
  {
   "cell_type": "markdown",
   "metadata": {},
   "source": [
    "VALUES"
   ]
  },
  {
   "cell_type": "code",
   "execution_count": 6,
   "metadata": {},
   "outputs": [
    {
     "name": "stdout",
     "output_type": "stream",
     "text": [
      "['Republic of Ireland', 'Northern Ireland', 'England', 'Scotland', 'France', 'Germany', 'Spain', 'Portugal', 'Netherlands', 'Sweeden']\n",
      "['Dublin', 'Belfast', 'London', 'Edinborough', 'Paris', 'Berlin', 'Madrid', 'Lisbon', 'Amsterdam', 'Stockholm']\n",
      "['4.9', '1.84', '56.2', '5.5', '65.3', '82.9', '46.8', '10.3', '17.2', '10.2']\n"
     ]
    }
   ],
   "source": [
    "for y in Dictionary: # print all values in the dictionary (one by one)\n",
    "    print(Dictionary[y])"
   ]
  },
  {
   "cell_type": "code",
   "execution_count": 7,
   "metadata": {},
   "outputs": [
    {
     "name": "stdout",
     "output_type": "stream",
     "text": [
      "['Republic of Ireland', 'Northern Ireland', 'England', 'Scotland', 'France', 'Germany', 'Spain', 'Portugal', 'Netherlands', 'Sweeden']\n",
      "['Dublin', 'Belfast', 'London', 'Edinborough', 'Paris', 'Berlin', 'Madrid', 'Lisbon', 'Amsterdam', 'Stockholm']\n",
      "['4.9', '1.84', '56.2', '5.5', '65.3', '82.9', '46.8', '10.3', '17.2', '10.2']\n"
     ]
    }
   ],
   "source": [
    "for z in Dictionary.values(): # loop through dictionary and return values using values emthod\n",
    "    print(z)"
   ]
  },
  {
   "cell_type": "markdown",
   "metadata": {},
   "source": [
    "ITEMS()"
   ]
  },
  {
   "cell_type": "code",
   "execution_count": 14,
   "metadata": {},
   "outputs": [
    {
     "name": "stdout",
     "output_type": "stream",
     "text": [
      "Country ['Republic of Ireland', 'Northern Ireland', 'England', 'Scotland', 'France', 'Germany', 'Spain', 'Portugal', 'Netherlands', 'Sweeden']\n",
      "Capitals ['Dublin', 'Belfast', 'London', 'Edinborough', 'Paris', 'Berlin', 'Madrid', 'Lisbon', 'Amsterdam', 'Stockholm']\n",
      "Population ['4.9', '1.84', '56.2', '5.5', '65.3', '82.9', '46.8', '10.3', '17.2', '10.2']\n"
     ]
    }
   ],
   "source": [
    "for key, value in Dictionary.items(): # loop through dictionary key & value pairs using the items method\n",
    "    print(key,value)"
   ]
  },
  {
   "cell_type": "code",
   "execution_count": null,
   "metadata": {},
   "outputs": [],
   "source": []
  }
 ],
 "metadata": {
  "kernelspec": {
   "display_name": "Python 3",
   "language": "python",
   "name": "python3"
  },
  "language_info": {
   "codemirror_mode": {
    "name": "ipython",
    "version": 3
   },
   "file_extension": ".py",
   "mimetype": "text/x-python",
   "name": "python",
   "nbconvert_exporter": "python",
   "pygments_lexer": "ipython3",
   "version": "3.8.3"
  }
 },
 "nbformat": 4,
 "nbformat_minor": 4
}
