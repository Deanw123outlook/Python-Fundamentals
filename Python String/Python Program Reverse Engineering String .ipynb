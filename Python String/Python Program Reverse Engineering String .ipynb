{
 "cells": [
  {
   "cell_type": "markdown",
   "metadata": {},
   "source": [
    "# Python Program Reverse Engineering String \n",
    "\n",
    "Reverse Engineering String ie. we provide a string as an input and the output of the program will include the string reverse engineered !"
   ]
  },
  {
   "cell_type": "markdown",
   "metadata": {},
   "source": [
    "#### Task 1\n",
    "Write a program that will manully reverse a string !"
   ]
  },
  {
   "cell_type": "code",
   "execution_count": 40,
   "metadata": {},
   "outputs": [
    {
     "name": "stdout",
     "output_type": "stream",
     "text": [
      "Tesla\n",
      "<class 'str'>\n"
     ]
    }
   ],
   "source": [
    "new_string = 'Tesla' # create a string and add to variable\n",
    "print(new_string)\n",
    "print(type(new_string))"
   ]
  },
  {
   "cell_type": "code",
   "execution_count": 41,
   "metadata": {},
   "outputs": [
    {
     "name": "stdout",
     "output_type": "stream",
     "text": [
      "T 0 a 4\n",
      "e 1 l 3\n",
      "s 2 s 2\n",
      "l 3 e 1\n",
      "a 4 T 0\n"
     ]
    }
   ],
   "source": [
    "# Code \n",
    "a = -1 # initiate counter variable (remember zero indexing) -1 ensure we do not go outside the index range\n",
    "z = len(new_string) # initiate counter variable\n",
    "for y in new_string: # for loop to loop through string\n",
    "    a += 1 # additional operator\n",
    "    z -= 1 # subtractional operator\n",
    "    print(new_string[a],a,new_string[z],z) # print desired output"
   ]
  },
  {
   "cell_type": "markdown",
   "metadata": {},
   "source": [
    "##### Task 2\n",
    "Transfer this code into a function"
   ]
  },
  {
   "cell_type": "code",
   "execution_count": 42,
   "metadata": {},
   "outputs": [],
   "source": [
    "# Function\n",
    "def reverse_string(string):\n",
    "    \"\"\"Function will take any string as an input and return this string reversed including the index\"\"\"\n",
    "    z = len(string) # initiate counter variable (reverse string below subtractional operator)\n",
    "    for y in string: # for loop to loop through string\n",
    "        z -= 1 # subtractional operator\n",
    "        print(string[z],z) # print desired output"
   ]
  },
  {
   "cell_type": "code",
   "execution_count": 43,
   "metadata": {},
   "outputs": [
    {
     "name": "stdout",
     "output_type": "stream",
     "text": [
      "n 5\n",
      "o 4\n",
      "z 3\n",
      "a 2\n",
      "m 1\n",
      "A 0\n"
     ]
    }
   ],
   "source": [
    "reverse_string(\"Amazon\")"
   ]
  }
 ],
 "metadata": {
  "kernelspec": {
   "display_name": "Python 3",
   "language": "python",
   "name": "python3"
  },
  "language_info": {
   "codemirror_mode": {
    "name": "ipython",
    "version": 3
   },
   "file_extension": ".py",
   "mimetype": "text/x-python",
   "name": "python",
   "nbconvert_exporter": "python",
   "pygments_lexer": "ipython3",
   "version": "3.8.3"
  }
 },
 "nbformat": 4,
 "nbformat_minor": 4
}
