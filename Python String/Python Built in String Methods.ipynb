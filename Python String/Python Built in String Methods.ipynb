{
 "cells": [
  {
   "cell_type": "markdown",
   "metadata": {},
   "source": [
    "### Python String Methods\n",
    "\n",
    "Python has a set of built-in methods that you can use on strings.\n",
    "\n",
    "Note: All string methods returns new values. They do not change the original string.\n",
    "\n",
    "In this Jupyter Notebook we will take a look at some useful methods when working with strings. These skills can be built and developed overtime and can be used in two notable use cases. One data cleaning when working Pandas dataframes we can use some of these methods in align with other to help delve into a clean data in an effective way. Secondly and most exciting these skills can alos be transfered into Text Analytics and NLP for example with regular expressions and tokenization."
   ]
  },
  {
   "cell_type": "code",
   "execution_count": 2,
   "metadata": {},
   "outputs": [
    {
     "name": "stdout",
     "output_type": "stream",
     "text": [
      "ATMOSPHERIC\n",
      "<class 'str'>\n"
     ]
    }
   ],
   "source": [
    "# write simple python string and save in a variable\n",
    "code_word = \"ATMOSPHERIC\"\n",
    "print(code_word) # print output\n",
    "print(type(code_word)) # check the data type of variable"
   ]
  },
  {
   "cell_type": "markdown",
   "metadata": {},
   "source": [
    "### String Methods"
   ]
  },
  {
   "cell_type": "code",
   "execution_count": 50,
   "metadata": {},
   "outputs": [
    {
     "name": "stdout",
     "output_type": "stream",
     "text": [
      "qHSGD HDHD SS 123 fhghg ZZZ cc nfriur\n",
      "37\n",
      "HSGD H\n"
     ]
    }
   ],
   "source": [
    "new_string = \"qHSGD HDHD SS 123 fhghg ZZZ cc nfriur\" # code a simple string and use some methods for manipulating the new string\n",
    "print(new_string) # print output\n",
    "print(len(new_string)) # print string charachter lenght\n",
    "print(new_string[1:7]) # slice the string for specific values (remember zero indexing)"
   ]
  },
  {
   "cell_type": "code",
   "execution_count": 71,
   "metadata": {},
   "outputs": [
    {
     "name": "stdout",
     "output_type": "stream",
     "text": [
      "3\n",
      "2\n",
      "Qhsgd hdhd ss 123 fhghg zzz cc nfriur\n",
      "qhsgd hdhd ss 123 fhghg zzz cc nfriur\n"
     ]
    }
   ],
   "source": [
    "# count()\n",
    "print(new_string.count('S')) # count() returns the number of times a specified value occurs in a string\n",
    "print(new_string.count('f'))\n",
    "\n",
    "# capitilize()\n",
    "newest_string = new_string.capitalize() # capitalize() converts the first character to upper case\n",
    "print(newest_string) # print output\n",
    "\n",
    "# casefold ()\n",
    "print(newest_string.casefold()) # casefold () converts string into lower case"
   ]
  },
  {
   "cell_type": "code",
   "execution_count": 72,
   "metadata": {},
   "outputs": [
    {
     "name": "stdout",
     "output_type": "stream",
     "text": [
      "True\n",
      "False\n",
      "1\n",
      "35\n",
      "0\n"
     ]
    }
   ],
   "source": [
    "# endswith ()\n",
    "print(newest_string.endswith('iur')) # endswith () returns true if the string ends with the specified value\n",
    "print(newest_string.endswith('f'))\n",
    "\n",
    "# find()\n",
    "print(newest_string.find('h')) # find() searches the string for a specified value and returns the position of where it was found\n",
    "print(newest_string.find('u'))\n",
    "\n",
    "# index()\n",
    "print(newest_string.index('Q')) # index() searches the string for a specified value and returns the position of where it was found\n"
   ]
  },
  {
   "cell_type": "code",
   "execution_count": 73,
   "metadata": {},
   "outputs": [
    {
     "name": "stdout",
     "output_type": "stream",
     "text": [
      "False\n",
      "Python - C++ - C\n",
      "False\n"
     ]
    }
   ],
   "source": [
    "# islower()\n",
    "print(newest_string.islower()) # islower () returns True if all characters in the string are lower case\n",
    "\n",
    "# format()\n",
    "s1 = 'Python'\n",
    "s2 = 'C++'\n",
    "s4 = 'C'\n",
    "string_nd = \"{} - {} - {}\".format(s1, s2, s4) # format () formats specified values in a string / note {} act as parameters that will format our string \n",
    "print(string_nd)\n",
    "\n",
    "# isalpha()\n",
    "print(newest_string.isalpha()) # isalpha () returns True if all characters in the string are in the alphabet"
   ]
  },
  {
   "cell_type": "code",
   "execution_count": 75,
   "metadata": {},
   "outputs": [
    {
     "name": "stdout",
     "output_type": "stream",
     "text": [
      "['Qhsgd', 'hdhd', 'ss', '123', 'fhghg', 'zzz', 'cc', 'nfriur']\n",
      "['Qhsgd hdhd ss 123 fhghg zzz cc nfriur']\n",
      "qHSGD HDHD SS 123 FHGHG ZZZ CC NFRIUR\n"
     ]
    }
   ],
   "source": [
    "# split()\n",
    "print(newest_string.split(\" \"))# splits the string at the specified separator, and returns a list\n",
    "\n",
    "# splitlines()\n",
    "print(newest_string.splitlines())# splitline() splits the string at line breaks and returns a list\n",
    "\n",
    "# swapcase()\n",
    "print(newest_string.swapcase())# swapcase() swaps cases, lower case becomes upper case and vice versa"
   ]
  },
  {
   "cell_type": "markdown",
   "metadata": {},
   "source": [
    "###### replace()\n",
    "\n",
    "Syntax :  string.replace(old, new, count)\n",
    "\n",
    "Parameters : \n",
    "- old – old substring you want to replace. \n",
    "- new – new substring which would replace the old substring.\n",
    "- count – the number of times you want to replace the old substring with the new substring. (Optional ) \n",
    " \n",
    "Return Value : \n",
    "It returns a copy of the string where all occurrences of a substring are replaced with another substring. \n",
    " \n",
    "Note: \n",
    "If count is not specified then all the occurrences of the old substring are replaced with the new substring.\n",
    "This method returns the copy of the string i.e. it does not change the original string. "
   ]
  },
  {
   "cell_type": "code",
   "execution_count": 52,
   "metadata": {},
   "outputs": [
    {
     "name": "stdout",
     "output_type": "stream",
     "text": [
      "dghsuemAjfhfuG\n",
      "2Z3Z3X-suemAjfhfuG\n"
     ]
    }
   ],
   "source": [
    "old_string = \"dghsuemAjfhfuG\"\n",
    "print(old_string)\n",
    "print(old_string.replace(\"dgh\",\"2Z3Z3X-\"))"
   ]
  },
  {
   "cell_type": "markdown",
   "metadata": {},
   "source": [
    "###### strip ()\n",
    "The strip() method removes any leading (spaces at the beginning) and trailing (spaces at the end) characters (space is the default leading character to remove)"
   ]
  },
  {
   "cell_type": "code",
   "execution_count": 55,
   "metadata": {},
   "outputs": [
    {
     "name": "stdout",
     "output_type": "stream",
     "text": [
      "jdjdjd  fhfhf H\n",
      "jdjdjd  fhfhf H  \n"
     ]
    }
   ],
   "source": [
    "string_sp = \"  jdjdjd  fhfhf H  \" # create a new string with some whitespaces both left and right for experimentation\n",
    "\n",
    "# strip()\n",
    "print(string_sp.strip()) # strip() returns a trimmed version of the string\n",
    "\n",
    "# lstrip()\n",
    "print(string_sp.lstrip()) # lstrip() returns a left trim version of the string"
   ]
  },
  {
   "cell_type": "code",
   "execution_count": null,
   "metadata": {},
   "outputs": [],
   "source": []
  }
 ],
 "metadata": {
  "kernelspec": {
   "display_name": "Python 3",
   "language": "python",
   "name": "python3"
  },
  "language_info": {
   "codemirror_mode": {
    "name": "ipython",
    "version": 3
   },
   "file_extension": ".py",
   "mimetype": "text/x-python",
   "name": "python",
   "nbconvert_exporter": "python",
   "pygments_lexer": "ipython3",
   "version": "3.8.3"
  }
 },
 "nbformat": 4,
 "nbformat_minor": 4
}
