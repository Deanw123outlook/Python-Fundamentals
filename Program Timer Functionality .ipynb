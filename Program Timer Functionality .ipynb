{
 "cells": [
  {
   "cell_type": "markdown",
   "id": "401072a7",
   "metadata": {},
   "source": [
    "### Time Module\n",
    "\n",
    "time.time()\n",
    "- We call the time() function, located in the time module, as time.time(). The first time references the module, whereas the second is the function itself. The time() function returns the number of seconds that have passed since the epoch.\n",
    "- When we use time.time(), we can see the amount of time that has passed since the epoch.  \n",
    "\n",
    "time.sleep()\n",
    "- This function creates a delay in a program that we can use to count/delay time. This function takes a float argument representing the number of seconds that the program will pause for. The program idles for that length of time between outputs.\n",
    "\n",
    "\n",
    "NOTE\n",
    "\n",
    "In the computing context, an “epoch” references the time according to which a computer calculates its timestamp values. Windows and most UNIX devices set the epoch as January 1, 1970 at 00:00:00.\n"
   ]
  },
  {
   "cell_type": "code",
   "execution_count": 1,
   "id": "0b5c7e91",
   "metadata": {},
   "outputs": [],
   "source": [
    "import time # import time module"
   ]
  },
  {
   "cell_type": "markdown",
   "id": "687578b9",
   "metadata": {},
   "source": [
    "Below we willuse Python's list data structure. In this instance we want to maintain the order of the data that will be generated. This is an  important feature of Python's list data structure."
   ]
  },
  {
   "cell_type": "code",
   "execution_count": 2,
   "id": "5e06c5e4",
   "metadata": {},
   "outputs": [],
   "source": [
    "times = [] # empty list data stucture"
   ]
  },
  {
   "cell_type": "markdown",
   "id": "e15d6547",
   "metadata": {},
   "source": [
    "Program\n",
    "- Build a simple program to run\n",
    "- Save start time (time.time()) before program execution\n",
    "- Execute code/program fucntionality\n",
    "- Save end time (time.time() post program execution\n",
    "- Add functionality to delay iteration to next loop (time.sleep())\n",
    "- Output results"
   ]
  },
  {
   "cell_type": "code",
   "execution_count": 3,
   "id": "a7d1a0b6",
   "metadata": {},
   "outputs": [
    {
     "name": "stdout",
     "output_type": "stream",
     "text": [
      "Test-1\n",
      "Program-Iteration-1\n",
      "Program-Execution-Time 0.3040759563446045\n",
      "Test-2\n",
      "Program-Iteration-2\n",
      "Program-Execution-Time 0.3129160404205322\n",
      "Test-3\n",
      "Program-Iteration-3\n",
      "Program-Execution-Time 0.3122215270996094\n",
      "Test-4\n",
      "Program-Iteration-4\n",
      "Program-Execution-Time 0.3115386962890625\n",
      "Test-5\n",
      "Program-Iteration-5\n",
      "Program-Execution-Time 0.310056209564209\n",
      "Test-6\n",
      "Program-Iteration-6\n",
      "Program-Execution-Time 0.30033063888549805\n",
      "Test-7\n",
      "Program-Iteration-7\n",
      "Program-Execution-Time 0.31330299377441406\n",
      "Test-8\n",
      "Program-Iteration-8\n",
      "Program-Execution-Time 0.31110143661499023\n",
      "Test-9\n",
      "Program-Iteration-9\n",
      "Program-Execution-Time 0.3104588985443115\n"
     ]
    }
   ],
   "source": [
    "for test in range(1,10,1):\n",
    "    print(\"Test-{}\".format(test)) # format() method formats the specified value(s) and insert them inside the string's placeholder.\n",
    "    start = time.time() # returns the number of seconds that have passed since the epoch\n",
    "    print(\"Program-Iteration-{}\".format(test)) # execute program\n",
    "    time.sleep(0.3) # function takes a float argument representing the number of seconds that the program will pause for\n",
    "    end = time.time()\n",
    "    time_diff = end - start # calculate time taken to execute program\n",
    "    print(\"Program-Execution-Time {}\".format(time_diff))\n",
    "    \n",
    "    times.append(time_diff)\n",
    "    time.sleep(1) "
   ]
  },
  {
   "cell_type": "code",
   "execution_count": 4,
   "id": "4b762400",
   "metadata": {},
   "outputs": [
    {
     "data": {
      "text/plain": [
       "[0.3040759563446045,\n",
       " 0.3129160404205322,\n",
       " 0.3122215270996094,\n",
       " 0.3115386962890625,\n",
       " 0.310056209564209,\n",
       " 0.30033063888549805,\n",
       " 0.31330299377441406,\n",
       " 0.31110143661499023,\n",
       " 0.3104588985443115]"
      ]
     },
     "execution_count": 4,
     "metadata": {},
     "output_type": "execute_result"
    }
   ],
   "source": [
    "times"
   ]
  }
 ],
 "metadata": {
  "kernelspec": {
   "display_name": "Python 3 (ipykernel)",
   "language": "python",
   "name": "python3"
  },
  "language_info": {
   "codemirror_mode": {
    "name": "ipython",
    "version": 3
   },
   "file_extension": ".py",
   "mimetype": "text/x-python",
   "name": "python",
   "nbconvert_exporter": "python",
   "pygments_lexer": "ipython3",
   "version": "3.10.9"
  }
 },
 "nbformat": 4,
 "nbformat_minor": 5
}
