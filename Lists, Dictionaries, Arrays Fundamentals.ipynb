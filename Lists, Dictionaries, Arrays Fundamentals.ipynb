{
 "cells": [
  {
   "cell_type": "markdown",
   "metadata": {},
   "source": [
    " # Lists, Dictionaries, np.Arrays Loops and other !"
   ]
  },
  {
   "cell_type": "markdown",
   "metadata": {},
   "source": [
    "### Lists (while Loops) "
   ]
  },
  {
   "cell_type": "code",
   "execution_count": 2,
   "metadata": {},
   "outputs": [
    {
     "name": "stdout",
     "output_type": "stream",
     "text": [
      "Correcting...\n",
      "-6\n",
      "Correcting...\n",
      "-5\n",
      "Correcting...\n",
      "-4\n",
      "Correcting...\n",
      "-3\n",
      "Correcting...\n",
      "-2\n",
      "Correcting...\n",
      "-1\n",
      "Correcting...\n",
      "0\n"
     ]
    }
   ],
   "source": [
    "#Initialize offset\n",
    "offset = -7\n",
    "#Code a While Loop\n",
    "while offset != 0:\n",
    "    print(\"Correcting...\")\n",
    "    if offset > 0:\n",
    "        offset = offset - 1\n",
    "    else:\n",
    "        offset = offset + 1\n",
    "    print(offset)"
   ]
  },
  {
   "cell_type": "markdown",
   "metadata": {},
   "source": [
    "### For Loops"
   ]
  },
  {
   "cell_type": "markdown",
   "metadata": {},
   "source": [
    "for var in seq:\n",
    "    \n",
    "    expression"
   ]
  },
  {
   "cell_type": "markdown",
   "metadata": {},
   "source": [
    "Using a for loop to iterate over a list only gives you access to every list element in each run, one after the other. \n",
    "If you also want to access the index information, so where the list element you're iterating over is located, you can use enumerate()."
   ]
  },
  {
   "cell_type": "code",
   "execution_count": 8,
   "metadata": {},
   "outputs": [
    {
     "name": "stdout",
     "output_type": "stream",
     "text": [
      "1.54\n",
      "1.34\n",
      "1.76\n",
      "1.65\n",
      "1.62\n",
      "1.75\n"
     ]
    }
   ],
   "source": [
    "#Initialize a list\n",
    "fam = ['1.54','1.34','1.76','1.65','1.62','1.75']\n",
    "#Code a for loop\n",
    "for x in fam:\n",
    "    print(x)"
   ]
  },
  {
   "cell_type": "markdown",
   "metadata": {},
   "source": [
    "x in this case is an arbitraty name in the case of a for loop ie. we can call replace x with any name we would like."
   ]
  },
  {
   "cell_type": "code",
   "execution_count": 17,
   "metadata": {},
   "outputs": [
    {
     "name": "stdout",
     "output_type": "stream",
     "text": [
      "index 1 : 1.54\n",
      "index 2 : 1.34\n",
      "index 3 : 1.76\n",
      "index 4 : 1.65\n",
      "index 5 : 1.62\n",
      "index 6 : 1.75\n"
     ]
    }
   ],
   "source": [
    "#For Loop (Indexing List)\n",
    "for index, x in enumerate(fam):\n",
    "    print(\"index \" + str(index + 1) + \" : \" + str(x))"
   ]
  },
  {
   "cell_type": "code",
   "execution_count": 15,
   "metadata": {},
   "outputs": [
    {
     "name": "stdout",
     "output_type": "stream",
     "text": [
      "F\n",
      "A\n",
      "M\n",
      "I\n",
      "L\n",
      "Y\n"
     ]
    }
   ],
   "source": [
    "#Loop over a string\n",
    "for x in \"family\":\n",
    "    print(x.capitalize())"
   ]
  },
  {
   "cell_type": "code",
   "execution_count": 18,
   "metadata": {},
   "outputs": [
    {
     "name": "stdout",
     "output_type": "stream",
     "text": [
      "the hallway is 11.25 sqm\n",
      "the kitchen is 18.0 sqm\n",
      "the living room is 20.0 sqm\n",
      "the bedroom is 10.75 sqm\n",
      "the bathroom is 9.5 sqm\n"
     ]
    }
   ],
   "source": [
    "# Write a for loop that goes through each sublist of house and prints out the x is y sqm, where x is \n",
    "#the name of the room and y is the area of the room.\n",
    "\n",
    "# Create house list of lists\n",
    "house = [[\"hallway\", 11.25], \n",
    "         [\"kitchen\", 18.0], \n",
    "         [\"living room\", 20.0], \n",
    "         [\"bedroom\", 10.75], \n",
    "         [\"bathroom\", 9.50]]\n",
    "         \n",
    "# Build a for loop from scratch\n",
    "for x in house :\n",
    "    print(\"the \" + x[0] + \" is \" + str(x[1]) + \" sqm\")"
   ]
  },
  {
   "cell_type": "markdown",
   "metadata": {},
   "source": [
    "### Dictionaries (Loops)"
   ]
  },
  {
   "cell_type": "markdown",
   "metadata": {},
   "source": [
    "Dictionaries - If you want iterate over the key, value pairs in a dictionary use the items() method. Order matters in this case in which the first variable gets the key and the second gets the value."
   ]
  },
  {
   "cell_type": "code",
   "execution_count": 28,
   "metadata": {},
   "outputs": [],
   "source": [
    "#Creata a Dictionary\n",
    "Dictionary = {'W':'White','B':'Black','Y':'Yellow','G':'Green','R':'Red','O':'Orange','P':'Purple'}"
   ]
  },
  {
   "cell_type": "markdown",
   "metadata": {},
   "source": [
    "Note: items() will generate a key and value in each iteration\n",
    "\n",
    "Also Dictionaries are inherently unorderd and when something is printed returned this will show."
   ]
  },
  {
   "cell_type": "code",
   "execution_count": 24,
   "metadata": {},
   "outputs": [
    {
     "name": "stdout",
     "output_type": "stream",
     "text": [
      "W : White\n",
      "B : Black\n",
      "Y : Yellow\n",
      "G : Green\n",
      "R : Red\n",
      "O : Orange\n",
      "P : Purple\n"
     ]
    }
   ],
   "source": [
    "for key, value in Dictionary.items() :\n",
    "    print(key + \" : \" + str(value))"
   ]
  },
  {
   "cell_type": "code",
   "execution_count": 26,
   "metadata": {},
   "outputs": [
    {
     "name": "stdout",
     "output_type": "stream",
     "text": [
      "W -- White\n",
      "B -- Black\n",
      "Y -- Yellow\n",
      "G -- Green\n",
      "R -- Red\n",
      "O -- Orange\n",
      "P -- Purple\n"
     ]
    }
   ],
   "source": [
    "for k, v in Dictionary.items():\n",
    "    print(k + \" -- \" + str(v))"
   ]
  },
  {
   "cell_type": "markdown",
   "metadata": {},
   "source": [
    "### Numpy arrays"
   ]
  },
  {
   "cell_type": "markdown",
   "metadata": {},
   "source": [
    "Loop over Numpy array\n",
    "If you're dealing with a 1D Numpy array, looping over all elements can be as simple as:\n",
    "\n",
    "for x in my_array :\n",
    "    ...\n",
    "    \n",
    "If you're dealing with a 2D Numpy array, it's more complicated. A 2D array is built up of multiple 1D arrays. To explicitly iterate over all separate elements of a multi-dimensional array, you'll need this syntax:\n",
    "\n",
    "for x in np.nditer(my_array) :\n",
    "    ..."
   ]
  },
  {
   "cell_type": "code",
   "execution_count": 42,
   "metadata": {},
   "outputs": [],
   "source": [
    "#Create Two Lists\n",
    "Weight = [50,60,65,70,75,80,85,90,95,100]\n",
    "Height = [1.45,1.73,1.65,1.35,1.78,1.43,1.38,1.87,1.91,1.65]\n",
    "#Create a dictionary\n",
    "Height_Error = {'95':'cm','100':'cm','125':'cm','135':'cm','155':'cm'}"
   ]
  },
  {
   "cell_type": "code",
   "execution_count": 43,
   "metadata": {},
   "outputs": [],
   "source": [
    "#import numpy package\n",
    "import numpy as np"
   ]
  },
  {
   "cell_type": "code",
   "execution_count": 46,
   "metadata": {},
   "outputs": [
    {
     "name": "stdout",
     "output_type": "stream",
     "text": [
      "[ 50  60  65  70  75  80  85  90  95 100]\n",
      "[1.45 1.73 1.65 1.35 1.78 1.43 1.38 1.87 1.91 1.65]\n"
     ]
    }
   ],
   "source": [
    "#Convert to Numpy Arrays\n",
    "Weight_np = np.array(Weight)\n",
    "Height_np = np.array(Height)\n",
    "#Print new arrays\n",
    "print(Weight_a)\n",
    "print(Height_a)"
   ]
  },
  {
   "cell_type": "code",
   "execution_count": 47,
   "metadata": {},
   "outputs": [
    {
     "name": "stdout",
     "output_type": "stream",
     "text": [
      "<class 'numpy.ndarray'>\n",
      "<class 'numpy.ndarray'>\n",
      "<class 'list'>\n",
      "<class 'list'>\n"
     ]
    }
   ],
   "source": [
    "#Checking types\n",
    "print(type(Height_np))\n",
    "print(type(Weight_np))\n",
    "print(type(Height))\n",
    "print(type(Weight))"
   ]
  },
  {
   "cell_type": "code",
   "execution_count": 52,
   "metadata": {},
   "outputs": [
    {
     "name": "stdout",
     "output_type": "stream",
     "text": [
      "[24. 20. 24. 38. 24. 39. 45. 26. 26. 37.]\n",
      "<class 'numpy.ndarray'>\n"
     ]
    }
   ],
   "source": [
    "#Calculate BMI\n",
    "BMI = Weight_np / Height_np ** 2\n",
    "#Round BMI\n",
    "BMI = BMI.round()\n",
    "print(BMI)\n",
    "print(type(BMI))"
   ]
  },
  {
   "cell_type": "code",
   "execution_count": 63,
   "metadata": {},
   "outputs": [
    {
     "name": "stdout",
     "output_type": "stream",
     "text": [
      "24.0\n",
      "20.0\n",
      "24.0\n",
      "38.0\n",
      "24.0\n",
      "39.0\n",
      "45.0\n",
      "26.0\n",
      "26.0\n",
      "37.0\n"
     ]
    }
   ],
   "source": [
    "#Code a for loop\n",
    "for val in BMI:\n",
    "    print(val)"
   ]
  },
  {
   "cell_type": "code",
   "execution_count": 62,
   "metadata": {},
   "outputs": [
    {
     "name": "stdout",
     "output_type": "stream",
     "text": [
      "24.0\n",
      "20.0\n",
      "24.0\n",
      "38.0\n",
      "24.0\n",
      "39.0\n",
      "45.0\n",
      "26.0\n",
      "26.0\n",
      "37.0\n"
     ]
    }
   ],
   "source": [
    "#Code a for Loop on the 1D array\n",
    "for val in np.nditer(BMI):\n",
    "    print(val)"
   ]
  },
  {
   "cell_type": "markdown",
   "metadata": {},
   "source": [
    "Using the np.nditer() was for experimental reasons. This executes the same as a 2D array printing all elements in the array. However it is not required for the 1D array."
   ]
  },
  {
   "cell_type": "markdown",
   "metadata": {},
   "source": [
    "### 2D Numpy Arrays"
   ]
  },
  {
   "cell_type": "markdown",
   "metadata": {},
   "source": [
    "If you want to iterate over all elements in a numpy array you can use np.nditer()\n",
    "\n",
    "To get every element of an array you can use a numpy fucntion called np.nditer()"
   ]
  },
  {
   "cell_type": "code",
   "execution_count": 56,
   "metadata": {},
   "outputs": [
    {
     "name": "stdout",
     "output_type": "stream",
     "text": [
      "[[ 50.    60.    65.    70.    75.    80.    85.    90.    95.   100.  ]\n",
      " [  1.45   1.73   1.65   1.35   1.78   1.43   1.38   1.87   1.91   1.65]]\n",
      "<class 'numpy.ndarray'>\n"
     ]
    }
   ],
   "source": [
    "#Creata 2D Numpy Arrays\n",
    "nparraytwo = np.array([Weight_np,Height_np])\n",
    "print(nparraytwo)\n",
    "print(type(nparraytwo))"
   ]
  },
  {
   "cell_type": "code",
   "execution_count": 65,
   "metadata": {},
   "outputs": [
    {
     "name": "stdout",
     "output_type": "stream",
     "text": [
      "50.0\n",
      "60.0\n",
      "65.0\n",
      "70.0\n",
      "75.0\n",
      "80.0\n",
      "85.0\n",
      "90.0\n",
      "95.0\n",
      "100.0\n",
      "1.45\n",
      "1.73\n",
      "1.65\n",
      "1.35\n",
      "1.78\n",
      "1.43\n",
      "1.38\n",
      "1.87\n",
      "1.91\n",
      "1.65\n"
     ]
    }
   ],
   "source": [
    "#Code a for loop\n",
    "for val in np.nditer(nparraytwo):\n",
    "    print(val)"
   ]
  },
  {
   "cell_type": "code",
   "execution_count": null,
   "metadata": {},
   "outputs": [],
   "source": []
  }
 ],
 "metadata": {
  "kernelspec": {
   "display_name": "Python 3",
   "language": "python",
   "name": "python3"
  },
  "language_info": {
   "codemirror_mode": {
    "name": "ipython",
    "version": 3
   },
   "file_extension": ".py",
   "mimetype": "text/x-python",
   "name": "python",
   "nbconvert_exporter": "python",
   "pygments_lexer": "ipython3",
   "version": "3.8.3"
  }
 },
 "nbformat": 4,
 "nbformat_minor": 4
}
