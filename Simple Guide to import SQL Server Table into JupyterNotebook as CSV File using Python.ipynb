{
 "cells": [
  {
   "cell_type": "markdown",
   "metadata": {},
   "source": [
    "# GitHub \n",
    "# Simple Guide to import SQL Server Table into JupyterNotebook as CSV File using Python \n",
    "\n",
    "The following CODE is a helpful script that easily will allow you to as the heading describes import an sql server table into JupyterNotebook as CSV file using Python allowing for cool analysis and machine learning insights!"
   ]
  },
  {
   "cell_type": "markdown",
   "metadata": {},
   "source": [
    "##### Requirements\n",
    "Anaconda Jupyter Notebook Installed\n",
    "\n",
    "Microsoft SQL Server Management Studio Installed\n",
    "\n",
    "Server Name: LAPTOP-BM119fJR\\SQLEXPRESS (example)\n",
    "    \n",
    "Database Name: AdventureWorksLT2008R2 (example)\n",
    "\n",
    "##### NOTE 1\n",
    "\n",
    "Server = Your Personal Server Name\n",
    "\n",
    "This can be found when you open Microsoft SQL Server Management Studio\n",
    "\n",
    "Database = Database Name you wish to work with !\n",
    "\n",
    "###### NOTE 2\n",
    "\n",
    "Indentation is KEY ! Make sure to check all code ! THIS WORKS\n"
   ]
  },
  {
   "cell_type": "markdown",
   "metadata": {},
   "source": [
    "### Install Pyodbc\n",
    "Install the following package if NOT already satisfied."
   ]
  },
  {
   "cell_type": "code",
   "execution_count": null,
   "metadata": {},
   "outputs": [],
   "source": [
    "pip install pyodbc"
   ]
  },
  {
   "cell_type": "markdown",
   "metadata": {},
   "source": [
    "### Connecting Python to SQL\n",
    "Import pyodbc & pandas package"
   ]
  },
  {
   "cell_type": "code",
   "execution_count": null,
   "metadata": {},
   "outputs": [],
   "source": [
    "import pyodbc \n",
    "import pandas as pd # Enables SQL table to be imported as CSV file into JupyterNotebook"
   ]
  },
  {
   "cell_type": "markdown",
   "metadata": {},
   "source": [
    "### CODE for importing SQL table into jupyter notebook\n",
    "\n",
    "Remember Indentations and to use your personal SERVER & DATABASE names"
   ]
  },
  {
   "cell_type": "code",
   "execution_count": null,
   "metadata": {},
   "outputs": [],
   "source": [
    "conn = pyodbc.connect('Driver={SQL Server};'\n",
    "                      'Server=LAPTOP-BM119fJR\\SQLEXPRESS;'\n",
    "                      'Database=AdventureWorksLT2008R2;'\n",
    "                      'Trusted_Connection=yes;')"
   ]
  },
  {
   "cell_type": "markdown",
   "metadata": {},
   "source": [
    "### Transfering data into CSV file & specific sql query\n",
    "\n",
    "Remember we can use any sql query objective dependent !"
   ]
  },
  {
   "cell_type": "code",
   "execution_count": null,
   "metadata": {},
   "outputs": [],
   "source": [
    "df = pd.read_sql_query('SELECT * FROM SalesLT.Product', conn)\n",
    "df"
   ]
  }
 ],
 "metadata": {
  "kernelspec": {
   "display_name": "Python 3",
   "language": "python",
   "name": "python3"
  },
  "language_info": {
   "codemirror_mode": {
    "name": "ipython",
    "version": 3
   },
   "file_extension": ".py",
   "mimetype": "text/x-python",
   "name": "python",
   "nbconvert_exporter": "python",
   "pygments_lexer": "ipython3",
   "version": "3.8.3"
  }
 },
 "nbformat": 4,
 "nbformat_minor": 4
}
