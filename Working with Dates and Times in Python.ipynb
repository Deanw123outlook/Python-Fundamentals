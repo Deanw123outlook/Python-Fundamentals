{
 "cells": [
  {
   "cell_type": "markdown",
   "metadata": {},
   "source": [
    "### Project - Working with Dates and Times in Python\n",
    "PART ONE\n",
    "- Combining dates and times | time-deltas\n",
    "- ISO 8601 format\n",
    "- Turning Strings into Dates\n",
    "- STRFTIME\n",
    "\n",
    "PART TWO\n",
    "- Generate random time series data (Pandas dataframe analysis)\n",
    "- Data Visualizations\n",
    "- Percentage changes & difference\n",
    "- Correlation analyis\n",
    "- Run an Only Least Square Regression (OLS) model \n",
    "- Autocorrelation Analysis"
   ]
  },
  {
   "cell_type": "code",
   "execution_count": 1,
   "metadata": {},
   "outputs": [],
   "source": [
    "#import numpy & pandas\n",
    "import numpy as np\n",
    "import pandas as pd\n",
    "\n",
    "#import date\n",
    "from datetime import date\n",
    "#import datetime module\n",
    "from datetime import datetime\n",
    "#import timedeltas\n",
    "from datetime import timedelta\n",
    "\n",
    "#Import statsmodels for regression\n",
    "import statsmodels.api as sm"
   ]
  },
  {
   "cell_type": "markdown",
   "metadata": {},
   "source": [
    "##### Combining Dates and Times / Time-deltas# "
   ]
  },
  {
   "cell_type": "code",
   "execution_count": 2,
   "metadata": {},
   "outputs": [
    {
     "name": "stdout",
     "output_type": "stream",
     "text": [
      "2017-10-09 23:10:47\n",
      "2018-01-06 22:45:50\n",
      "88\n"
     ]
    },
    {
     "data": {
      "text/plain": [
       "datetime.timedelta(days=88, seconds=84903)"
      ]
     },
     "metadata": {},
     "output_type": "display_data"
    },
    {
     "data": {
      "text/plain": [
       "7688103.0"
      ]
     },
     "metadata": {},
     "output_type": "display_data"
    }
   ],
   "source": [
    "#Create example datetimes\n",
    "start = datetime(2017,10,9,23,10,47)\n",
    "end = datetime(2018,1,6,22,45,50)\n",
    "print(start)\n",
    "print(end)\n",
    "#Access number of days between two dates (.days attribute of timedelat object)\n",
    "print((end - start).days)\n",
    "#Subtract datetimes \n",
    "duration = end - start\n",
    "display(duration, duration.total_seconds())"
   ]
  },
  {
   "cell_type": "markdown",
   "metadata": {},
   "source": [
    "##### Timedeltas"
   ]
  },
  {
   "cell_type": "code",
   "execution_count": 3,
   "metadata": {},
   "outputs": [
    {
     "name": "stdout",
     "output_type": "stream",
     "text": [
      "2017-10-09 23:10:47\n",
      "2017-10-09 23:10:48\n",
      "2017-10-10 23:20:47\n",
      "2017-10-10 23:10:48\n",
      "2017-10-01 23:10:47\n"
     ]
    }
   ],
   "source": [
    "#Create timedeltas\n",
    "delta1 = timedelta(seconds = 1)\n",
    "delta2 = timedelta(days = 1, minutes = 10)\n",
    "delta3 = timedelta(days = 1, seconds = 1)\n",
    "delta4 = timedelta(days = -1, weeks = -1)\n",
    "\n",
    "print(start)\n",
    "print(start + delta1)\n",
    "print(start + delta2)\n",
    "print(start + delta3)\n",
    "print(start + delta4)"
   ]
  },
  {
   "cell_type": "markdown",
   "metadata": {},
   "source": [
    "##### ISO 8601 format"
   ]
  },
  {
   "cell_type": "code",
   "execution_count": 4,
   "metadata": {},
   "outputs": [
    {
     "name": "stdout",
     "output_type": "stream",
     "text": [
      "2020-04-01\n",
      "['2020-04-01']\n",
      "[datetime.date(2020, 1, 1), datetime.date(2020, 2, 1), datetime.date(2020, 3, 1), datetime.date(2020, 4, 1)]\n"
     ]
    }
   ],
   "source": [
    "#create dates\n",
    "d11 = date(2020,1,1)\n",
    "d22 = date(2020,2,1)\n",
    "d33 = date(2020,3,1)\n",
    "d44 = date(2020,4,1)\n",
    "\n",
    "#express specific date in isoformat\n",
    "print(d44.isoformat())\n",
    "#express specific date in isoformat and put in a list\n",
    "print([d44.isoformat()])\n",
    "\n",
    "dates = [d11,d22,d33,d44]\n",
    "print(dates)"
   ]
  },
  {
   "cell_type": "markdown",
   "metadata": {},
   "source": [
    "#####  Turning Strings into Dates"
   ]
  },
  {
   "cell_type": "code",
   "execution_count": 5,
   "metadata": {},
   "outputs": [
    {
     "name": "stdout",
     "output_type": "stream",
     "text": [
      "<class 'datetime.date'>\n",
      "2020-10-27\n"
     ]
    }
   ],
   "source": [
    "#Create string\n",
    "date_str = '10-27-2020'\n",
    "#Convert to datetime - strptime\n",
    "dto = datetime.strptime(date_str, '%m-%d-%Y').date()\n",
    "print(type(dto))\n",
    "print(dto)"
   ]
  },
  {
   "cell_type": "markdown",
   "metadata": {},
   "source": [
    "Through experimentation it is understood that in order to convert strings into datetime class the string must be in the correct format otherwise the conversion will produce an error. This gives insight into the trouble error or incorrect formatting within datasets may cause for data scientists working with date time datasets."
   ]
  },
  {
   "cell_type": "markdown",
   "metadata": {},
   "source": [
    "###### STRFTIME\n",
    "Convert datetime to string"
   ]
  },
  {
   "cell_type": "code",
   "execution_count": 6,
   "metadata": {},
   "outputs": [
    {
     "name": "stdout",
     "output_type": "stream",
     "text": [
      "2019-12-27\n",
      "<class 'datetime.date'>\n",
      "Year 2019\n",
      "Month 12\n",
      "27\n",
      "<class 'str'>\n"
     ]
    }
   ],
   "source": [
    "#Intialize a datetime\n",
    "sd = date(2019,12,27)\n",
    "print(sd)\n",
    "print(type(sd))\n",
    "#Initialize strftime\n",
    "print(sd.strftime('Year %Y'))\n",
    "print(sd.strftime('Month %m'))\n",
    "print(sd.strftime('%d'))\n",
    "print(type(sd.strftime('%Y-%m-%d')))"
   ]
  },
  {
   "cell_type": "markdown",
   "metadata": {},
   "source": [
    "### Generate randomTime Series data - Pandas Dataframe Analysis"
   ]
  },
  {
   "cell_type": "code",
   "execution_count": 7,
   "metadata": {},
   "outputs": [
    {
     "name": "stdout",
     "output_type": "stream",
     "text": [
      "<class 'list'>\n",
      "[datetime.date(2018, 1, 1), datetime.date(2018, 1, 2), datetime.date(2018, 1, 3), datetime.date(2018, 1, 4), datetime.date(2018, 1, 5), datetime.date(2018, 1, 6), datetime.date(2018, 1, 7), datetime.date(2018, 1, 8)]\n",
      "2 days, 0:00:00\n",
      "[61, 107, 118, 23, 194, 172, 13, 90]\n",
      "[206, 206, 364, 202, 20, 396, 63, 303]\n",
      "<class 'pandas.core.series.Series'>\n",
      "<class 'pandas.core.frame.DataFrame'>\n",
      "<class 'pandas.core.frame.DataFrame'>\n",
      "RangeIndex: 8 entries, 0 to 7\n",
      "Data columns (total 3 columns):\n",
      " #   Column  Non-Null Count  Dtype \n",
      "---  ------  --------------  ----- \n",
      " 0   0       8 non-null      object\n",
      " 1   X       8 non-null      int64 \n",
      " 2   Y       8 non-null      int64 \n",
      "dtypes: int64(2), object(1)\n",
      "memory usage: 320.0+ bytes\n"
     ]
    },
    {
     "data": {
      "text/plain": [
       "(            0    X    Y\n",
       " 0  2018-01-01   61  206\n",
       " 1  2018-01-02  107  206\n",
       " 2  2018-01-03  118  364\n",
       " 3  2018-01-04   23  202\n",
       " 4  2018-01-05  194   20\n",
       " 5  2018-01-06  172  396\n",
       " 6  2018-01-07   13   63\n",
       " 7  2018-01-08   90  303,\n",
       " None,\n",
       "                 X           Y\n",
       " count    8.000000    8.000000\n",
       " mean    97.250000  220.000000\n",
       " std     64.864144  133.076777\n",
       " min     13.000000   20.000000\n",
       " 25%     51.500000  167.250000\n",
       " 50%     98.500000  206.000000\n",
       " 75%    131.500000  318.250000\n",
       " max    194.000000  396.000000)"
      ]
     },
     "execution_count": 7,
     "metadata": {},
     "output_type": "execute_result"
    }
   ],
   "source": [
    "#create list of dates\n",
    "dates_str = ['1-1-2018','1-2-2018', '1-3-2018','1-4-2018','1-5-2018','1-6-2018','1-7-2018','1-8-2018']\n",
    "\n",
    "#convert strings into a list\n",
    "##creat empty list\n",
    "dates_lst = []\n",
    "#initialize a for loop\n",
    "for date in dates_str:\n",
    "    dates_lst.append(datetime.strptime(date, '%m-%d-%Y').date())\n",
    "print(type(dates_lst))\n",
    "print(dates_lst)\n",
    "print(dates_lst[3] - dates_lst[1])\n",
    "\n",
    "### Creating Dataframe\n",
    "#create empty list\n",
    "randomlistX = []\n",
    "randomlistY = []\n",
    "\n",
    "#Randomly generate numbers for dataframe\n",
    "import random\n",
    "for x in range(0,8):\n",
    "    n = random.randint(1,200)\n",
    "    randomlistX.append(n)\n",
    "for y in range(0,8):\n",
    "    z = random.randint(1,400)\n",
    "    randomlistY.append(z)\n",
    "print(randomlistX)\n",
    "print(randomlistY)\n",
    "\n",
    "#Add dates to dataframe \n",
    "new_df = pd.DataFrame(dates_lst)\n",
    "#add randomly generated data to dataframe\n",
    "new_df['X'] = randomlistX\n",
    "new_df['Y'] = randomlistY\n",
    "\n",
    "print(type(new_df[0]))\n",
    "print(type(new_df[:1]))\n",
    "new_df, new_df.info(), new_df.describe()"
   ]
  },
  {
   "cell_type": "markdown",
   "metadata": {},
   "source": [
    "##### Data Visualizations"
   ]
  },
  {
   "cell_type": "code",
   "execution_count": 11,
   "metadata": {},
   "outputs": [
    {
     "data": {
      "image/png": "[encoded data removed]",
      "text/plain": [
       "<Figure size 432x288 with 1 Axes>"
      ]
     },
     "metadata": {},
     "output_type": "display_data"
    }
   ],
   "source": [
    "import matplotlib.pyplot as plt\n",
    "import seaborn as sns\n",
    "sns.distplot(new_df['Y'],kde = True, hist = True, color = 'r')\n",
    "sns.set_style('darkgrid')\n",
    "plt.show()"
   ]
  },
  {
   "cell_type": "code",
   "execution_count": 12,
   "metadata": {},
   "outputs": [
    {
     "data": {
      "image/png": "[encoded data removed]",
      "text/plain": [
       "<Figure size 432x288 with 1 Axes>"
      ]
     },
     "metadata": {},
     "output_type": "display_data"
    }
   ],
   "source": [
    "import matplotlib.pyplot as plt\n",
    "import seaborn as sns\n",
    "sns.distplot(new_df['X'],kde = True, hist = True, color = 'b')\n",
    "sns.set_style('darkgrid')\n",
    "plt.show()"
   ]
  },
  {
   "cell_type": "markdown",
   "metadata": {},
   "source": [
    "### Time Series Analysis"
   ]
  },
  {
   "cell_type": "code",
   "execution_count": 13,
   "metadata": {},
   "outputs": [
    {
     "data": {
      "text/html": [
       "<div>\n",
       "<style scoped>\n",
       "    .dataframe tbody tr th:only-of-type {\n",
       "        vertical-align: middle;\n",
       "    }\n",
       "\n",
       "    .dataframe tbody tr th {\n",
       "        vertical-align: top;\n",
       "    }\n",
       "\n",
       "    .dataframe thead th {\n",
       "        text-align: right;\n",
       "    }\n",
       "</style>\n",
       "<table border=\"1\" class=\"dataframe\">\n",
       "  <thead>\n",
       "    <tr style=\"text-align: right;\">\n",
       "      <th></th>\n",
       "      <th>0</th>\n",
       "      <th>X</th>\n",
       "      <th>Y</th>\n",
       "    </tr>\n",
       "  </thead>\n",
       "  <tbody>\n",
       "    <tr>\n",
       "      <th>0</th>\n",
       "      <td>2018-01-01</td>\n",
       "      <td>61</td>\n",
       "      <td>206</td>\n",
       "    </tr>\n",
       "    <tr>\n",
       "      <th>1</th>\n",
       "      <td>2018-01-02</td>\n",
       "      <td>107</td>\n",
       "      <td>206</td>\n",
       "    </tr>\n",
       "    <tr>\n",
       "      <th>2</th>\n",
       "      <td>2018-01-03</td>\n",
       "      <td>118</td>\n",
       "      <td>364</td>\n",
       "    </tr>\n",
       "    <tr>\n",
       "      <th>3</th>\n",
       "      <td>2018-01-04</td>\n",
       "      <td>23</td>\n",
       "      <td>202</td>\n",
       "    </tr>\n",
       "    <tr>\n",
       "      <th>4</th>\n",
       "      <td>2018-01-05</td>\n",
       "      <td>194</td>\n",
       "      <td>20</td>\n",
       "    </tr>\n",
       "    <tr>\n",
       "      <th>5</th>\n",
       "      <td>2018-01-06</td>\n",
       "      <td>172</td>\n",
       "      <td>396</td>\n",
       "    </tr>\n",
       "    <tr>\n",
       "      <th>6</th>\n",
       "      <td>2018-01-07</td>\n",
       "      <td>13</td>\n",
       "      <td>63</td>\n",
       "    </tr>\n",
       "    <tr>\n",
       "      <th>7</th>\n",
       "      <td>2018-01-08</td>\n",
       "      <td>90</td>\n",
       "      <td>303</td>\n",
       "    </tr>\n",
       "  </tbody>\n",
       "</table>\n",
       "</div>"
      ],
      "text/plain": [
       "            0    X    Y\n",
       "0  2018-01-01   61  206\n",
       "1  2018-01-02  107  206\n",
       "2  2018-01-03  118  364\n",
       "3  2018-01-04   23  202\n",
       "4  2018-01-05  194   20\n",
       "5  2018-01-06  172  396\n",
       "6  2018-01-07   13   63\n",
       "7  2018-01-08   90  303"
      ]
     },
     "execution_count": 13,
     "metadata": {},
     "output_type": "execute_result"
    }
   ],
   "source": [
    "new_df"
   ]
  },
  {
   "cell_type": "markdown",
   "metadata": {},
   "source": [
    "###### Compute the percent changes & difference"
   ]
  },
  {
   "cell_type": "code",
   "execution_count": 14,
   "metadata": {},
   "outputs": [
    {
     "data": {
      "text/html": [
       "<div>\n",
       "<style scoped>\n",
       "    .dataframe tbody tr th:only-of-type {\n",
       "        vertical-align: middle;\n",
       "    }\n",
       "\n",
       "    .dataframe tbody tr th {\n",
       "        vertical-align: top;\n",
       "    }\n",
       "\n",
       "    .dataframe thead th {\n",
       "        text-align: right;\n",
       "    }\n",
       "</style>\n",
       "<table border=\"1\" class=\"dataframe\">\n",
       "  <thead>\n",
       "    <tr style=\"text-align: right;\">\n",
       "      <th></th>\n",
       "      <th>0</th>\n",
       "      <th>X</th>\n",
       "      <th>Y</th>\n",
       "      <th>pct change X</th>\n",
       "      <th>X diff</th>\n",
       "      <th>pct change Y</th>\n",
       "      <th>Y diff</th>\n",
       "    </tr>\n",
       "  </thead>\n",
       "  <tbody>\n",
       "    <tr>\n",
       "      <th>0</th>\n",
       "      <td>2018-01-01</td>\n",
       "      <td>61</td>\n",
       "      <td>206</td>\n",
       "      <td>NaN</td>\n",
       "      <td>NaN</td>\n",
       "      <td>NaN</td>\n",
       "      <td>NaN</td>\n",
       "    </tr>\n",
       "    <tr>\n",
       "      <th>1</th>\n",
       "      <td>2018-01-02</td>\n",
       "      <td>107</td>\n",
       "      <td>206</td>\n",
       "      <td>0.754098</td>\n",
       "      <td>46.0</td>\n",
       "      <td>0.000000</td>\n",
       "      <td>0.0</td>\n",
       "    </tr>\n",
       "    <tr>\n",
       "      <th>2</th>\n",
       "      <td>2018-01-03</td>\n",
       "      <td>118</td>\n",
       "      <td>364</td>\n",
       "      <td>0.102804</td>\n",
       "      <td>11.0</td>\n",
       "      <td>0.766990</td>\n",
       "      <td>158.0</td>\n",
       "    </tr>\n",
       "    <tr>\n",
       "      <th>3</th>\n",
       "      <td>2018-01-04</td>\n",
       "      <td>23</td>\n",
       "      <td>202</td>\n",
       "      <td>-0.805085</td>\n",
       "      <td>-95.0</td>\n",
       "      <td>-0.445055</td>\n",
       "      <td>-162.0</td>\n",
       "    </tr>\n",
       "    <tr>\n",
       "      <th>4</th>\n",
       "      <td>2018-01-05</td>\n",
       "      <td>194</td>\n",
       "      <td>20</td>\n",
       "      <td>7.434783</td>\n",
       "      <td>171.0</td>\n",
       "      <td>-0.900990</td>\n",
       "      <td>-182.0</td>\n",
       "    </tr>\n",
       "    <tr>\n",
       "      <th>5</th>\n",
       "      <td>2018-01-06</td>\n",
       "      <td>172</td>\n",
       "      <td>396</td>\n",
       "      <td>-0.113402</td>\n",
       "      <td>-22.0</td>\n",
       "      <td>18.800000</td>\n",
       "      <td>376.0</td>\n",
       "    </tr>\n",
       "    <tr>\n",
       "      <th>6</th>\n",
       "      <td>2018-01-07</td>\n",
       "      <td>13</td>\n",
       "      <td>63</td>\n",
       "      <td>-0.924419</td>\n",
       "      <td>-159.0</td>\n",
       "      <td>-0.840909</td>\n",
       "      <td>-333.0</td>\n",
       "    </tr>\n",
       "    <tr>\n",
       "      <th>7</th>\n",
       "      <td>2018-01-08</td>\n",
       "      <td>90</td>\n",
       "      <td>303</td>\n",
       "      <td>5.923077</td>\n",
       "      <td>77.0</td>\n",
       "      <td>3.809524</td>\n",
       "      <td>240.0</td>\n",
       "    </tr>\n",
       "  </tbody>\n",
       "</table>\n",
       "</div>"
      ],
      "text/plain": [
       "            0    X    Y  pct change X  X diff  pct change Y  Y diff\n",
       "0  2018-01-01   61  206           NaN     NaN           NaN     NaN\n",
       "1  2018-01-02  107  206      0.754098    46.0      0.000000     0.0\n",
       "2  2018-01-03  118  364      0.102804    11.0      0.766990   158.0\n",
       "3  2018-01-04   23  202     -0.805085   -95.0     -0.445055  -162.0\n",
       "4  2018-01-05  194   20      7.434783   171.0     -0.900990  -182.0\n",
       "5  2018-01-06  172  396     -0.113402   -22.0     18.800000   376.0\n",
       "6  2018-01-07   13   63     -0.924419  -159.0     -0.840909  -333.0\n",
       "7  2018-01-08   90  303      5.923077    77.0      3.809524   240.0"
      ]
     },
     "execution_count": 14,
     "metadata": {},
     "output_type": "execute_result"
    }
   ],
   "source": [
    "#Computing the percentage changes and difference via pandas methods\n",
    "new_df['pct change X'] = new_df['X'].pct_change()\n",
    "new_df['X diff'] = new_df['X'].diff()\n",
    "new_df['pct change Y'] = new_df['Y'].pct_change()\n",
    "new_df['Y diff'] = new_df['Y'].diff()\n",
    "new_df"
   ]
  },
  {
   "cell_type": "markdown",
   "metadata": {},
   "source": [
    "###### Correlation Analysis"
   ]
  },
  {
   "cell_type": "code",
   "execution_count": 15,
   "metadata": {},
   "outputs": [
    {
     "data": {
      "image/png": "[encoded data removed]",
      "text/plain": [
       "<Figure size 432x288 with 1 Axes>"
      ]
     },
     "metadata": {},
     "output_type": "display_data"
    }
   ],
   "source": [
    "#scatterplot (visualizing the correlation of data-points)\n",
    "plt.scatter(new_df['X'],new_df['Y'])\n",
    "plt.show()"
   ]
  },
  {
   "cell_type": "code",
   "execution_count": 16,
   "metadata": {},
   "outputs": [
    {
     "name": "stdout",
     "output_type": "stream",
     "text": [
      "Correlation X Y:  -0.15308283436927067\n"
     ]
    }
   ],
   "source": [
    "print('Correlation X Y: ',new_df['pct change X'].corr(new_df['pct change Y']))"
   ]
  },
  {
   "cell_type": "markdown",
   "metadata": {},
   "source": [
    "##### Run an Only Least Squares Regression Model (OLS) that fits the data\n",
    "- Minimizes the sum of squared distances between the data points and regression line\n",
    "\n",
    "Aim of Linear Regression is to find the best fit line to the data"
   ]
  },
  {
   "cell_type": "code",
   "execution_count": 17,
   "metadata": {},
   "outputs": [
    {
     "name": "stderr",
     "output_type": "stream",
     "text": [
      "C:\\Users\\Dean_\\Anaconda3\\lib\\site-packages\\pandas\\core\\series.py:679: RuntimeWarning: invalid value encountered in reduce\n",
      "  result = getattr(ufunc, method)(*inputs, **kwargs)\n"
     ]
    }
   ],
   "source": [
    "#Add a constant to Dataframe for Regression Intercept\n",
    "new_df = sm.add_constant(new_df)"
   ]
  },
  {
   "cell_type": "code",
   "execution_count": 18,
   "metadata": {},
   "outputs": [
    {
     "name": "stdout",
     "output_type": "stream",
     "text": [
      "                                 OLS Regression Results                                \n",
      "=======================================================================================\n",
      "Dep. Variable:           pct change Y   R-squared (uncentered):                   0.007\n",
      "Model:                            OLS   Adj. R-squared (uncentered):             -0.159\n",
      "Method:                 Least Squares   F-statistic:                            0.03942\n",
      "Date:                Tue, 29 Jun 2021   Prob (F-statistic):                       0.849\n",
      "Time:                        11:49:08   Log-Likelihood:                         -23.799\n",
      "No. Observations:                   7   AIC:                                      49.60\n",
      "Df Residuals:                       6   BIC:                                      49.54\n",
      "Df Model:                           1                                                  \n",
      "Covariance Type:            nonrobust                                                  \n",
      "================================================================================\n",
      "                   coef    std err          t      P>|t|      [0.025      0.975]\n",
      "--------------------------------------------------------------------------------\n",
      "pct change X     0.1617      0.814      0.199      0.849      -1.831       2.154\n",
      "==============================================================================\n",
      "Omnibus:                          nan   Durbin-Watson:                   2.273\n",
      "Prob(Omnibus):                    nan   Jarque-Bera (JB):                4.960\n",
      "Skew:                           1.863   Prob(JB):                       0.0837\n",
      "Kurtosis:                       4.766   Cond. No.                         1.00\n",
      "==============================================================================\n",
      "\n",
      "Warnings:\n",
      "[1] Standard Errors assume that the covariance matrix of the errors is correctly specified.\n"
     ]
    },
    {
     "name": "stderr",
     "output_type": "stream",
     "text": [
      "C:\\Users\\Dean_\\Anaconda3\\lib\\site-packages\\statsmodels\\stats\\stattools.py:70: ValueWarning: omni_normtest is not valid with less than 8 observations; 7 samples were given.\n",
      "  warn(\"omni_normtest is not valid with less than 8 observations; %i \"\n"
     ]
    }
   ],
   "source": [
    "#Drop NAN Values\n",
    "new_df = new_df.dropna()\n",
    "#Initialize OLS Model\n",
    "regress = sm.OLS(new_df['pct change Y'], new_df['pct change X']).fit()\n",
    "print(regress.summary())"
   ]
  },
  {
   "cell_type": "code",
   "execution_count": 19,
   "metadata": {},
   "outputs": [
    {
     "data": {
      "text/plain": [
       "0.1616808945127215"
      ]
     },
     "execution_count": 19,
     "metadata": {},
     "output_type": "execute_result"
    }
   ],
   "source": [
    "#Intercept\n",
    "regress.params[0]"
   ]
  },
  {
   "cell_type": "markdown",
   "metadata": {},
   "source": [
    "###### R - Squared"
   ]
  },
  {
   "cell_type": "markdown",
   "metadata": {},
   "source": [
    "###### Autocorrelation\n",
    "\n",
    "Autocorrelation is a mathematical representation of the degree of similarity between a given time series and a lagged copy of itself over succesive time intervals. \n",
    "Its conceptually similar to the correlation between two different time series, but autocorrelation uses the same time series twice: once in its original form and once lagged one or more time periods.\n",
    "\n",
    "Autocrrelation can also be referred to as a lagged correlation or serial correlation, as it measures the relationship between a features current value and its past value."
   ]
  },
  {
   "cell_type": "code",
   "execution_count": 37,
   "metadata": {},
   "outputs": [
    {
     "name": "stdout",
     "output_type": "stream",
     "text": [
      "The autocorrelation of X pct change is: -0.41735966952934794\n",
      "The autocorrelation of Y pct change is: -0.3238348315388847\n"
     ]
    }
   ],
   "source": [
    "#Compute Autocorrelations\n",
    "autocorrelationx = new_df['pct change X'].autocorr()\n",
    "print('The autocorrelation of X pct change is:', autocorrelationx)\n",
    "\n",
    "autocorrelationy = new_df['pct change Y'].autocorr()\n",
    "print('The autocorrelation of Y pct change is:', autocorrelationy)"
   ]
  },
  {
   "cell_type": "code",
   "execution_count": 38,
   "metadata": {},
   "outputs": [
    {
     "data": {
      "image/png": "[encoded data removed]",
      "text/plain": [
       "<Figure size 432x288 with 1 Axes>"
      ]
     },
     "execution_count": 38,
     "metadata": {},
     "output_type": "execute_result"
    },
    {
     "data": {
      "image/png": "[encoded data removed]",
      "text/plain": [
       "<Figure size 432x288 with 1 Axes>"
      ]
     },
     "metadata": {},
     "output_type": "display_data"
    }
   ],
   "source": [
    "from statsmodels.graphics.tsaplots import plot_acf\n",
    "plot_acf(new_df['pct change X'], lags=6)"
   ]
  },
  {
   "cell_type": "code",
   "execution_count": null,
   "metadata": {},
   "outputs": [],
   "source": []
  }
 ],
 "metadata": {
  "kernelspec": {
   "display_name": "Python 3",
   "language": "python",
   "name": "python3"
  },
  "language_info": {
   "codemirror_mode": {
    "name": "ipython",
    "version": 3
   },
   "file_extension": ".py",
   "mimetype": "text/x-python",
   "name": "python",
   "nbconvert_exporter": "python",
   "pygments_lexer": "ipython3",
   "version": "3.8.3"
  }
 },
 "nbformat": 4,
 "nbformat_minor": 4
}
