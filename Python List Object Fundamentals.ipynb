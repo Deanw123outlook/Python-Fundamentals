{
 "cells": [
  {
   "cell_type": "markdown",
   "metadata": {},
   "source": [
    "### Python List Object Fundamentals"
   ]
  },
  {
   "cell_type": "markdown",
   "metadata": {},
   "source": [
    "Import Libraries"
   ]
  },
  {
   "cell_type": "code",
   "execution_count": 1,
   "metadata": {},
   "outputs": [],
   "source": [
    "import numpy as np\n",
    "import pandas as pd"
   ]
  },
  {
   "cell_type": "code",
   "execution_count": 3,
   "metadata": {},
   "outputs": [],
   "source": [
    "sort_list = [25, 4, 6, 5, 7, 12, 1, 9, 2, 13, 1, 11] # initiate list"
   ]
  },
  {
   "cell_type": "markdown",
   "metadata": {},
   "source": [
    "List Analysis"
   ]
  },
  {
   "cell_type": "code",
   "execution_count": 4,
   "metadata": {},
   "outputs": [
    {
     "name": "stdout",
     "output_type": "stream",
     "text": [
      "12\n",
      "<class 'list'>\n",
      "<class 'int'> 25\n",
      "<class 'int'> 11\n"
     ]
    }
   ],
   "source": [
    "print(len(sort_list)) #list length\n",
    "print(type(sort_list)) #data type\n",
    "print(type(sort_list[0]),sort_list[0]) #zero indexing\n",
    "print(type(sort_list[-1]), sort_list[-1]) #zero indexing"
   ]
  },
  {
   "cell_type": "markdown",
   "metadata": {},
   "source": [
    "List Looping"
   ]
  },
  {
   "cell_type": "code",
   "execution_count": 5,
   "metadata": {},
   "outputs": [
    {
     "name": "stdout",
     "output_type": "stream",
     "text": [
      "25\n",
      "Invalid Numeric\n",
      "Invalid Numeric\n",
      "Invalid Numeric\n",
      "Invalid Numeric\n",
      "12\n",
      "Invalid Numeric\n",
      "Invalid Numeric\n",
      "Invalid Numeric\n",
      "13\n",
      "Invalid Numeric\n",
      "11\n"
     ]
    }
   ],
   "source": [
    "#for loop experimentation 1\n",
    "for x in sort_list:\n",
    "    if x > 10:\n",
    "        print(x)\n",
    "    else:\n",
    "        print(\"Invalid Numeric\")"
   ]
  },
  {
   "cell_type": "code",
   "execution_count": 6,
   "metadata": {},
   "outputs": [
    {
     "name": "stdout",
     "output_type": "stream",
     "text": [
      "4\n",
      "5\n",
      "1\n",
      "2\n",
      "1\n"
     ]
    }
   ],
   "source": [
    "for x in sort_list: # for loop with while loop inside\n",
    "    while x <= 5: # while loop \n",
    "        print(x)\n",
    "        break # break keyword will exit the loop once condition has been met ( x less than 5)"
   ]
  },
  {
   "cell_type": "markdown",
   "metadata": {},
   "source": [
    "We will use range() function to iterate over the elements of list using Python For Loop in steps of 2."
   ]
  },
  {
   "cell_type": "code",
   "execution_count": 10,
   "metadata": {},
   "outputs": [
    {
     "name": "stdout",
     "output_type": "stream",
     "text": [
      " \n",
      "Range Experiment 1\n",
      "25\n",
      "6\n",
      "7\n",
      "1\n",
      "2\n",
      "1\n",
      " \n",
      "Range Experiment 2\n",
      "4\n",
      "6\n",
      "5\n",
      "7\n",
      "12\n",
      "1\n",
      "9\n",
      "2\n",
      "13\n",
      "1\n",
      "11\n",
      " \n",
      "Range Experiment 3\n",
      "25\n",
      "5\n",
      "1\n",
      "13\n"
     ]
    }
   ],
   "source": [
    "# range experiment 1\n",
    "print(\" \")\n",
    "print(\"Range Experiment 1\")\n",
    "for i in range(0, len(sort_list), 2) : # range(start, stop, step)\n",
    "    print(sort_list[i])\n",
    "# range experiment 2\n",
    "print(\" \")\n",
    "print(\"Range Experiment 2\")\n",
    "for y in range(1, len(sort_list),1):\n",
    "    print(sort_list[y])\n",
    "# range experiment 3\n",
    "print(\" \")\n",
    "print(\"Range Experiment 3\")\n",
    "for i in range(0, len(sort_list),3):\n",
    "    print(sort_list[i])"
   ]
  },
  {
   "cell_type": "markdown",
   "metadata": {},
   "source": [
    "Python list objects sort method ()"
   ]
  },
  {
   "cell_type": "code",
   "execution_count": 11,
   "metadata": {},
   "outputs": [
    {
     "name": "stdout",
     "output_type": "stream",
     "text": [
      "[1, 1, 2, 4, 5, 6, 7, 9, 11, 12, 13, 25]\n"
     ]
    }
   ],
   "source": [
    "#List object sort method\n",
    "sort_list.sort()\n",
    "print(sort_list)"
   ]
  },
  {
   "cell_type": "code",
   "execution_count": null,
   "metadata": {},
   "outputs": [],
   "source": []
  }
 ],
 "metadata": {
  "kernelspec": {
   "display_name": "Python 3",
   "language": "python",
   "name": "python3"
  },
  "language_info": {
   "codemirror_mode": {
    "name": "ipython",
    "version": 3
   },
   "file_extension": ".py",
   "mimetype": "text/x-python",
   "name": "python",
   "nbconvert_exporter": "python",
   "pygments_lexer": "ipython3",
   "version": "3.8.3"
  }
 },
 "nbformat": 4,
 "nbformat_minor": 4
}
